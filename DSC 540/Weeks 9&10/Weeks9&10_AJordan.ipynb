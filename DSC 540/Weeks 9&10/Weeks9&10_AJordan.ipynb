{
 "cells": [
  {
   "cell_type": "markdown",
   "id": "800a14a1",
   "metadata": {},
   "source": [
    "# Weeks 9&10 Exercises\n",
    "\n",
    "Author: Jordan,Andrew\n",
    "\n",
    "Date: 08/12/2022"
   ]
  },
  {
   "cell_type": "code",
   "execution_count": 30,
   "id": "3393e830",
   "metadata": {},
   "outputs": [
    {
     "data": {
      "text/plain": [
       "'C:\\\\Users\\\\Andrew\\\\Documents\\\\Grad School\\\\DSC 540 - Data Preparation\\\\Assignments'"
      ]
     },
     "execution_count": 30,
     "metadata": {},
     "output_type": "execute_result"
    }
   ],
   "source": [
    "import pandas as pd\n",
    "import numpy as np\n",
    "import matplotlib.pyplot as plt\n",
    "\n",
    "%pwd"
   ]
  },
  {
   "cell_type": "markdown",
   "id": "0f596353",
   "metadata": {},
   "source": [
    "## Activity 11, page 320"
   ]
  },
  {
   "cell_type": "code",
   "execution_count": 31,
   "id": "fdf12f47",
   "metadata": {},
   "outputs": [],
   "source": [
    "#Connect to the supplied petsDB database\n",
    "import sqlite3\n",
    "conn=sqlite3.connect(\"data/petsdb\")"
   ]
  },
  {
   "cell_type": "code",
   "execution_count": 32,
   "id": "d508e358",
   "metadata": {},
   "outputs": [],
   "source": [
    "#write a function to check whether the connection has been successful\n",
    "def did_it_connect(conn):\n",
    "    try:\n",
    "        print('Yep')\n",
    "    except Exception as ex:\n",
    "        print('Nope')"
   ]
  },
  {
   "cell_type": "code",
   "execution_count": 33,
   "id": "244984eb",
   "metadata": {
    "scrolled": true
   },
   "outputs": [
    {
     "name": "stdout",
     "output_type": "stream",
     "text": [
      "Yep\n"
     ]
    }
   ],
   "source": [
    "did_it_connect(conn)"
   ]
  },
  {
   "cell_type": "code",
   "execution_count": 34,
   "id": "be23c3f3",
   "metadata": {},
   "outputs": [],
   "source": [
    "#Find the different age groups in the persons database\n",
    "\n",
    "#Set c\n",
    "c = conn.cursor()"
   ]
  },
  {
   "cell_type": "code",
   "execution_count": 37,
   "id": "98bdaa13",
   "metadata": {},
   "outputs": [
    {
     "name": "stdout",
     "output_type": "stream",
     "text": [
      "Age: 5 count: 2\n",
      "Age: 6 count: 1\n",
      "Age: 7 count: 1\n",
      "Age: 8 count: 3\n",
      "Age: 9 count: 1\n",
      "Age: 11 count: 2\n",
      "Age: 12 count: 3\n",
      "Age: 13 count: 1\n",
      "Age: 14 count: 4\n",
      "Age: 16 count: 2\n",
      "Age: 17 count: 2\n",
      "Age: 18 count: 3\n",
      "Age: 19 count: 1\n",
      "Age: 22 count: 3\n",
      "Age: 23 count: 2\n",
      "Age: 24 count: 3\n",
      "Age: 25 count: 2\n",
      "Age: 27 count: 1\n",
      "Age: 30 count: 1\n",
      "Age: 31 count: 3\n",
      "Age: 32 count: 1\n",
      "Age: 33 count: 1\n",
      "Age: 34 count: 2\n",
      "Age: 35 count: 3\n",
      "Age: 36 count: 3\n",
      "Age: 37 count: 1\n",
      "Age: 39 count: 2\n",
      "Age: 40 count: 1\n",
      "Age: 42 count: 1\n",
      "Age: 44 count: 2\n",
      "Age: 48 count: 2\n",
      "Age: 49 count: 1\n",
      "Age: 50 count: 1\n",
      "Age: 51 count: 2\n",
      "Age: 52 count: 2\n",
      "Age: 53 count: 2\n",
      "Age: 54 count: 2\n",
      "Age: 58 count: 1\n",
      "Age: 59 count: 1\n",
      "Age: 60 count: 1\n",
      "Age: 61 count: 1\n",
      "Age: 62 count: 2\n",
      "Age: 63 count: 1\n",
      "Age: 65 count: 2\n",
      "Age: 66 count: 2\n",
      "Age: 67 count: 1\n",
      "Age: 68 count: 3\n",
      "Age: 69 count: 1\n",
      "Age: 70 count: 1\n",
      "Age: 71 count: 4\n",
      "Age: 72 count: 1\n",
      "Age: 73 count: 5\n",
      "Age: 74 count: 3\n"
     ]
    }
   ],
   "source": [
    "#Loop through table getting count of people by age\n",
    "for people, age in c.execute(\"SELECT count(*), age FROM persons GROUP BY age\"):\n",
    "    print('Age:', age, 'count:', people)"
   ]
  },
  {
   "cell_type": "code",
   "execution_count": 38,
   "id": "e6c5480f",
   "metadata": {},
   "outputs": [
    {
     "name": "stdout",
     "output_type": "stream",
     "text": [
      "Age 73 count: 5\n"
     ]
    }
   ],
   "source": [
    "#Find the age group that has the maximum number of people\n",
    "\n",
    "#Loop through table getting count by age and sorting descending\n",
    "for people, age in c.execute(\"SELECT count(*), age FROM persons GROUP BY age ORDER BY count(*) DESC\"):\n",
    "    print('Age', age, 'count:', people)\n",
    "    break #Break to only print top entry"
   ]
  },
  {
   "cell_type": "code",
   "execution_count": 40,
   "id": "98dfefa9",
   "metadata": {},
   "outputs": [
    {
     "name": "stdout",
     "output_type": "stream",
     "text": [
      "First name: Erica\n",
      "First name: Jordi\n",
      "First name: Chasity\n",
      "First name: Gregg\n",
      "First name: Cary\n",
      "First name: Francisca\n",
      "First name: Raleigh\n",
      "First name: Maria\n",
      "First name: Mariane\n",
      "First name: Mona\n",
      "First name: Kayla\n",
      "First name: Karlie\n",
      "First name: Morris\n",
      "First name: Sandy\n",
      "First name: Hector\n",
      "First name: Hiram\n",
      "First name: Tressa\n",
      "First name: Berry\n",
      "First name: Pearline\n",
      "First name: Maynard\n",
      "First name: Dorian\n",
      "First name: Mylene\n",
      "First name: Lafayette\n",
      "First name: Tara\n",
      "First name: Destiny\n",
      "First name: Lesly\n",
      "First name: Perry\n",
      "First name: Maritza\n",
      "First name: Grant\n",
      "First name: Laury\n",
      "First name: Name\n",
      "First name: Estefania\n",
      "First name: Destiney\n",
      "First name: Jaquelin\n",
      "First name: Alfonzo\n",
      "First name: Lisandro\n",
      "First name: Priscilla\n",
      "First name: Elenora\n",
      "First name: Rudolph\n",
      "First name: Ona\n",
      "First name: Rebeca\n",
      "First name: Sigurd\n",
      "First name: Alice\n",
      "First name: Dane\n",
      "First name: Judge\n",
      "First name: Allene\n",
      "First name: Jalen\n",
      "First name: Myron\n",
      "First name: Travon\n",
      "First name: Shayna\n",
      "First name: Myah\n",
      "First name: Letha\n",
      "First name: Felton\n",
      "First name: London\n",
      "First name: Koby\n",
      "First name: Golden\n",
      "First name: Anissa\n",
      "First name: Sid\n",
      "First name: Ernesto\n",
      "First name: Josianne\n"
     ]
    }
   ],
   "source": [
    "#Find the people who do not have a last name\n",
    "\n",
    "#Loop through table getting first names with null last name\n",
    "for name in c.execute(\"SELECT first_name FROM persons WHERE last_name IS null\"):\n",
    "    print('First name:', name[0])"
   ]
  },
  {
   "cell_type": "code",
   "execution_count": 41,
   "id": "d7474f38",
   "metadata": {},
   "outputs": [
    {
     "name": "stdout",
     "output_type": "stream",
     "text": [
      "43 people have more than one pet\n"
     ]
    }
   ],
   "source": [
    "#Find out how many people have more than one pet\n",
    "\n",
    "\n",
    "#Find duplicate owner ids\n",
    "res = c.execute(\"SELECT count(*) FROM (SELECT count(owner_id) FROM pets GROUP BY owner_id HAVING count(owner_id)>1)\")\n",
    "\n",
    "for row in res:\n",
    "    print(row[0], 'people have more than one pet')"
   ]
  },
  {
   "cell_type": "code",
   "execution_count": 43,
   "id": "8ed14488",
   "metadata": {},
   "outputs": [
    {
     "name": "stdout",
     "output_type": "stream",
     "text": [
      "36 pets have received treatment\n"
     ]
    }
   ],
   "source": [
    "#Find out how many pets have received treatment\n",
    "\n",
    "\n",
    "#Find all treatment_done with 1 value \n",
    "res = c.execute(\"SELECT count(*) FROM pets WHERE treatment_done=1\")\n",
    "\n",
    "for row in res:\n",
    "    print(row[0], 'pets have received treatment')"
   ]
  },
  {
   "cell_type": "code",
   "execution_count": 44,
   "id": "f54ded3f",
   "metadata": {},
   "outputs": [
    {
     "name": "stdout",
     "output_type": "stream",
     "text": [
      "16 pets have receieved treatment with a known type of pet\n"
     ]
    }
   ],
   "source": [
    "#Find out how many pets have received treatment and the type of pet is known\n",
    "\n",
    "\n",
    "#Find all treatment_done with 1 value and pet_type not null\n",
    "res = c.execute(\"SELECT count(*) FROM pets WHERE treatment_done=1 AND pet_type IS NOT null\")\n",
    "\n",
    "for row in res:\n",
    "    print(row[0], 'pets have receieved treatment with a known type of pet')"
   ]
  },
  {
   "cell_type": "code",
   "execution_count": 47,
   "id": "785c47db",
   "metadata": {},
   "outputs": [
    {
     "name": "stdout",
     "output_type": "stream",
     "text": [
      "49 pets are from East Port\n"
     ]
    }
   ],
   "source": [
    "#Find out how many pets are from the city called east port\n",
    "\n",
    "#Join tables and find results where city=eastport\n",
    "res = c.execute(\"SELECT count(*) FROM pets JOIN persons on pets.owner_id = persons.id WHERE persons.city='east port'\")\n",
    "\n",
    "for row in res:\n",
    "    print(row[0], 'pets are from East Port')"
   ]
  },
  {
   "cell_type": "code",
   "execution_count": 48,
   "id": "3804f7f1",
   "metadata": {},
   "outputs": [
    {
     "name": "stdout",
     "output_type": "stream",
     "text": [
      "11 treated pets are from East Port\n"
     ]
    }
   ],
   "source": [
    "#Find out how many pets are fro mthe city called east port and who received a treatment\n",
    "\n",
    "\n",
    "#Join tables and find results where city=eastport and treatment_done=1\n",
    "res = c.execute(\"SELECT count(*) FROM pets JOIN persons on pets.owner_id = persons.id WHERE persons.city='east port' AND pets.treatment_done=1\")\n",
    "\n",
    "\n",
    "for row in res:\n",
    "    print(row[0], 'treated pets are from East Port')"
   ]
  }
 ],
 "metadata": {
  "kernelspec": {
   "display_name": "Python 3 (ipykernel)",
   "language": "python",
   "name": "python3"
  },
  "language_info": {
   "codemirror_mode": {
    "name": "ipython",
    "version": 3
   },
   "file_extension": ".py",
   "mimetype": "text/x-python",
   "name": "python",
   "nbconvert_exporter": "python",
   "pygments_lexer": "ipython3",
   "version": "3.9.12"
  }
 },
 "nbformat": 4,
 "nbformat_minor": 5
}
