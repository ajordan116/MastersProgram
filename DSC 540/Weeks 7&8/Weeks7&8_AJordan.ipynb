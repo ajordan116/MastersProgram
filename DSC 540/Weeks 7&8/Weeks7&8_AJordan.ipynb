{
 "cells": [
  {
   "cell_type": "markdown",
   "id": "44080f98",
   "metadata": {},
   "source": [
    "# Weeks 7&8 Exercises\n",
    "\n",
    "Author: Jordan,Andrew\n",
    "\n",
    "Date: 07/30/2022"
   ]
  },
  {
   "cell_type": "code",
   "execution_count": 50,
   "id": "16a0ad3f",
   "metadata": {},
   "outputs": [
    {
     "data": {
      "text/plain": [
       "'C:\\\\Users\\\\Andrew\\\\Documents\\\\Grad School\\\\DSC 540 - Data Preparation\\\\Assignments'"
      ]
     },
     "execution_count": 50,
     "metadata": {},
     "output_type": "execute_result"
    }
   ],
   "source": [
    "import pandas as pd\n",
    "import numpy as np\n",
    "import matplotlib.pyplot as plt\n",
    "import seaborn as sns\n",
    "from bs4 import BeautifulSoup\n",
    "import urllib.request, urllib.parse, urllib.error\n",
    "import json\n",
    "import requests\n",
    "import ssl\n",
    "import re\n",
    "\n",
    "%pwd"
   ]
  },
  {
   "cell_type": "markdown",
   "id": "67c04f03",
   "metadata": {},
   "source": [
    "## Activity 9, page 294"
   ]
  },
  {
   "cell_type": "code",
   "execution_count": 18,
   "id": "0ac686ae",
   "metadata": {},
   "outputs": [],
   "source": [
    "#Check SSL Certificate\n",
    "cert_check = ssl.create_default_context()\n",
    "cert_check.check_hostname = False\n",
    "cert_check.verify_mode = ssl.CERT_NONE"
   ]
  },
  {
   "cell_type": "code",
   "execution_count": 19,
   "id": "436c71ab",
   "metadata": {},
   "outputs": [],
   "source": [
    "#Read html from url\n",
    "url = 'https://www.gutenberg.org/browse/scores/top'\n",
    "response = requests.get(url)"
   ]
  },
  {
   "cell_type": "code",
   "execution_count": 20,
   "id": "b9b50ed6",
   "metadata": {},
   "outputs": [],
   "source": [
    "#Write a small function to check the status of the web request\n",
    "def check_status(r):\n",
    "    if r.status_code==200:\n",
    "        print('Connection Up')\n",
    "        return 1\n",
    "    else:\n",
    "        print('Connection Down')\n",
    "        return -1"
   ]
  },
  {
   "cell_type": "code",
   "execution_count": 21,
   "id": "7c400fe6",
   "metadata": {},
   "outputs": [
    {
     "name": "stdout",
     "output_type": "stream",
     "text": [
      "Connection Up\n"
     ]
    },
    {
     "data": {
      "text/plain": [
       "1"
      ]
     },
     "execution_count": 21,
     "metadata": {},
     "output_type": "execute_result"
    }
   ],
   "source": [
    "#Check the status of response:\n",
    "check_status(response)"
   ]
  },
  {
   "cell_type": "code",
   "execution_count": 22,
   "id": "92d1d0f9",
   "metadata": {},
   "outputs": [],
   "source": [
    "#Decode the response and pass it on to BeautifulSoup for HTML Parsing\n",
    "r_decoded = response.content.decode(response.encoding)\n",
    "good_soup = BeautifulSoup(r_decoded,'html.parser')"
   ]
  },
  {
   "cell_type": "code",
   "execution_count": 23,
   "id": "e82c9c80",
   "metadata": {},
   "outputs": [
    {
     "data": {
      "text/plain": [
       "['/',\n",
       " '/about/',\n",
       " '/about/',\n",
       " '/policy/collection_development.html',\n",
       " '/about/contact_information.html',\n",
       " '/about/background/',\n",
       " '/policy/permission.html',\n",
       " '/policy/privacy_policy.html',\n",
       " '/policy/terms_of_use.html',\n",
       " '/ebooks/',\n",
       " '/ebooks/',\n",
       " '/ebooks/bookshelf/',\n",
       " '/browse/scores/top',\n",
       " '/ebooks/offline_catalogs.html',\n",
       " '/help/',\n",
       " '/help/',\n",
       " '/help/copyright.html',\n",
       " '/help/errata.html',\n",
       " '/help/file_formats.html',\n",
       " '/help/faq.html',\n",
       " '/policy/',\n",
       " '/help/public_domain_ebook_submission.html',\n",
       " '/help/submitting_your_own_work.html',\n",
       " '/help/mobile.html',\n",
       " '/attic/',\n",
       " '/donate/',\n",
       " '/donate/',\n",
       " '#books-last1',\n",
       " '#authors-last1',\n",
       " '#books-last7']"
      ]
     },
     "execution_count": 23,
     "metadata": {},
     "output_type": "execute_result"
    }
   ],
   "source": [
    "#Find all the href tags and store them in the list of links. Check how the list looks like - print first 30 elements\n",
    "list_o_links=[]\n",
    "\n",
    "for link in good_soup.find_all('a'):\n",
    "    list_o_links.append(link.get('href'))\n",
    "list_o_links[:30]"
   ]
  },
  {
   "cell_type": "code",
   "execution_count": 24,
   "id": "cc1e9d30",
   "metadata": {},
   "outputs": [],
   "source": [
    "#Use a regular expression to find the numeric digits in these links. These are the file numbers for hte top 100 eBooks.\n",
    "#Initialize the empty list to hold the file numbers over an appropriate range \n",
    "#and use regex to find the numeric digits in the link href string. Use the findall method\n",
    "num_digits=[]\n",
    "\n",
    "for i in range(19,119):\n",
    "    link=list_o_links[i]\n",
    "    link=link.strip()\n",
    "    # Regular expression to find the numeric digits in the link (href) string\n",
    "    n=re.findall('[0-9]+',link)\n",
    "    if len(n)==1:\n",
    "        # Append the filenumber casted as integer\n",
    "        num_digits.append(int(n[0]))"
   ]
  },
  {
   "cell_type": "code",
   "execution_count": 25,
   "id": "4cc39e8b",
   "metadata": {},
   "outputs": [
    {
     "name": "stdout",
     "output_type": "stream",
     "text": [
      "[1, 1, 7, 7, 30, 30, 1342, 11, 1661, 68771, 84, 58585, 2701, 174, 68769, 68765, 345, 98, 68768, 64317, 4300, 1232, 2591, 33283, 2600, 1400, 105, 1952, 2554, 35, 3176, 1184, 16328, 30254, 43, 5200, 6130, 25344, 1260, 2542, 68773, 514, 120, 74, 1080, 1497, 768, 219, 45, 76, 844, 16, 27827, 1399, 135, 46, 67098, 158, 5740, 4363, 55, 996, 28054, 68778, 205, 1727, 68772, 8492, 68767, 2680, 244, 68775, 2814, 3177, 68774, 161, 1998, 20228, 31284, 4980, 10, 215, 36, 766, 203, 236, 408, 3600, 730, 3825, 147, 12]\n"
     ]
    }
   ],
   "source": [
    "#Print the file numbers\n",
    "print(num_digits)"
   ]
  },
  {
   "cell_type": "code",
   "execution_count": 26,
   "id": "4a64d2f6",
   "metadata": {},
   "outputs": [
    {
     "name": "stdout",
     "output_type": "stream",
     "text": [
      "\n",
      "\n",
      "\n",
      "\n",
      "Top 100 | Project Gutenberg\n",
      "\n",
      "\n",
      "\n",
      "\n",
      "\n",
      "\n",
      "\n",
      "\n",
      "\n",
      "\n",
      "\n",
      "\n",
      "\n",
      "\n",
      "\n",
      "\n",
      "\n",
      "\n",
      "\n",
      "\n",
      "\n",
      "\n",
      "\n",
      "\n",
      "\n",
      "\n",
      "\n",
      "Menu▾\n",
      "\n",
      "\n",
      "\n",
      "About\n",
      "          ▾\n",
      "\n",
      "▾\n",
      "\n",
      "\n",
      "About Project Gutenberg\n",
      "Collection Development\n",
      "Contact Us\n",
      "History & Philosophy\n",
      "Permissions & License\n",
      "Privacy Policy\n",
      "Terms of Use\n",
      "\n",
      "\n",
      "\n",
      "Search and Browse\n",
      "      \t  ▾\n",
      "\n",
      "▾\n",
      "\n",
      "\n",
      "Book Search\n",
      "Bookshelves\n",
      "Frequently Downloaded\n",
      "Offline Catalogs\n",
      "\n",
      "\n",
      "\n",
      "Help\n",
      "          ▾\n",
      "\n",
      "▾\n",
      "\n",
      "\n",
      "All help topics →\n",
      "Copyright Procedures\n",
      "Errata, Fixes and Bug Reports\n",
      "File Formats\n",
      "Frequently Asked Questions\n",
      "Policies →\n",
      "Public Domain eBook Submission\n",
      "Submitting Your Own Work\n",
      "Tablets, Phones and eReaders\n",
      "The Attic →\n",
      "\n",
      "\n",
      "Donate\n",
      "\n",
      "\n",
      "\n",
      "\n",
      "\n",
      "\n",
      "\n",
      "\n",
      "\n",
      "\n",
      "Donation\n",
      "\n",
      "\n",
      "\n",
      "\n",
      "\n",
      "\n",
      "\n",
      "Frequently Viewed or Downloaded\n",
      "These listings are based on the number of times each eBook gets downloaded.\n",
      "      Multiple downloads from the same Internet address on the same day count as one download, and addresses that download more than 100 eBooks in a day are considered robots and are not counted.\n",
      "\n",
      "Downloaded Books\n",
      "2022-08-17160587\n",
      "last 7 days1033400\n",
      "last 30 days4472931\n",
      "\n",
      "\n",
      "\n",
      "Top 100 EBooks yesterday\n",
      "Top 100 Authors yesterday\n",
      "Top 100 EBooks last 7 days\n",
      "Top 100 Authors last 7 days\n",
      "Top 100 EBooks last 30 days\n",
      "Top 100 Authors last 30 days\n",
      "\n",
      "\n",
      "Top 100 EBooks yesterday\n",
      "\n",
      "Pride and Prejudice by Jane Austen (1876)\n",
      "Alice's Adventures in Wonderland by Lewis Carroll (1039)\n",
      "The Adventures of Sherlock Holmes by Arthur Conan Doyle (998)\n",
      "The soul of Lilith by Marie Corelli (780)\n",
      "Frankenstein; Or, The Modern Prometheus by Mary Wollstonecraft Shelley (756)\n",
      "The Prophet by Kahlil Gibran (654)\n",
      "Moby Dick; Or, The Whale by Herman Melville (653)\n",
      "The Picture of Dorian Gray by Oscar Wilde (652)\n",
      "A classical dictionary: containing a copious account of all the proper names mentioned in ancient au (640)\n",
      "Twenty-five years in the Secret Service: The recollections of a spy by Henri le Caron (593)\n",
      "Dracula by Bram Stoker (585)\n",
      "A Tale of Two Cities by Charles Dickens (566)\n",
      "Illustrations of the manners, customs, & condition of the North American Indians, Vol. I (of 2): Wit (553)\n",
      "The Great Gatsby by F. Scott  Fitzger\n"
     ]
    }
   ],
   "source": [
    "#What does the soup object's text look like? Use the .text method and print only the first \n",
    "# 2,000 characters (do not print the whole thing as it is too long). \n",
    "print(good_soup.text[:2000])"
   ]
  },
  {
   "cell_type": "code",
   "execution_count": 27,
   "id": "a88ebb90",
   "metadata": {},
   "outputs": [],
   "source": [
    "#Search in the extracted text (using regular expression) from the soup object to find \n",
    "#the names of top 100 Ebooks (Yesterday's rank)\n",
    "title_list=[]"
   ]
  },
  {
   "cell_type": "code",
   "execution_count": 28,
   "id": "fbbf143f",
   "metadata": {},
   "outputs": [],
   "source": [
    "#Create a starting index. It should point at the text \"Top 100 Ebooks yesterday\". \n",
    "#Hint: Use splitlines() method of the soup.text. It splits the lines of the text of the soup object.\n",
    "starting_index=good_soup.text.splitlines().index('Top 100 EBooks yesterday')"
   ]
  },
  {
   "cell_type": "code",
   "execution_count": 29,
   "id": "719deed4",
   "metadata": {},
   "outputs": [],
   "source": [
    "#Loop 1-100 to add the strings of next 100 lines to this temporary list. Hint: splitlines() method\n",
    "for i in range(100):\n",
    "    title_list.append(good_soup.text.splitlines()[starting_index+2+i])"
   ]
  },
  {
   "cell_type": "code",
   "execution_count": 30,
   "id": "cbe64910",
   "metadata": {},
   "outputs": [
    {
     "ename": "AttributeError",
     "evalue": "'NoneType' object has no attribute 'span'",
     "output_type": "error",
     "traceback": [
      "\u001b[1;31m---------------------------------------------------------------------------\u001b[0m",
      "\u001b[1;31mAttributeError\u001b[0m                            Traceback (most recent call last)",
      "\u001b[1;32m~\\AppData\\Local\\Temp\\ipykernel_25080\\2653769660.py\u001b[0m in \u001b[0;36m<cell line: 3>\u001b[1;34m()\u001b[0m\n\u001b[0;32m      2\u001b[0m \u001b[0mlist_titles\u001b[0m\u001b[1;33m=\u001b[0m\u001b[1;33m[\u001b[0m\u001b[1;33m]\u001b[0m\u001b[1;33m\u001b[0m\u001b[1;33m\u001b[0m\u001b[0m\n\u001b[0;32m      3\u001b[0m \u001b[1;32mfor\u001b[0m \u001b[0mi\u001b[0m \u001b[1;32min\u001b[0m \u001b[0mrange\u001b[0m\u001b[1;33m(\u001b[0m\u001b[1;36m100\u001b[0m\u001b[1;33m)\u001b[0m\u001b[1;33m:\u001b[0m\u001b[1;33m\u001b[0m\u001b[1;33m\u001b[0m\u001b[0m\n\u001b[1;32m----> 4\u001b[1;33m     \u001b[0mid1\u001b[0m\u001b[1;33m,\u001b[0m\u001b[0mid2\u001b[0m\u001b[1;33m=\u001b[0m\u001b[0mre\u001b[0m\u001b[1;33m.\u001b[0m\u001b[0mmatch\u001b[0m\u001b[1;33m(\u001b[0m\u001b[1;34m'^[a-zA-Z]* '\u001b[0m\u001b[1;33m,\u001b[0m\u001b[0mtitle_list\u001b[0m\u001b[1;33m[\u001b[0m\u001b[0mi\u001b[0m\u001b[1;33m]\u001b[0m\u001b[1;33m)\u001b[0m\u001b[1;33m.\u001b[0m\u001b[0mspan\u001b[0m\u001b[1;33m(\u001b[0m\u001b[1;33m)\u001b[0m\u001b[1;33m\u001b[0m\u001b[1;33m\u001b[0m\u001b[0m\n\u001b[0m\u001b[0;32m      5\u001b[0m     \u001b[0mlist_titles\u001b[0m\u001b[1;33m.\u001b[0m\u001b[0mappend\u001b[0m\u001b[1;33m(\u001b[0m\u001b[0mtitle_list\u001b[0m\u001b[1;33m[\u001b[0m\u001b[0mi\u001b[0m\u001b[1;33m]\u001b[0m\u001b[1;33m[\u001b[0m\u001b[0mid1\u001b[0m\u001b[1;33m:\u001b[0m\u001b[0mid2\u001b[0m\u001b[1;33m]\u001b[0m\u001b[1;33m)\u001b[0m\u001b[1;33m\u001b[0m\u001b[1;33m\u001b[0m\u001b[0m\n",
      "\u001b[1;31mAttributeError\u001b[0m: 'NoneType' object has no attribute 'span'"
     ]
    }
   ],
   "source": [
    "#Use a regular expression to extract only text from the name strings and append them to an empty list\n",
    "list_titles=[]\n",
    "for i in range(100):\n",
    "    id1,id2=re.match('^[a-zA-Z]* ',title_list[i]).span()\n",
    "    list_titles.append(title_list[i][id1:id2])"
   ]
  },
  {
   "cell_type": "code",
   "execution_count": 31,
   "id": "eb266463",
   "metadata": {},
   "outputs": [
    {
     "name": "stdout",
     "output_type": "stream",
     "text": [
      "Top \n",
      "Top \n",
      "Top \n",
      "Top \n"
     ]
    }
   ],
   "source": [
    "#Print list of titles\n",
    "for L in list_titles:\n",
    "    print(L)"
   ]
  },
  {
   "cell_type": "markdown",
   "id": "0b59a49b",
   "metadata": {},
   "source": [
    "## Connect to the Twitter API and do a simple data pull"
   ]
  },
  {
   "cell_type": "code",
   "execution_count": 32,
   "id": "18b28899",
   "metadata": {},
   "outputs": [],
   "source": [
    "import twitter"
   ]
  },
  {
   "cell_type": "code",
   "execution_count": 37,
   "id": "1d194e7b",
   "metadata": {},
   "outputs": [],
   "source": [
    "#assign api\n",
    "api = twitter.Api(consumer_key='oquIbXRnMhxYLAQMijo0dJ5WP',\n",
    "                 consumer_secret='IKDwmxOvOw4dghT9WnrnVbqmEUYjD93NFS5ViBIdsKkZDSKdTn',\n",
    "                 access_token_key='1524527501107732481-yzB0h6VJCS9kwTTPeRH87SBPO4AVIJ',\n",
    "                 access_token_secret='wYL9A6LIyKUwi4HBKFwOrYNt3FXOea2Dt1pAA9cFiLYYx')"
   ]
  },
  {
   "cell_type": "code",
   "execution_count": 39,
   "id": "f22109b2",
   "metadata": {},
   "outputs": [
    {
     "data": {
      "text/plain": [
       "User(ID=1524527501107732481, ScreenName=AJordan0211)"
      ]
     },
     "execution_count": 39,
     "metadata": {},
     "output_type": "execute_result"
    }
   ],
   "source": [
    "api.VerifyCredentials()"
   ]
  },
  {
   "cell_type": "code",
   "execution_count": 40,
   "id": "e6988753",
   "metadata": {},
   "outputs": [
    {
     "data": {
      "text/plain": [
       "[Status(ID=1560315278168399875, ScreenName=seattletimes, Created=Thu Aug 18 17:18:46 +0000 2022, Text='A University of Washington professor reported what officials believe is the first confirmed detection of the Atlas… https://t.co/YN6oPSuMmO'),\n",
       " Status(ID=1560099279158534144, ScreenName=KIRO7Seattle, Created=Thu Aug 18 03:00:28 +0000 2022, Text='A University of Washington professor initially reported a sighting of the atlas moth, which can have a wingspan of… https://t.co/dJaqqO6Sjr'),\n",
       " Status(ID=1560332441944047622, ScreenName=FroDiavolo, Created=Thu Aug 18 18:26:58 +0000 2022, Text='RT @seattletimes: A University of Washington professor reported what officials believe is the first confirmed detection of the Atlas moth i…'),\n",
       " Status(ID=1560329508200230912, ScreenName=jschickle, Created=Thu Aug 18 18:15:18 +0000 2022, Text='RT @seattletimes: A University of Washington professor reported what officials believe is the first confirmed detection of the Atlas moth i…'),\n",
       " Status(ID=1560326115788349440, ScreenName=journal_court, Created=Thu Aug 18 18:01:50 +0000 2022, Text='@pureblood55 @BenC137Helton @DeAngelisCorey I can understand. My kids were raised in Bellevue WA where the public s… https://t.co/RGNxo8fX3t'),\n",
       " Status(ID=1560324196529479683, ScreenName=CitizenFront, Created=Thu Aug 18 17:54:12 +0000 2022, Text='RT @seattletimes: A University of Washington professor reported what officials believe is the first confirmed detection of the Atlas moth i…'),\n",
       " Status(ID=1560322550810308608, ScreenName=vpkeenan, Created=Thu Aug 18 17:47:40 +0000 2022, Text='RT @seattletimes: A University of Washington professor reported what officials believe is the first confirmed detection of the Atlas moth i…'),\n",
       " Status(ID=1560319548212985856, ScreenName=sequoia2001, Created=Thu Aug 18 17:35:44 +0000 2022, Text='RT @seattletimes: A University of Washington professor reported what officials believe is the first confirmed detection of the Atlas moth i…'),\n",
       " Status(ID=1560319206918303745, ScreenName=breen_eye, Created=Thu Aug 18 17:34:22 +0000 2022, Text='RT @seattletimes: A University of Washington professor reported what officials believe is the first confirmed detection of the Atlas moth i…'),\n",
       " Status(ID=1560319020082925568, ScreenName=usustainme, Created=Thu Aug 18 17:33:38 +0000 2022, Text='RT @seattletimes: A University of Washington professor reported what officials believe is the first confirmed detection of the Atlas moth i…')]"
      ]
     },
     "execution_count": 40,
     "metadata": {},
     "output_type": "execute_result"
    }
   ],
   "source": [
    "api.GetSearch(term='Bellevue University', since=2022-6-1, count=10)"
   ]
  },
  {
   "cell_type": "code",
   "execution_count": 41,
   "id": "730cb0df",
   "metadata": {},
   "outputs": [
    {
     "data": {
      "text/plain": [
       "[Status(ID=1559797262678720514, ScreenName=MRobertsQLD, Created=Wed Aug 17 07:00:21 +0000 2022, Text='The \"Science\" (TM) behind the supposed climate crisis simply doesn\\'t stack up. \\n\\nWhen you look underneath the \"expe… https://t.co/s36X2YSuD2'),\n",
       " Status(ID=1559732116346310656, ScreenName=MartyMakary, Created=Wed Aug 17 02:41:29 +0000 2022, Text=\"Dr. Jha just said “it's going to be really important that people this fall and winter, get the new shot.”\\n\\nBut we’v… https://t.co/A7v87v86Uk\"),\n",
       " Status(ID=1559970845736452098, ScreenName=AP, Created=Wed Aug 17 18:30:07 +0000 2022, Text='The Centers for Disease Control and Prevention director plans to shake up the organization with changes intended to… https://t.co/gKP9LGWTr9'),\n",
       " Status(ID=1560333700029526016, ScreenName=arXiv_Daily, Created=Thu Aug 18 18:31:58 +0000 2022, Text='RT @Deep__AI: From the Machine Learning &amp; Data Science glossary: Quantum Computation Theory https://t.co/ptxThtPo0H #Probability #QuantumCo…'),\n",
       " Status(ID=1560333653783330819, ScreenName=slamzito1981, Created=Thu Aug 18 18:31:47 +0000 2022, Text='RT @avikumart_: Youtube is the best source to learn data science and machine learning for those who prefer video-based learning📈🤖\\n\\nHere are…'),\n",
       " Status(ID=1560333620304179200, ScreenName=Scatter_Cushion, Created=Thu Aug 18 18:31:39 +0000 2022, Text='RT @ki_irving: My final story interning with @NewsfromScience and @ScienceCareers! I had an amazing time chatting with @mona_minkara and tw…'),\n",
       " Status(ID=1560333581087563776, ScreenName=hardayborlah1, Created=Thu Aug 18 18:31:29 +0000 2022, Text='RT @avikumart_: Youtube is the best source to learn data science and machine learning for those who prefer video-based learning📈🤖\\n\\nHere are…'),\n",
       " Status(ID=1560333524229623810, ScreenName=chris_mieke, Created=Thu Aug 18 18:31:16 +0000 2022, Text='RT @CassavaSciences: $SAVA\\n\\nNo Evidence of Data Manipulation in Science Publication on Simufilam\\n\\nhttps://t.co/vFK78L78C6'),\n",
       " Status(ID=1560333505812480000, ScreenName=hoeve_jeroen, Created=Thu Aug 18 18:31:12 +0000 2022, Text='RT @MRobertsQLD: The \"Science\" (TM) behind the supposed climate crisis simply doesn\\'t stack up. \\n\\nWhen you look underneath the \"experts\" hi…'),\n",
       " Status(ID=1560333431980146696, ScreenName=fadaresamuel_, Created=Thu Aug 18 18:30:54 +0000 2022, Text='The greatest mistake you will be making in this Data Analytical journey is trying to be the best at every Data Anal… https://t.co/gH1bZ5nOIB')]"
      ]
     },
     "execution_count": 41,
     "metadata": {},
     "output_type": "execute_result"
    }
   ],
   "source": [
    "api.GetSearch(term='Data Science', since=2022-8-1, count=10)"
   ]
  },
  {
   "cell_type": "markdown",
   "id": "4f3d05b8",
   "metadata": {},
   "source": [
    "## Using one of the datasets provided, or a dataset of your own, choose 3 of the following visualizations to complete. You must submit via PDF along with your code. You are free to use Matplotlib, Seaborn or another package if you prefer."
   ]
  },
  {
   "cell_type": "markdown",
   "id": "b4f86446",
   "metadata": {},
   "source": [
    "### Density Plot"
   ]
  },
  {
   "cell_type": "code",
   "execution_count": 53,
   "id": "5c2d818f",
   "metadata": {},
   "outputs": [],
   "source": [
    "#Load data\n",
    "crime = pd.read_csv(\"data/crimerates-by-state-2005.csv\")"
   ]
  },
  {
   "cell_type": "code",
   "execution_count": 52,
   "id": "117eff07",
   "metadata": {},
   "outputs": [
    {
     "data": {
      "image/png": "[encoded data removed]",
      "text/plain": [
       "<Figure size 1440x1440 with 1 Axes>"
      ]
     },
     "metadata": {
      "needs_background": "light"
     },
     "output_type": "display_data"
    }
   ],
   "source": [
    "#Create density plot\n",
    "plt.figure(figsize=(20,20))\n",
    "crime['murder'].plot.kde()\n",
    "plt.title('Murders per 100,000')\n",
    "plt.xlabel('Murders')\n",
    "plt.ylabel('Count per 100,000')\n",
    "plt.show()"
   ]
  },
  {
   "cell_type": "markdown",
   "id": "0f3cb2a6",
   "metadata": {},
   "source": [
    "### Bar Chart"
   ]
  },
  {
   "cell_type": "code",
   "execution_count": 56,
   "id": "1ec26b51",
   "metadata": {},
   "outputs": [],
   "source": [
    "#Load data\n",
    "obamaDF = pd.read_excel('data/obama-approval-ratings.xls')"
   ]
  },
  {
   "cell_type": "code",
   "execution_count": 59,
   "id": "a4dd9df4",
   "metadata": {},
   "outputs": [
    {
     "data": {
      "image/png": "[encoded data removed]",
      "text/plain": [
       "<Figure size 432x288 with 1 Axes>"
      ]
     },
     "metadata": {
      "needs_background": "light"
     },
     "output_type": "display_data"
    }
   ],
   "source": [
    "#Create bar chart\n",
    "plt.bar(obamaDF.Issue, obamaDF.Disapprove, color='green', edgecolor='black')\n",
    "plt.title('Obama Approval Rating')\n",
    "plt.xticks(rotation=90)\n",
    "plt.show()"
   ]
  },
  {
   "cell_type": "markdown",
   "id": "8f17e7c2",
   "metadata": {},
   "source": [
    "### Histogram"
   ]
  },
  {
   "cell_type": "code",
   "execution_count": 60,
   "id": "fe682608",
   "metadata": {},
   "outputs": [],
   "source": [
    "#Load data \n",
    "crime = pd.read_csv('data/crimeratesbystate-formatted.csv')"
   ]
  },
  {
   "cell_type": "code",
   "execution_count": 61,
   "id": "98c29b4a",
   "metadata": {},
   "outputs": [
    {
     "data": {
      "image/png": "[encoded data removed]",
      "text/plain": [
       "<Figure size 2160x2160 with 9 Axes>"
      ]
     },
     "metadata": {
      "needs_background": "light"
     },
     "output_type": "display_data"
    }
   ],
   "source": [
    "#Create histograms\n",
    "crime.hist(bins = 15, edgecolor = \"black\", linewidth = 1.0, xlabelsize = 10, ylabelsize = 10, \n",
    "           grid = False, figsize = (30,30))\n",
    "plt.show()"
   ]
  }
 ],
 "metadata": {
  "kernelspec": {
   "display_name": "Python 3 (ipykernel)",
   "language": "python",
   "name": "python3"
  },
  "language_info": {
   "codemirror_mode": {
    "name": "ipython",
    "version": 3
   },
   "file_extension": ".py",
   "mimetype": "text/x-python",
   "name": "python",
   "nbconvert_exporter": "python",
   "pygments_lexer": "ipython3",
   "version": "3.9.12"
  }
 },
 "nbformat": 4,
 "nbformat_minor": 5
}
