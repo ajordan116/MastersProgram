{
 "cells": [
  {
   "cell_type": "markdown",
   "id": "b5cf64bb",
   "metadata": {},
   "source": [
    "# Exercise 3.2: Using Data to Improve MLB Attendance\n",
    "\n",
    "Author: Jordan, Andrew\n",
    "\n",
    "Date: 06/22/2022"
   ]
  },
  {
   "cell_type": "code",
   "execution_count": 91,
   "id": "a4ef29ca",
   "metadata": {},
   "outputs": [
    {
     "data": {
      "text/plain": [
       "'C:\\\\Users\\\\Andrew\\\\Documents\\\\Grad School\\\\DSC 630 - Predictive Analytics\\\\Assignments'"
      ]
     },
     "execution_count": 91,
     "metadata": {},
     "output_type": "execute_result"
    }
   ],
   "source": [
    "import numpy as np\n",
    "import pandas as pd\n",
    "import matplotlib.pyplot as plt\n",
    "from sklearn.dummy import DummyRegressor\n",
    "from sklearn.model_selection import train_test_split\n",
    "%pwd"
   ]
  },
  {
   "cell_type": "code",
   "execution_count": 92,
   "id": "fab3d5ea",
   "metadata": {
    "scrolled": true
   },
   "outputs": [
    {
     "data": {
      "text/html": [
       "<div>\n",
       "<style scoped>\n",
       "    .dataframe tbody tr th:only-of-type {\n",
       "        vertical-align: middle;\n",
       "    }\n",
       "\n",
       "    .dataframe tbody tr th {\n",
       "        vertical-align: top;\n",
       "    }\n",
       "\n",
       "    .dataframe thead th {\n",
       "        text-align: right;\n",
       "    }\n",
       "</style>\n",
       "<table border=\"1\" class=\"dataframe\">\n",
       "  <thead>\n",
       "    <tr style=\"text-align: right;\">\n",
       "      <th></th>\n",
       "      <th>month</th>\n",
       "      <th>day</th>\n",
       "      <th>attend</th>\n",
       "      <th>day_of_week</th>\n",
       "      <th>opponent</th>\n",
       "      <th>temp</th>\n",
       "      <th>skies</th>\n",
       "      <th>day_night</th>\n",
       "      <th>cap</th>\n",
       "      <th>shirt</th>\n",
       "      <th>fireworks</th>\n",
       "      <th>bobblehead</th>\n",
       "    </tr>\n",
       "  </thead>\n",
       "  <tbody>\n",
       "    <tr>\n",
       "      <th>0</th>\n",
       "      <td>APR</td>\n",
       "      <td>10</td>\n",
       "      <td>56000</td>\n",
       "      <td>Tuesday</td>\n",
       "      <td>Pirates</td>\n",
       "      <td>67</td>\n",
       "      <td>Clear</td>\n",
       "      <td>Day</td>\n",
       "      <td>NO</td>\n",
       "      <td>NO</td>\n",
       "      <td>NO</td>\n",
       "      <td>NO</td>\n",
       "    </tr>\n",
       "    <tr>\n",
       "      <th>1</th>\n",
       "      <td>APR</td>\n",
       "      <td>11</td>\n",
       "      <td>29729</td>\n",
       "      <td>Wednesday</td>\n",
       "      <td>Pirates</td>\n",
       "      <td>58</td>\n",
       "      <td>Cloudy</td>\n",
       "      <td>Night</td>\n",
       "      <td>NO</td>\n",
       "      <td>NO</td>\n",
       "      <td>NO</td>\n",
       "      <td>NO</td>\n",
       "    </tr>\n",
       "    <tr>\n",
       "      <th>2</th>\n",
       "      <td>APR</td>\n",
       "      <td>12</td>\n",
       "      <td>28328</td>\n",
       "      <td>Thursday</td>\n",
       "      <td>Pirates</td>\n",
       "      <td>57</td>\n",
       "      <td>Cloudy</td>\n",
       "      <td>Night</td>\n",
       "      <td>NO</td>\n",
       "      <td>NO</td>\n",
       "      <td>NO</td>\n",
       "      <td>NO</td>\n",
       "    </tr>\n",
       "    <tr>\n",
       "      <th>3</th>\n",
       "      <td>APR</td>\n",
       "      <td>13</td>\n",
       "      <td>31601</td>\n",
       "      <td>Friday</td>\n",
       "      <td>Padres</td>\n",
       "      <td>54</td>\n",
       "      <td>Cloudy</td>\n",
       "      <td>Night</td>\n",
       "      <td>NO</td>\n",
       "      <td>NO</td>\n",
       "      <td>YES</td>\n",
       "      <td>NO</td>\n",
       "    </tr>\n",
       "    <tr>\n",
       "      <th>4</th>\n",
       "      <td>APR</td>\n",
       "      <td>14</td>\n",
       "      <td>46549</td>\n",
       "      <td>Saturday</td>\n",
       "      <td>Padres</td>\n",
       "      <td>57</td>\n",
       "      <td>Cloudy</td>\n",
       "      <td>Night</td>\n",
       "      <td>NO</td>\n",
       "      <td>NO</td>\n",
       "      <td>NO</td>\n",
       "      <td>NO</td>\n",
       "    </tr>\n",
       "    <tr>\n",
       "      <th>5</th>\n",
       "      <td>APR</td>\n",
       "      <td>15</td>\n",
       "      <td>38359</td>\n",
       "      <td>Sunday</td>\n",
       "      <td>Padres</td>\n",
       "      <td>65</td>\n",
       "      <td>Clear</td>\n",
       "      <td>Day</td>\n",
       "      <td>NO</td>\n",
       "      <td>NO</td>\n",
       "      <td>NO</td>\n",
       "      <td>NO</td>\n",
       "    </tr>\n",
       "    <tr>\n",
       "      <th>6</th>\n",
       "      <td>APR</td>\n",
       "      <td>23</td>\n",
       "      <td>26376</td>\n",
       "      <td>Monday</td>\n",
       "      <td>Braves</td>\n",
       "      <td>60</td>\n",
       "      <td>Cloudy</td>\n",
       "      <td>Night</td>\n",
       "      <td>NO</td>\n",
       "      <td>NO</td>\n",
       "      <td>NO</td>\n",
       "      <td>NO</td>\n",
       "    </tr>\n",
       "    <tr>\n",
       "      <th>7</th>\n",
       "      <td>APR</td>\n",
       "      <td>24</td>\n",
       "      <td>44014</td>\n",
       "      <td>Tuesday</td>\n",
       "      <td>Braves</td>\n",
       "      <td>63</td>\n",
       "      <td>Cloudy</td>\n",
       "      <td>Night</td>\n",
       "      <td>NO</td>\n",
       "      <td>NO</td>\n",
       "      <td>NO</td>\n",
       "      <td>NO</td>\n",
       "    </tr>\n",
       "    <tr>\n",
       "      <th>8</th>\n",
       "      <td>APR</td>\n",
       "      <td>25</td>\n",
       "      <td>26345</td>\n",
       "      <td>Wednesday</td>\n",
       "      <td>Braves</td>\n",
       "      <td>64</td>\n",
       "      <td>Cloudy</td>\n",
       "      <td>Night</td>\n",
       "      <td>NO</td>\n",
       "      <td>NO</td>\n",
       "      <td>NO</td>\n",
       "      <td>NO</td>\n",
       "    </tr>\n",
       "    <tr>\n",
       "      <th>9</th>\n",
       "      <td>APR</td>\n",
       "      <td>27</td>\n",
       "      <td>44807</td>\n",
       "      <td>Friday</td>\n",
       "      <td>Nationals</td>\n",
       "      <td>66</td>\n",
       "      <td>Clear</td>\n",
       "      <td>Night</td>\n",
       "      <td>NO</td>\n",
       "      <td>NO</td>\n",
       "      <td>YES</td>\n",
       "      <td>NO</td>\n",
       "    </tr>\n",
       "  </tbody>\n",
       "</table>\n",
       "</div>"
      ],
      "text/plain": [
       "  month  day  attend day_of_week   opponent  temp   skies day_night cap shirt  \\\n",
       "0   APR   10   56000     Tuesday    Pirates    67  Clear        Day  NO    NO   \n",
       "1   APR   11   29729   Wednesday    Pirates    58  Cloudy     Night  NO    NO   \n",
       "2   APR   12   28328    Thursday    Pirates    57  Cloudy     Night  NO    NO   \n",
       "3   APR   13   31601      Friday     Padres    54  Cloudy     Night  NO    NO   \n",
       "4   APR   14   46549    Saturday     Padres    57  Cloudy     Night  NO    NO   \n",
       "5   APR   15   38359      Sunday     Padres    65  Clear        Day  NO    NO   \n",
       "6   APR   23   26376      Monday     Braves    60  Cloudy     Night  NO    NO   \n",
       "7   APR   24   44014     Tuesday     Braves    63  Cloudy     Night  NO    NO   \n",
       "8   APR   25   26345   Wednesday     Braves    64  Cloudy     Night  NO    NO   \n",
       "9   APR   27   44807      Friday  Nationals    66  Clear      Night  NO    NO   \n",
       "\n",
       "  fireworks bobblehead  \n",
       "0        NO         NO  \n",
       "1        NO         NO  \n",
       "2        NO         NO  \n",
       "3       YES         NO  \n",
       "4        NO         NO  \n",
       "5        NO         NO  \n",
       "6        NO         NO  \n",
       "7        NO         NO  \n",
       "8        NO         NO  \n",
       "9       YES         NO  "
      ]
     },
     "execution_count": 92,
     "metadata": {},
     "output_type": "execute_result"
    }
   ],
   "source": [
    "#Load data\n",
    "dodgers_df = pd.read_csv(\"data/dodgers-2022.csv\")\n",
    "dodgers_df.head(10)"
   ]
  },
  {
   "cell_type": "code",
   "execution_count": 93,
   "id": "41124bbb",
   "metadata": {
    "scrolled": false
   },
   "outputs": [
    {
     "data": {
      "text/html": [
       "<div>\n",
       "<style scoped>\n",
       "    .dataframe tbody tr th:only-of-type {\n",
       "        vertical-align: middle;\n",
       "    }\n",
       "\n",
       "    .dataframe tbody tr th {\n",
       "        vertical-align: top;\n",
       "    }\n",
       "\n",
       "    .dataframe thead th {\n",
       "        text-align: right;\n",
       "    }\n",
       "</style>\n",
       "<table border=\"1\" class=\"dataframe\">\n",
       "  <thead>\n",
       "    <tr style=\"text-align: right;\">\n",
       "      <th></th>\n",
       "      <th>month</th>\n",
       "      <th>day</th>\n",
       "      <th>attend</th>\n",
       "      <th>day_of_week</th>\n",
       "      <th>opponent</th>\n",
       "      <th>temp</th>\n",
       "      <th>skies</th>\n",
       "      <th>day_night</th>\n",
       "      <th>cap</th>\n",
       "      <th>shirt</th>\n",
       "      <th>fireworks</th>\n",
       "      <th>bobblehead</th>\n",
       "    </tr>\n",
       "  </thead>\n",
       "  <tbody>\n",
       "    <tr>\n",
       "      <th>count</th>\n",
       "      <td>81</td>\n",
       "      <td>81</td>\n",
       "      <td>81</td>\n",
       "      <td>81</td>\n",
       "      <td>81</td>\n",
       "      <td>81</td>\n",
       "      <td>81</td>\n",
       "      <td>81</td>\n",
       "      <td>81</td>\n",
       "      <td>81</td>\n",
       "      <td>81</td>\n",
       "      <td>81</td>\n",
       "    </tr>\n",
       "    <tr>\n",
       "      <th>unique</th>\n",
       "      <td>7</td>\n",
       "      <td>31</td>\n",
       "      <td>80</td>\n",
       "      <td>7</td>\n",
       "      <td>17</td>\n",
       "      <td>32</td>\n",
       "      <td>2</td>\n",
       "      <td>2</td>\n",
       "      <td>2</td>\n",
       "      <td>2</td>\n",
       "      <td>2</td>\n",
       "      <td>2</td>\n",
       "    </tr>\n",
       "    <tr>\n",
       "      <th>top</th>\n",
       "      <td>MAY</td>\n",
       "      <td>30</td>\n",
       "      <td>56000</td>\n",
       "      <td>Tuesday</td>\n",
       "      <td>Giants</td>\n",
       "      <td>70</td>\n",
       "      <td>Clear</td>\n",
       "      <td>Night</td>\n",
       "      <td>NO</td>\n",
       "      <td>NO</td>\n",
       "      <td>NO</td>\n",
       "      <td>NO</td>\n",
       "    </tr>\n",
       "    <tr>\n",
       "      <th>freq</th>\n",
       "      <td>18</td>\n",
       "      <td>5</td>\n",
       "      <td>2</td>\n",
       "      <td>13</td>\n",
       "      <td>9</td>\n",
       "      <td>9</td>\n",
       "      <td>62</td>\n",
       "      <td>66</td>\n",
       "      <td>79</td>\n",
       "      <td>78</td>\n",
       "      <td>67</td>\n",
       "      <td>70</td>\n",
       "    </tr>\n",
       "  </tbody>\n",
       "</table>\n",
       "</div>"
      ],
      "text/plain": [
       "       month  day  attend day_of_week opponent  temp   skies day_night cap  \\\n",
       "count     81   81      81          81       81    81      81        81  81   \n",
       "unique     7   31      80           7       17    32       2         2   2   \n",
       "top      MAY   30   56000     Tuesday   Giants    70  Clear      Night  NO   \n",
       "freq      18    5       2          13        9     9      62        66  79   \n",
       "\n",
       "       shirt fireworks bobblehead  \n",
       "count     81        81         81  \n",
       "unique     2         2          2  \n",
       "top       NO        NO         NO  \n",
       "freq      78        67         70  "
      ]
     },
     "execution_count": 93,
     "metadata": {},
     "output_type": "execute_result"
    }
   ],
   "source": [
    "#Describe data\n",
    "dodgers_df.astype('object').describe()"
   ]
  },
  {
   "cell_type": "markdown",
   "id": "f606fc89",
   "metadata": {},
   "source": [
    "The initial examination above shows that most Dodgers games were-for their respective categories-played in May, on a Tuesday, and against the Giants. "
   ]
  },
  {
   "cell_type": "code",
   "execution_count": 94,
   "id": "98114311",
   "metadata": {
    "scrolled": true
   },
   "outputs": [
    {
     "data": {
      "text/html": [
       "<div>\n",
       "<style scoped>\n",
       "    .dataframe tbody tr th:only-of-type {\n",
       "        vertical-align: middle;\n",
       "    }\n",
       "\n",
       "    .dataframe tbody tr th {\n",
       "        vertical-align: top;\n",
       "    }\n",
       "\n",
       "    .dataframe thead th {\n",
       "        text-align: right;\n",
       "    }\n",
       "</style>\n",
       "<table border=\"1\" class=\"dataframe\">\n",
       "  <thead>\n",
       "    <tr style=\"text-align: right;\">\n",
       "      <th></th>\n",
       "      <th>month</th>\n",
       "      <th>day</th>\n",
       "      <th>attend</th>\n",
       "      <th>day_of_week</th>\n",
       "      <th>opponent</th>\n",
       "      <th>temp</th>\n",
       "      <th>skies</th>\n",
       "      <th>day_night</th>\n",
       "      <th>cap</th>\n",
       "      <th>shirt</th>\n",
       "      <th>fireworks</th>\n",
       "      <th>bobblehead</th>\n",
       "    </tr>\n",
       "  </thead>\n",
       "  <tbody>\n",
       "    <tr>\n",
       "      <th>0</th>\n",
       "      <td>APR</td>\n",
       "      <td>10</td>\n",
       "      <td>56000</td>\n",
       "      <td>Tuesday</td>\n",
       "      <td>Pirates</td>\n",
       "      <td>67</td>\n",
       "      <td>Clear</td>\n",
       "      <td>0</td>\n",
       "      <td>0</td>\n",
       "      <td>0</td>\n",
       "      <td>0</td>\n",
       "      <td>0</td>\n",
       "    </tr>\n",
       "    <tr>\n",
       "      <th>1</th>\n",
       "      <td>APR</td>\n",
       "      <td>11</td>\n",
       "      <td>29729</td>\n",
       "      <td>Wednesday</td>\n",
       "      <td>Pirates</td>\n",
       "      <td>58</td>\n",
       "      <td>Cloudy</td>\n",
       "      <td>1</td>\n",
       "      <td>0</td>\n",
       "      <td>0</td>\n",
       "      <td>0</td>\n",
       "      <td>0</td>\n",
       "    </tr>\n",
       "    <tr>\n",
       "      <th>2</th>\n",
       "      <td>APR</td>\n",
       "      <td>12</td>\n",
       "      <td>28328</td>\n",
       "      <td>Thursday</td>\n",
       "      <td>Pirates</td>\n",
       "      <td>57</td>\n",
       "      <td>Cloudy</td>\n",
       "      <td>1</td>\n",
       "      <td>0</td>\n",
       "      <td>0</td>\n",
       "      <td>0</td>\n",
       "      <td>0</td>\n",
       "    </tr>\n",
       "    <tr>\n",
       "      <th>3</th>\n",
       "      <td>APR</td>\n",
       "      <td>13</td>\n",
       "      <td>31601</td>\n",
       "      <td>Friday</td>\n",
       "      <td>Padres</td>\n",
       "      <td>54</td>\n",
       "      <td>Cloudy</td>\n",
       "      <td>1</td>\n",
       "      <td>0</td>\n",
       "      <td>0</td>\n",
       "      <td>1</td>\n",
       "      <td>0</td>\n",
       "    </tr>\n",
       "    <tr>\n",
       "      <th>4</th>\n",
       "      <td>APR</td>\n",
       "      <td>14</td>\n",
       "      <td>46549</td>\n",
       "      <td>Saturday</td>\n",
       "      <td>Padres</td>\n",
       "      <td>57</td>\n",
       "      <td>Cloudy</td>\n",
       "      <td>1</td>\n",
       "      <td>0</td>\n",
       "      <td>0</td>\n",
       "      <td>0</td>\n",
       "      <td>0</td>\n",
       "    </tr>\n",
       "  </tbody>\n",
       "</table>\n",
       "</div>"
      ],
      "text/plain": [
       "  month  day  attend day_of_week opponent  temp   skies  day_night  cap  \\\n",
       "0   APR   10   56000     Tuesday  Pirates    67  Clear           0    0   \n",
       "1   APR   11   29729   Wednesday  Pirates    58  Cloudy          1    0   \n",
       "2   APR   12   28328    Thursday  Pirates    57  Cloudy          1    0   \n",
       "3   APR   13   31601      Friday   Padres    54  Cloudy          1    0   \n",
       "4   APR   14   46549    Saturday   Padres    57  Cloudy          1    0   \n",
       "\n",
       "   shirt  fireworks  bobblehead  \n",
       "0      0          0           0  \n",
       "1      0          0           0  \n",
       "2      0          0           0  \n",
       "3      0          1           0  \n",
       "4      0          0           0  "
      ]
     },
     "execution_count": 94,
     "metadata": {},
     "output_type": "execute_result"
    }
   ],
   "source": [
    "# Convert NO/YES to 0/1\n",
    "dodgers_df['cap'] = dodgers_df['cap'].replace({'NO': 0, 'YES': 1}).astype(int)\n",
    "dodgers_df['shirt'] = dodgers_df['shirt'].replace({'NO': 0, 'YES': 1}).astype(int)\n",
    "dodgers_df['fireworks'] = dodgers_df['fireworks'].replace({'NO': 0, 'YES': 1}).astype(int)\n",
    "dodgers_df['bobblehead'] = dodgers_df['bobblehead'].replace({'NO': 0, 'YES': 1}).astype(int)\n",
    "dodgers_df['day_night'] = dodgers_df['day_night'].replace({'Day': 0, 'Night': 1}).astype(int)\n",
    "dodgers_df.head(5)"
   ]
  },
  {
   "cell_type": "code",
   "execution_count": 95,
   "id": "bbee31d7",
   "metadata": {
    "scrolled": true
   },
   "outputs": [
    {
     "data": {
      "text/plain": [
       "day           0.027093\n",
       "attend        1.000000\n",
       "temp          0.098951\n",
       "day_night    -0.043544\n",
       "cap          -0.055002\n",
       "shirt         0.133269\n",
       "fireworks     0.002094\n",
       "bobblehead    0.581895\n",
       "Name: attend, dtype: float64"
      ]
     },
     "execution_count": 95,
     "metadata": {},
     "output_type": "execute_result"
    }
   ],
   "source": [
    "#Correlation check\n",
    "dodgers_df.corr()['attend']"
   ]
  },
  {
   "cell_type": "markdown",
   "id": "15dd4786",
   "metadata": {},
   "source": [
    "The correlation check shows very little indication of a relationship between attendance and the other variables, with the exception of the bobblehead promotion. Though not a perfect match, it has the highest indication of a relationship with a positive correlation of .58"
   ]
  },
  {
   "cell_type": "code",
   "execution_count": 96,
   "id": "184d6e5c",
   "metadata": {
    "scrolled": false
   },
   "outputs": [
    {
     "data": {
      "text/plain": [
       "<AxesSubplot:title={'center':'attend'}, xlabel='[day_of_week]'>"
      ]
     },
     "execution_count": 96,
     "metadata": {},
     "output_type": "execute_result"
    },
    {
     "data": {
      "image/png": "[encoded data removed]",
      "text/plain": [
       "<Figure size 576x432 with 1 Axes>"
      ]
     },
     "metadata": {
      "needs_background": "light"
     },
     "output_type": "display_data"
    }
   ],
   "source": [
    "# Create Boxplot\n",
    "dodgers_df.boxplot('attend', by=['day_of_week'], figsize = (8,6))"
   ]
  },
  {
   "cell_type": "markdown",
   "id": "011394f9",
   "metadata": {},
   "source": [
    "This boxplot shows that Tuesdays are far and away the most attended games, while Mondays are the least attended."
   ]
  },
  {
   "cell_type": "code",
   "execution_count": 97,
   "id": "31462d6b",
   "metadata": {
    "scrolled": false
   },
   "outputs": [
    {
     "name": "stderr",
     "output_type": "stream",
     "text": [
      "C:\\Users\\Andrew\\AppData\\Local\\Temp/ipykernel_20824/891953531.py:1: FutureWarning: Indexing with multiple keys (implicitly converted to a tuple of keys) will be deprecated, use a list instead.\n",
      "  dodgers_df.groupby('day_of_week')['cap','shirt','fireworks','bobblehead'].sum().plot.bar(figsize = (8,8))\n"
     ]
    },
    {
     "data": {
      "image/png": "[encoded data removed]",
      "text/plain": [
       "<Figure size 576x576 with 1 Axes>"
      ]
     },
     "metadata": {
      "needs_background": "light"
     },
     "output_type": "display_data"
    }
   ],
   "source": [
    "dodgers_df.groupby('day_of_week')['cap','shirt','fireworks','bobblehead'].sum().plot.bar(figsize = (8,8))\n",
    "plt.legend(bbox_to_anchor=(1, 1), loc='upper left', ncol=1)\n",
    "plt.show()"
   ]
  },
  {
   "cell_type": "markdown",
   "id": "231a8ead",
   "metadata": {},
   "source": [
    "As the above graph shows, the Dodgers have fireworks every Friday and on one Wednesday (the 4th of July), and most bobblehead promotions occur on Tuesdays. While not enough on their own to warrant a specific recommendation, in conjunction with the results from the above boxplot, further examination of the impact bobblehead promotions have on attendance is warranted. "
   ]
  },
  {
   "cell_type": "code",
   "execution_count": 98,
   "id": "8ac8e502",
   "metadata": {},
   "outputs": [
    {
     "data": {
      "text/plain": [
       "DummyRegressor()"
      ]
     },
     "execution_count": 98,
     "metadata": {},
     "output_type": "execute_result"
    }
   ],
   "source": [
    "#Create regression model\n",
    "attend, bobblehead = dodgers_df.bobblehead, dodgers_df.attend\n",
    "attend_train, attend_test, bobblehead_train, bobblehead_test = train_test_split(attend, bobblehead, random_state = 0)\n",
    "dodgers_dummy = DummyRegressor(strategy='mean')\n",
    "dodgers_dummy.fit(attend_train.values.reshape(-1,1), bobblehead_train.values.reshape(-1,1))"
   ]
  },
  {
   "cell_type": "code",
   "execution_count": 99,
   "id": "6cbc1bcd",
   "metadata": {},
   "outputs": [
    {
     "data": {
      "text/plain": [
       "-0.009037085686444124"
      ]
     },
     "execution_count": 99,
     "metadata": {},
     "output_type": "execute_result"
    }
   ],
   "source": [
    "#Check R2 score\n",
    "dodgers_dummy.score(attend_test,bobblehead_test)"
   ]
  },
  {
   "cell_type": "code",
   "execution_count": 100,
   "id": "659977da",
   "metadata": {},
   "outputs": [
    {
     "data": {
      "text/plain": [
       "LinearRegression()"
      ]
     },
     "execution_count": 100,
     "metadata": {},
     "output_type": "execute_result"
    }
   ],
   "source": [
    "#Train model\n",
    "from sklearn.linear_model import LinearRegression\n",
    "dodgers_ols = LinearRegression()\n",
    "dodgers_ols.fit(attend_train.values.reshape(-1,1), bobblehead_train.values.reshape(-1,1))"
   ]
  },
  {
   "cell_type": "code",
   "execution_count": 101,
   "id": "516b2f4d",
   "metadata": {},
   "outputs": [
    {
     "data": {
      "text/plain": [
       "0.2700528434141467"
      ]
     },
     "execution_count": 101,
     "metadata": {},
     "output_type": "execute_result"
    }
   ],
   "source": [
    "#Check R2 score\n",
    "dodgers_ols.score(attend_test.values.reshape(-1,1), bobblehead_test.values.reshape(-1,1))"
   ]
  },
  {
   "cell_type": "markdown",
   "id": "8086b510",
   "metadata": {},
   "source": [
    "## Recommendation\n",
    "When considering what variables to examine for making a recommendation, opponent, temperature, weather, month, day, and time of day can not be considered. These variables are not able to be considered in recommendations, as the month, day, time of day, and opponent as the Dodgers have no control over their schedule. Additionally, the Dodgers can not-that we yet know of-control the weather and a domed baseball stadium would not only be an oddity but financially impractical, thus the temperature and weather can not be considered for recommendations. If at a future time the Dodgers' front office is able to control the weather, I will revisit my variable examination. \n",
    "\n",
    "As the Dodgers do have control over their promotions, identifying the one most impactful on attendance is of the uptmost importance. The initial correlation check, in conjunction with the above plots, indicates that the bobblehead promotion has the greatest impact on attendance. Even with a relatively low R2 score of .27, from the information available the best recommendation I can make to the Dodgers is to increase their bobblehead promotion games. Ideally the dodgers would replace cap promotion games with bobblehead promotion games as the cap promotion games appear to have the least success, and in fact could have a negative impact on attendance, however to say this with any certainty there would need to be more testing performed. With some certainty though, I can recommend the Dodgers increase the number of their bobblehead promotion games, perhaps spread across days of the week with lower average attendance rating than the most popular day of Tuesday."
   ]
  }
 ],
 "metadata": {
  "kernelspec": {
   "display_name": "Python 3 (ipykernel)",
   "language": "python",
   "name": "python3"
  },
  "language_info": {
   "codemirror_mode": {
    "name": "ipython",
    "version": 3
   },
   "file_extension": ".py",
   "mimetype": "text/x-python",
   "name": "python",
   "nbconvert_exporter": "python",
   "pygments_lexer": "ipython3",
   "version": "3.9.7"
  }
 },
 "nbformat": 4,
 "nbformat_minor": 5
}
