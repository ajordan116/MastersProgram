{
 "cells": [
  {
   "cell_type": "markdown",
   "id": "ae5069a9",
   "metadata": {},
   "source": [
    "Exercise 1.2\n",
    "\n",
    "Author: Jordan, Andrew\n",
    "\n",
    "Date: 06/10/2022"
   ]
  },
  {
   "cell_type": "code",
   "execution_count": 2,
   "id": "c200ace8",
   "metadata": {},
   "outputs": [
    {
     "data": {
      "text/plain": [
       "'C:\\\\Users\\\\Andrew\\\\Documents\\\\Grad School\\\\DSC 630 - Predictive Analytics\\\\Assignments'"
      ]
     },
     "execution_count": 2,
     "metadata": {},
     "output_type": "execute_result"
    }
   ],
   "source": [
    "import numpy as np\n",
    "import pandas as pd\n",
    "import matplotlib.pyplot as plt\n",
    "import matplotlib.collections\n",
    "%pwd"
   ]
  },
  {
   "cell_type": "markdown",
   "id": "f10bab0f",
   "metadata": {},
   "source": [
    "1. Write a summary of your data and identify at least two questions to explore visually with your data."
   ]
  },
  {
   "cell_type": "code",
   "execution_count": 3,
   "id": "cc20544d",
   "metadata": {},
   "outputs": [
    {
     "data": {
      "text/html": [
       "<div>\n",
       "<style scoped>\n",
       "    .dataframe tbody tr th:only-of-type {\n",
       "        vertical-align: middle;\n",
       "    }\n",
       "\n",
       "    .dataframe tbody tr th {\n",
       "        vertical-align: top;\n",
       "    }\n",
       "\n",
       "    .dataframe thead th {\n",
       "        text-align: right;\n",
       "    }\n",
       "</style>\n",
       "<table border=\"1\" class=\"dataframe\">\n",
       "  <thead>\n",
       "    <tr style=\"text-align: right;\">\n",
       "      <th></th>\n",
       "      <th>gender</th>\n",
       "      <th>race/ethnicity</th>\n",
       "      <th>parental_level_of_education</th>\n",
       "      <th>lunch</th>\n",
       "      <th>test_preparation_course</th>\n",
       "      <th>math_score</th>\n",
       "      <th>reading_score</th>\n",
       "      <th>writing_score</th>\n",
       "    </tr>\n",
       "  </thead>\n",
       "  <tbody>\n",
       "    <tr>\n",
       "      <th>0</th>\n",
       "      <td>0</td>\n",
       "      <td>group B</td>\n",
       "      <td>bachelor's degree</td>\n",
       "      <td>standard</td>\n",
       "      <td>none</td>\n",
       "      <td>72</td>\n",
       "      <td>72</td>\n",
       "      <td>74</td>\n",
       "    </tr>\n",
       "    <tr>\n",
       "      <th>1</th>\n",
       "      <td>0</td>\n",
       "      <td>group C</td>\n",
       "      <td>some college</td>\n",
       "      <td>standard</td>\n",
       "      <td>completed</td>\n",
       "      <td>69</td>\n",
       "      <td>90</td>\n",
       "      <td>88</td>\n",
       "    </tr>\n",
       "    <tr>\n",
       "      <th>2</th>\n",
       "      <td>0</td>\n",
       "      <td>group B</td>\n",
       "      <td>master's degree</td>\n",
       "      <td>standard</td>\n",
       "      <td>none</td>\n",
       "      <td>90</td>\n",
       "      <td>95</td>\n",
       "      <td>93</td>\n",
       "    </tr>\n",
       "    <tr>\n",
       "      <th>3</th>\n",
       "      <td>1</td>\n",
       "      <td>group A</td>\n",
       "      <td>associate's degree</td>\n",
       "      <td>free/reduced</td>\n",
       "      <td>none</td>\n",
       "      <td>47</td>\n",
       "      <td>57</td>\n",
       "      <td>44</td>\n",
       "    </tr>\n",
       "    <tr>\n",
       "      <th>4</th>\n",
       "      <td>1</td>\n",
       "      <td>group C</td>\n",
       "      <td>some college</td>\n",
       "      <td>standard</td>\n",
       "      <td>none</td>\n",
       "      <td>76</td>\n",
       "      <td>78</td>\n",
       "      <td>75</td>\n",
       "    </tr>\n",
       "    <tr>\n",
       "      <th>5</th>\n",
       "      <td>0</td>\n",
       "      <td>group B</td>\n",
       "      <td>associate's degree</td>\n",
       "      <td>standard</td>\n",
       "      <td>none</td>\n",
       "      <td>71</td>\n",
       "      <td>83</td>\n",
       "      <td>78</td>\n",
       "    </tr>\n",
       "    <tr>\n",
       "      <th>6</th>\n",
       "      <td>0</td>\n",
       "      <td>group B</td>\n",
       "      <td>some college</td>\n",
       "      <td>standard</td>\n",
       "      <td>completed</td>\n",
       "      <td>88</td>\n",
       "      <td>95</td>\n",
       "      <td>92</td>\n",
       "    </tr>\n",
       "    <tr>\n",
       "      <th>7</th>\n",
       "      <td>1</td>\n",
       "      <td>group B</td>\n",
       "      <td>some college</td>\n",
       "      <td>free/reduced</td>\n",
       "      <td>none</td>\n",
       "      <td>40</td>\n",
       "      <td>43</td>\n",
       "      <td>39</td>\n",
       "    </tr>\n",
       "    <tr>\n",
       "      <th>8</th>\n",
       "      <td>1</td>\n",
       "      <td>group D</td>\n",
       "      <td>high school</td>\n",
       "      <td>free/reduced</td>\n",
       "      <td>completed</td>\n",
       "      <td>64</td>\n",
       "      <td>64</td>\n",
       "      <td>67</td>\n",
       "    </tr>\n",
       "    <tr>\n",
       "      <th>9</th>\n",
       "      <td>0</td>\n",
       "      <td>group B</td>\n",
       "      <td>high school</td>\n",
       "      <td>free/reduced</td>\n",
       "      <td>none</td>\n",
       "      <td>38</td>\n",
       "      <td>60</td>\n",
       "      <td>50</td>\n",
       "    </tr>\n",
       "  </tbody>\n",
       "</table>\n",
       "</div>"
      ],
      "text/plain": [
       "   gender race/ethnicity parental_level_of_education         lunch  \\\n",
       "0       0        group B           bachelor's degree      standard   \n",
       "1       0        group C                some college      standard   \n",
       "2       0        group B             master's degree      standard   \n",
       "3       1        group A          associate's degree  free/reduced   \n",
       "4       1        group C                some college      standard   \n",
       "5       0        group B          associate's degree      standard   \n",
       "6       0        group B                some college      standard   \n",
       "7       1        group B                some college  free/reduced   \n",
       "8       1        group D                 high school  free/reduced   \n",
       "9       0        group B                 high school  free/reduced   \n",
       "\n",
       "  test_preparation_course  math_score  reading_score  writing_score  \n",
       "0                    none          72             72             74  \n",
       "1               completed          69             90             88  \n",
       "2                    none          90             95             93  \n",
       "3                    none          47             57             44  \n",
       "4                    none          76             78             75  \n",
       "5                    none          71             83             78  \n",
       "6               completed          88             95             92  \n",
       "7                    none          40             43             39  \n",
       "8               completed          64             64             67  \n",
       "9                    none          38             60             50  "
      ]
     },
     "execution_count": 3,
     "metadata": {},
     "output_type": "execute_result"
    }
   ],
   "source": [
    "# Import data\n",
    "sp_df = pd.read_csv(\"data/StudentsPerformance.csv\")\n",
    "# Convert gender to binary values\n",
    "sp_df = sp_df.replace({'female':[0],'male':[1]})\n",
    "# Remove spaces in variable names\n",
    "sp_df.columns = [c.replace(' ', '_') for c in sp_df.columns]\n",
    "sp_df.head(10)"
   ]
  },
  {
   "cell_type": "markdown",
   "id": "3723dd06",
   "metadata": {},
   "source": [
    "This dataset contains results of students' standardized test scores, as well as the gender, race, type of lunch, test prep completion, and parental level of education for each student. Evaluating whether there is any relationship between gender and both reading and math scores, are questions I look to answer when visually exploring this data."
   ]
  },
  {
   "cell_type": "markdown",
   "id": "72384276",
   "metadata": {},
   "source": [
    "2. Create a histogram or bar graph from your data."
   ]
  },
  {
   "cell_type": "code",
   "execution_count": 4,
   "id": "ea6a0d40",
   "metadata": {},
   "outputs": [
    {
     "data": {
      "text/plain": [
       "array([[<AxesSubplot:title={'center':'reading_score'}>,\n",
       "        <AxesSubplot:title={'center':'math_score'}>]], dtype=object)"
      ]
     },
     "execution_count": 4,
     "metadata": {},
     "output_type": "execute_result"
    },
    {
     "data": {
      "image/png": "[encoded data removed]",
      "text/plain": [
       "<Figure size 432x288 with 2 Axes>"
      ]
     },
     "metadata": {
      "needs_background": "light"
     },
     "output_type": "display_data"
    }
   ],
   "source": [
    "# Create Histogram\n",
    "sp_df.hist(column=[\"reading_score\", \"math_score\"], bins=20)"
   ]
  },
  {
   "cell_type": "markdown",
   "id": "9e574a91",
   "metadata": {},
   "source": [
    "3. Create a boxplot from your data."
   ]
  },
  {
   "cell_type": "code",
   "execution_count": 5,
   "id": "9a1140f9",
   "metadata": {},
   "outputs": [
    {
     "data": {
      "text/plain": [
       "array([<AxesSubplot:title={'center':'reading_score'}, xlabel='gender'>,\n",
       "       <AxesSubplot:title={'center':'math_score'}, xlabel='gender'>],\n",
       "      dtype=object)"
      ]
     },
     "execution_count": 5,
     "metadata": {},
     "output_type": "execute_result"
    },
    {
     "data": {
      "image/png": "[encoded data removed]",
      "text/plain": [
       "<Figure size 432x288 with 2 Axes>"
      ]
     },
     "metadata": {
      "needs_background": "light"
     },
     "output_type": "display_data"
    }
   ],
   "source": [
    "# Create Boxplot\n",
    "sp_df.boxplot(column=[\"reading_score\",\"math_score\"], by = \"gender\", color='red')"
   ]
  },
  {
   "cell_type": "markdown",
   "id": "a80a5707",
   "metadata": {},
   "source": [
    "4. Create a bivariate plot from your data."
   ]
  },
  {
   "cell_type": "code",
   "execution_count": 6,
   "id": "79253059",
   "metadata": {},
   "outputs": [
    {
     "name": "stderr",
     "output_type": "stream",
     "text": [
      "C:\\Users\\Andrew\\AppData\\Local\\Temp/ipykernel_4392/2172714982.py:9: UserWarning: Legend does not support 'F' instances.\n",
      "A proxy artist may be used instead.\n",
      "See: https://matplotlib.org/users/legend_guide.html#creating-artists-specifically-for-adding-to-the-legend-aka-proxy-artists\n",
      "  plt.legend(\"Female\",\"Male\")\n",
      "C:\\Users\\Andrew\\AppData\\Local\\Temp/ipykernel_4392/2172714982.py:9: UserWarning: Legend does not support 'e' instances.\n",
      "A proxy artist may be used instead.\n",
      "See: https://matplotlib.org/users/legend_guide.html#creating-artists-specifically-for-adding-to-the-legend-aka-proxy-artists\n",
      "  plt.legend(\"Female\",\"Male\")\n",
      "C:\\Users\\Andrew\\AppData\\Local\\Temp/ipykernel_4392/2172714982.py:9: UserWarning: Legend does not support 'm' instances.\n",
      "A proxy artist may be used instead.\n",
      "See: https://matplotlib.org/users/legend_guide.html#creating-artists-specifically-for-adding-to-the-legend-aka-proxy-artists\n",
      "  plt.legend(\"Female\",\"Male\")\n",
      "C:\\Users\\Andrew\\AppData\\Local\\Temp/ipykernel_4392/2172714982.py:9: UserWarning: Legend does not support 'a' instances.\n",
      "A proxy artist may be used instead.\n",
      "See: https://matplotlib.org/users/legend_guide.html#creating-artists-specifically-for-adding-to-the-legend-aka-proxy-artists\n",
      "  plt.legend(\"Female\",\"Male\")\n"
     ]
    },
    {
     "data": {
      "image/png": "[encoded data removed]",
      "text/plain": [
       "<Figure size 432x288 with 1 Axes>"
      ]
     },
     "metadata": {
      "needs_background": "light"
     },
     "output_type": "display_data"
    }
   ],
   "source": [
    "# Create Scatterplot\n",
    "x = sp_df.reading_score\n",
    "y = sp_df.math_score\n",
    "for color, group in sp_df.groupby([\"gender\"]):\n",
    "    plt.scatter(x,y,s=2,c=sp_df.gender,label=color)\n",
    "plt.title(\"Scores by Gender\")\n",
    "plt.xlabel(\"Reading Score\")\n",
    "plt.ylabel(\"Math Score\")\n",
    "plt.legend(\"Female\",\"Male\")\n",
    "plt.show()\n",
    "\n",
    "# Professor, after several hours on this color/legend I have been unable to figure out where I am going wrong. I can either\n",
    "# get both gender values in the legend, but they are both labeled with the same color in the legend, or I can only get \n",
    "# one variable to show up in the legend, but it is correctly colored and labeled. \n",
    "# Any insight into how I can better create this would be very helpful."
   ]
  },
  {
   "cell_type": "markdown",
   "id": "ffa4fd3c",
   "metadata": {},
   "source": [
    "5. Create any additional visualizations that will help to answer the question(s) you want to answer."
   ]
  },
  {
   "cell_type": "code",
   "execution_count": 7,
   "id": "2946c190",
   "metadata": {},
   "outputs": [
    {
     "data": {
      "text/html": [
       "<div>\n",
       "<style scoped>\n",
       "    .dataframe tbody tr th:only-of-type {\n",
       "        vertical-align: middle;\n",
       "    }\n",
       "\n",
       "    .dataframe tbody tr th {\n",
       "        vertical-align: top;\n",
       "    }\n",
       "\n",
       "    .dataframe thead th {\n",
       "        text-align: right;\n",
       "    }\n",
       "</style>\n",
       "<table border=\"1\" class=\"dataframe\">\n",
       "  <thead>\n",
       "    <tr style=\"text-align: right;\">\n",
       "      <th></th>\n",
       "      <th>gender</th>\n",
       "      <th>math_score</th>\n",
       "      <th>reading_score</th>\n",
       "      <th>writing_score</th>\n",
       "    </tr>\n",
       "  </thead>\n",
       "  <tbody>\n",
       "    <tr>\n",
       "      <th>gender</th>\n",
       "      <td>1.000000</td>\n",
       "      <td>0.167982</td>\n",
       "      <td>-0.244313</td>\n",
       "      <td>-0.301225</td>\n",
       "    </tr>\n",
       "    <tr>\n",
       "      <th>math_score</th>\n",
       "      <td>0.167982</td>\n",
       "      <td>1.000000</td>\n",
       "      <td>0.817580</td>\n",
       "      <td>0.802642</td>\n",
       "    </tr>\n",
       "    <tr>\n",
       "      <th>reading_score</th>\n",
       "      <td>-0.244313</td>\n",
       "      <td>0.817580</td>\n",
       "      <td>1.000000</td>\n",
       "      <td>0.954598</td>\n",
       "    </tr>\n",
       "    <tr>\n",
       "      <th>writing_score</th>\n",
       "      <td>-0.301225</td>\n",
       "      <td>0.802642</td>\n",
       "      <td>0.954598</td>\n",
       "      <td>1.000000</td>\n",
       "    </tr>\n",
       "  </tbody>\n",
       "</table>\n",
       "</div>"
      ],
      "text/plain": [
       "                 gender  math_score  reading_score  writing_score\n",
       "gender         1.000000    0.167982      -0.244313      -0.301225\n",
       "math_score     0.167982    1.000000       0.817580       0.802642\n",
       "reading_score -0.244313    0.817580       1.000000       0.954598\n",
       "writing_score -0.301225    0.802642       0.954598       1.000000"
      ]
     },
     "execution_count": 7,
     "metadata": {},
     "output_type": "execute_result"
    }
   ],
   "source": [
    "# Create Correlation Matrix\n",
    "sp_df.corr(method='pearson')"
   ]
  },
  {
   "cell_type": "markdown",
   "id": "0a6762ed",
   "metadata": {},
   "source": [
    "As the above plots provide a strong visual interpretation, there are not any visualizations that I believe will better show potential correlation. Instead, I have chosen to examine a correlation matrix to further clarify information garnered from the plotting. "
   ]
  },
  {
   "cell_type": "markdown",
   "id": "e8997d5e",
   "metadata": {},
   "source": [
    "6. Summarize your results and make a conclusion. Explain how you arrived at this conclusion and how your visualizations support your conclusion."
   ]
  },
  {
   "cell_type": "markdown",
   "id": "85abd753",
   "metadata": {},
   "source": [
    "The above results indicate that there is not a statistically significant correlation between gender and reading or math scores. While both the scatter and box plots indicate there are minor relationships between females and reading scores (.24), as well as males and math scores (.16), neither is large enough to consider statistically significant. The -.24 correlation coefficient between gender and reading scores shows that as gender decreases reading scores increase, and as gender is represented with binary values of 0 equaling female and 1 equaling male, a \"decreasing\" gender value indicates female. The inverse is shown with math scores as the .16 coefficient shows as gender value \"increases\" the math score value does so as well, indicating that male students score higher than female in math. Again though, these values and plots only show a minor relationship between gender and reading or math score values. "
   ]
  }
 ],
 "metadata": {
  "kernelspec": {
   "display_name": "Python 3 (ipykernel)",
   "language": "python",
   "name": "python3"
  },
  "language_info": {
   "codemirror_mode": {
    "name": "ipython",
    "version": 3
   },
   "file_extension": ".py",
   "mimetype": "text/x-python",
   "name": "python",
   "nbconvert_exporter": "python",
   "pygments_lexer": "ipython3",
   "version": "3.9.7"
  }
 },
 "nbformat": 4,
 "nbformat_minor": 5
}
