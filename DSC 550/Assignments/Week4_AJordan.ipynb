{
 "cells": [
  {
   "cell_type": "markdown",
   "id": "9a682d29",
   "metadata": {},
   "source": [
    "# Exercise 4.2: Predicting Fuel Efficiency\n",
    "\n",
    "Author: Jordan, Andrew\n",
    "\n",
    "Date: 06/27/2022"
   ]
  },
  {
   "cell_type": "code",
   "execution_count": 53,
   "id": "11246b7d",
   "metadata": {},
   "outputs": [
    {
     "data": {
      "text/plain": [
       "'C:\\\\Users\\\\Andrew\\\\Documents\\\\Grad School\\\\DSC 550 - Data Mining\\\\Assignments'"
      ]
     },
     "execution_count": 53,
     "metadata": {},
     "output_type": "execute_result"
    }
   ],
   "source": [
    "import pandas as pd\n",
    "import numpy as np\n",
    "import matplotlib.pyplot as plt\n",
    "%pwd"
   ]
  },
  {
   "cell_type": "markdown",
   "id": "b4d534c0",
   "metadata": {},
   "source": [
    "#### 1. Load the data as a Pandas data frame and ensure that it imported correctly."
   ]
  },
  {
   "cell_type": "code",
   "execution_count": 44,
   "id": "2191130e",
   "metadata": {
    "scrolled": false
   },
   "outputs": [
    {
     "data": {
      "text/html": [
       "<div>\n",
       "<style scoped>\n",
       "    .dataframe tbody tr th:only-of-type {\n",
       "        vertical-align: middle;\n",
       "    }\n",
       "\n",
       "    .dataframe tbody tr th {\n",
       "        vertical-align: top;\n",
       "    }\n",
       "\n",
       "    .dataframe thead th {\n",
       "        text-align: right;\n",
       "    }\n",
       "</style>\n",
       "<table border=\"1\" class=\"dataframe\">\n",
       "  <thead>\n",
       "    <tr style=\"text-align: right;\">\n",
       "      <th></th>\n",
       "      <th>mpg</th>\n",
       "      <th>cylinders</th>\n",
       "      <th>displacement</th>\n",
       "      <th>horsepower</th>\n",
       "      <th>weight</th>\n",
       "      <th>acceleration</th>\n",
       "      <th>model year</th>\n",
       "      <th>origin</th>\n",
       "      <th>car name</th>\n",
       "    </tr>\n",
       "  </thead>\n",
       "  <tbody>\n",
       "    <tr>\n",
       "      <th>0</th>\n",
       "      <td>18.0</td>\n",
       "      <td>8</td>\n",
       "      <td>307.0</td>\n",
       "      <td>130</td>\n",
       "      <td>3504</td>\n",
       "      <td>12.0</td>\n",
       "      <td>70</td>\n",
       "      <td>1</td>\n",
       "      <td>chevrolet chevelle malibu</td>\n",
       "    </tr>\n",
       "    <tr>\n",
       "      <th>1</th>\n",
       "      <td>15.0</td>\n",
       "      <td>8</td>\n",
       "      <td>350.0</td>\n",
       "      <td>165</td>\n",
       "      <td>3693</td>\n",
       "      <td>11.5</td>\n",
       "      <td>70</td>\n",
       "      <td>1</td>\n",
       "      <td>buick skylark 320</td>\n",
       "    </tr>\n",
       "    <tr>\n",
       "      <th>2</th>\n",
       "      <td>18.0</td>\n",
       "      <td>8</td>\n",
       "      <td>318.0</td>\n",
       "      <td>150</td>\n",
       "      <td>3436</td>\n",
       "      <td>11.0</td>\n",
       "      <td>70</td>\n",
       "      <td>1</td>\n",
       "      <td>plymouth satellite</td>\n",
       "    </tr>\n",
       "    <tr>\n",
       "      <th>3</th>\n",
       "      <td>16.0</td>\n",
       "      <td>8</td>\n",
       "      <td>304.0</td>\n",
       "      <td>150</td>\n",
       "      <td>3433</td>\n",
       "      <td>12.0</td>\n",
       "      <td>70</td>\n",
       "      <td>1</td>\n",
       "      <td>amc rebel sst</td>\n",
       "    </tr>\n",
       "    <tr>\n",
       "      <th>4</th>\n",
       "      <td>17.0</td>\n",
       "      <td>8</td>\n",
       "      <td>302.0</td>\n",
       "      <td>140</td>\n",
       "      <td>3449</td>\n",
       "      <td>10.5</td>\n",
       "      <td>70</td>\n",
       "      <td>1</td>\n",
       "      <td>ford torino</td>\n",
       "    </tr>\n",
       "    <tr>\n",
       "      <th>5</th>\n",
       "      <td>15.0</td>\n",
       "      <td>8</td>\n",
       "      <td>429.0</td>\n",
       "      <td>198</td>\n",
       "      <td>4341</td>\n",
       "      <td>10.0</td>\n",
       "      <td>70</td>\n",
       "      <td>1</td>\n",
       "      <td>ford galaxie 500</td>\n",
       "    </tr>\n",
       "    <tr>\n",
       "      <th>6</th>\n",
       "      <td>14.0</td>\n",
       "      <td>8</td>\n",
       "      <td>454.0</td>\n",
       "      <td>220</td>\n",
       "      <td>4354</td>\n",
       "      <td>9.0</td>\n",
       "      <td>70</td>\n",
       "      <td>1</td>\n",
       "      <td>chevrolet impala</td>\n",
       "    </tr>\n",
       "    <tr>\n",
       "      <th>7</th>\n",
       "      <td>14.0</td>\n",
       "      <td>8</td>\n",
       "      <td>440.0</td>\n",
       "      <td>215</td>\n",
       "      <td>4312</td>\n",
       "      <td>8.5</td>\n",
       "      <td>70</td>\n",
       "      <td>1</td>\n",
       "      <td>plymouth fury iii</td>\n",
       "    </tr>\n",
       "    <tr>\n",
       "      <th>8</th>\n",
       "      <td>14.0</td>\n",
       "      <td>8</td>\n",
       "      <td>455.0</td>\n",
       "      <td>225</td>\n",
       "      <td>4425</td>\n",
       "      <td>10.0</td>\n",
       "      <td>70</td>\n",
       "      <td>1</td>\n",
       "      <td>pontiac catalina</td>\n",
       "    </tr>\n",
       "    <tr>\n",
       "      <th>9</th>\n",
       "      <td>15.0</td>\n",
       "      <td>8</td>\n",
       "      <td>390.0</td>\n",
       "      <td>190</td>\n",
       "      <td>3850</td>\n",
       "      <td>8.5</td>\n",
       "      <td>70</td>\n",
       "      <td>1</td>\n",
       "      <td>amc ambassador dpl</td>\n",
       "    </tr>\n",
       "  </tbody>\n",
       "</table>\n",
       "</div>"
      ],
      "text/plain": [
       "    mpg  cylinders  displacement horsepower  weight  acceleration  model year  \\\n",
       "0  18.0          8         307.0        130    3504          12.0          70   \n",
       "1  15.0          8         350.0        165    3693          11.5          70   \n",
       "2  18.0          8         318.0        150    3436          11.0          70   \n",
       "3  16.0          8         304.0        150    3433          12.0          70   \n",
       "4  17.0          8         302.0        140    3449          10.5          70   \n",
       "5  15.0          8         429.0        198    4341          10.0          70   \n",
       "6  14.0          8         454.0        220    4354           9.0          70   \n",
       "7  14.0          8         440.0        215    4312           8.5          70   \n",
       "8  14.0          8         455.0        225    4425          10.0          70   \n",
       "9  15.0          8         390.0        190    3850           8.5          70   \n",
       "\n",
       "   origin                   car name  \n",
       "0       1  chevrolet chevelle malibu  \n",
       "1       1          buick skylark 320  \n",
       "2       1         plymouth satellite  \n",
       "3       1              amc rebel sst  \n",
       "4       1                ford torino  \n",
       "5       1           ford galaxie 500  \n",
       "6       1           chevrolet impala  \n",
       "7       1          plymouth fury iii  \n",
       "8       1           pontiac catalina  \n",
       "9       1         amc ambassador dpl  "
      ]
     },
     "execution_count": 44,
     "metadata": {},
     "output_type": "execute_result"
    }
   ],
   "source": [
    "mpgs = pd.read_csv(\"data/auto-mpg.csv\")\n",
    "mpgs.head(10)"
   ]
  },
  {
   "cell_type": "markdown",
   "id": "81b083e4",
   "metadata": {},
   "source": [
    "#### 2. Begin by prepping the data for modeling"
   ]
  },
  {
   "cell_type": "code",
   "execution_count": 45,
   "id": "6b8f11ca",
   "metadata": {
    "scrolled": true
   },
   "outputs": [
    {
     "data": {
      "text/html": [
       "<div>\n",
       "<style scoped>\n",
       "    .dataframe tbody tr th:only-of-type {\n",
       "        vertical-align: middle;\n",
       "    }\n",
       "\n",
       "    .dataframe tbody tr th {\n",
       "        vertical-align: top;\n",
       "    }\n",
       "\n",
       "    .dataframe thead th {\n",
       "        text-align: right;\n",
       "    }\n",
       "</style>\n",
       "<table border=\"1\" class=\"dataframe\">\n",
       "  <thead>\n",
       "    <tr style=\"text-align: right;\">\n",
       "      <th></th>\n",
       "      <th>mpg</th>\n",
       "      <th>cylinders</th>\n",
       "      <th>displacement</th>\n",
       "      <th>horsepower</th>\n",
       "      <th>weight</th>\n",
       "      <th>acceleration</th>\n",
       "      <th>model year</th>\n",
       "      <th>origin</th>\n",
       "    </tr>\n",
       "  </thead>\n",
       "  <tbody>\n",
       "    <tr>\n",
       "      <th>0</th>\n",
       "      <td>18.0</td>\n",
       "      <td>8</td>\n",
       "      <td>307.0</td>\n",
       "      <td>130</td>\n",
       "      <td>3504</td>\n",
       "      <td>12.0</td>\n",
       "      <td>70</td>\n",
       "      <td>1</td>\n",
       "    </tr>\n",
       "    <tr>\n",
       "      <th>1</th>\n",
       "      <td>15.0</td>\n",
       "      <td>8</td>\n",
       "      <td>350.0</td>\n",
       "      <td>165</td>\n",
       "      <td>3693</td>\n",
       "      <td>11.5</td>\n",
       "      <td>70</td>\n",
       "      <td>1</td>\n",
       "    </tr>\n",
       "    <tr>\n",
       "      <th>2</th>\n",
       "      <td>18.0</td>\n",
       "      <td>8</td>\n",
       "      <td>318.0</td>\n",
       "      <td>150</td>\n",
       "      <td>3436</td>\n",
       "      <td>11.0</td>\n",
       "      <td>70</td>\n",
       "      <td>1</td>\n",
       "    </tr>\n",
       "    <tr>\n",
       "      <th>3</th>\n",
       "      <td>16.0</td>\n",
       "      <td>8</td>\n",
       "      <td>304.0</td>\n",
       "      <td>150</td>\n",
       "      <td>3433</td>\n",
       "      <td>12.0</td>\n",
       "      <td>70</td>\n",
       "      <td>1</td>\n",
       "    </tr>\n",
       "    <tr>\n",
       "      <th>4</th>\n",
       "      <td>17.0</td>\n",
       "      <td>8</td>\n",
       "      <td>302.0</td>\n",
       "      <td>140</td>\n",
       "      <td>3449</td>\n",
       "      <td>10.5</td>\n",
       "      <td>70</td>\n",
       "      <td>1</td>\n",
       "    </tr>\n",
       "  </tbody>\n",
       "</table>\n",
       "</div>"
      ],
      "text/plain": [
       "    mpg  cylinders  displacement horsepower  weight  acceleration  model year  \\\n",
       "0  18.0          8         307.0        130    3504          12.0          70   \n",
       "1  15.0          8         350.0        165    3693          11.5          70   \n",
       "2  18.0          8         318.0        150    3436          11.0          70   \n",
       "3  16.0          8         304.0        150    3433          12.0          70   \n",
       "4  17.0          8         302.0        140    3449          10.5          70   \n",
       "\n",
       "   origin  \n",
       "0       1  \n",
       "1       1  \n",
       "2       1  \n",
       "3       1  \n",
       "4       1  "
      ]
     },
     "execution_count": 45,
     "metadata": {},
     "output_type": "execute_result"
    }
   ],
   "source": [
    "#Remove the car name column\n",
    "mpgs = mpgs.drop(['car name'], axis=1)\n",
    "mpgs.head(5)"
   ]
  },
  {
   "cell_type": "code",
   "execution_count": 46,
   "id": "0e91be8b",
   "metadata": {
    "scrolled": true
   },
   "outputs": [
    {
     "data": {
      "text/plain": [
       "mpg             float64\n",
       "cylinders         int64\n",
       "displacement    float64\n",
       "horsepower       object\n",
       "weight            int64\n",
       "acceleration    float64\n",
       "model year        int64\n",
       "origin            int64\n",
       "dtype: object"
      ]
     },
     "execution_count": 46,
     "metadata": {},
     "output_type": "execute_result"
    }
   ],
   "source": [
    "# The horsepower column values likely imported as a string data type. \n",
    "# Figure out why and replace any strings with the column mean.\n",
    "mpgs.dtypes"
   ]
  },
  {
   "cell_type": "code",
   "execution_count": 47,
   "id": "896aa3c4",
   "metadata": {},
   "outputs": [
    {
     "data": {
      "text/plain": [
       "array(['130', '165', '150', '140', '198', '220', '215', '225', '190',\n",
       "       '170', '160', '95', '97', '85', '88', '46', '87', '90', '113',\n",
       "       '200', '210', '193', '?', '100', '105', '175', '153', '180', '110',\n",
       "       '72', '86', '70', '76', '65', '69', '60', '80', '54', '208', '155',\n",
       "       '112', '92', '145', '137', '158', '167', '94', '107', '230', '49',\n",
       "       '75', '91', '122', '67', '83', '78', '52', '61', '93', '148',\n",
       "       '129', '96', '71', '98', '115', '53', '81', '79', '120', '152',\n",
       "       '102', '108', '68', '58', '149', '89', '63', '48', '66', '139',\n",
       "       '103', '125', '133', '138', '135', '142', '77', '62', '132', '84',\n",
       "       '64', '74', '116', '82'], dtype=object)"
      ]
     },
     "execution_count": 47,
     "metadata": {},
     "output_type": "execute_result"
    }
   ],
   "source": [
    "mpgs['horsepower'].unique()"
   ]
  },
  {
   "cell_type": "markdown",
   "id": "1e8e8aae",
   "metadata": {},
   "source": [
    "It appears that the question marks have caused the column to be imported as an object"
   ]
  },
  {
   "cell_type": "code",
   "execution_count": 48,
   "id": "54e6498e",
   "metadata": {},
   "outputs": [
    {
     "data": {
      "text/plain": [
       "mpg             float64\n",
       "cylinders         int64\n",
       "displacement    float64\n",
       "horsepower      Float64\n",
       "weight            int64\n",
       "acceleration    float64\n",
       "model year        int64\n",
       "origin            int64\n",
       "dtype: object"
      ]
     },
     "execution_count": 48,
     "metadata": {},
     "output_type": "execute_result"
    }
   ],
   "source": [
    "# Convert data type to numeric\n",
    "mpgs['horsepower'] = pd.to_numeric(mpgs['horsepower'], errors='coerce').astype('Float64')\n",
    "mpgs.dtypes"
   ]
  },
  {
   "cell_type": "code",
   "execution_count": 49,
   "id": "ddd35d3e",
   "metadata": {},
   "outputs": [
    {
     "data": {
      "text/plain": [
       "<FloatingArray>\n",
       "[130.0, 165.0, 150.0, 140.0, 198.0, 220.0, 215.0, 225.0, 190.0, 170.0, 160.0,\n",
       "  95.0,  97.0,  85.0,  88.0,  46.0,  87.0,  90.0, 113.0, 200.0, 210.0, 193.0,\n",
       "  <NA>, 100.0, 105.0, 175.0, 153.0, 180.0, 110.0,  72.0,  86.0,  70.0,  76.0,\n",
       "  65.0,  69.0,  60.0,  80.0,  54.0, 208.0, 155.0, 112.0,  92.0, 145.0, 137.0,\n",
       " 158.0, 167.0,  94.0, 107.0, 230.0,  49.0,  75.0,  91.0, 122.0,  67.0,  83.0,\n",
       "  78.0,  52.0,  61.0,  93.0, 148.0, 129.0,  96.0,  71.0,  98.0, 115.0,  53.0,\n",
       "  81.0,  79.0, 120.0, 152.0, 102.0, 108.0,  68.0,  58.0, 149.0,  89.0,  63.0,\n",
       "  48.0,  66.0, 139.0, 103.0, 125.0, 133.0, 138.0, 135.0, 142.0,  77.0,  62.0,\n",
       " 132.0,  84.0,  64.0,  74.0, 116.0,  82.0]\n",
       "Length: 94, dtype: Float64"
      ]
     },
     "execution_count": 49,
     "metadata": {},
     "output_type": "execute_result"
    }
   ],
   "source": [
    "# Replace question marks with NaN\n",
    "mpgs['horsepower'] = mpgs['horsepower'].replace('?', np.nan)\n",
    "mpgs['horsepower'].unique()"
   ]
  },
  {
   "cell_type": "code",
   "execution_count": 50,
   "id": "4a37c74e",
   "metadata": {},
   "outputs": [
    {
     "data": {
      "text/plain": [
       "<FloatingArray>\n",
       "[             130.0,              165.0,              150.0,\n",
       "              140.0,              198.0,              220.0,\n",
       "              215.0,              225.0,              190.0,\n",
       "              170.0,              160.0,               95.0,\n",
       "               97.0,               85.0,               88.0,\n",
       "               46.0,               87.0,               90.0,\n",
       "              113.0,              200.0,              210.0,\n",
       "              193.0, 104.46938775510205,              100.0,\n",
       "              105.0,              175.0,              153.0,\n",
       "              180.0,              110.0,               72.0,\n",
       "               86.0,               70.0,               76.0,\n",
       "               65.0,               69.0,               60.0,\n",
       "               80.0,               54.0,              208.0,\n",
       "              155.0,              112.0,               92.0,\n",
       "              145.0,              137.0,              158.0,\n",
       "              167.0,               94.0,              107.0,\n",
       "              230.0,               49.0,               75.0,\n",
       "               91.0,              122.0,               67.0,\n",
       "               83.0,               78.0,               52.0,\n",
       "               61.0,               93.0,              148.0,\n",
       "              129.0,               96.0,               71.0,\n",
       "               98.0,              115.0,               53.0,\n",
       "               81.0,               79.0,              120.0,\n",
       "              152.0,              102.0,              108.0,\n",
       "               68.0,               58.0,              149.0,\n",
       "               89.0,               63.0,               48.0,\n",
       "               66.0,              139.0,              103.0,\n",
       "              125.0,              133.0,              138.0,\n",
       "              135.0,              142.0,               77.0,\n",
       "               62.0,              132.0,               84.0,\n",
       "               64.0,               74.0,              116.0,\n",
       "               82.0]\n",
       "Length: 94, dtype: Float64"
      ]
     },
     "execution_count": 50,
     "metadata": {},
     "output_type": "execute_result"
    }
   ],
   "source": [
    "# Replace NaN with column mean\n",
    "mpgs['horsepower'] = mpgs['horsepower'].fillna(mpgs['horsepower'].mean())\n",
    "mpgs['horsepower'].unique()"
   ]
  },
  {
   "cell_type": "markdown",
   "id": "7be1a998",
   "metadata": {},
   "source": [
    "Another option would be to assign the mean value to a variable, then just use .replace to replace all the question marks with the mean value variable. "
   ]
  },
  {
   "cell_type": "markdown",
   "id": "c6edb3c1",
   "metadata": {},
   "source": [
    "#### 3. Create a correlation coefficient matrix and/or visualization. Are there features highly correlated with mpg?"
   ]
  },
  {
   "cell_type": "code",
   "execution_count": 52,
   "id": "8d6b21be",
   "metadata": {},
   "outputs": [
    {
     "data": {
      "text/html": [
       "<div>\n",
       "<style scoped>\n",
       "    .dataframe tbody tr th:only-of-type {\n",
       "        vertical-align: middle;\n",
       "    }\n",
       "\n",
       "    .dataframe tbody tr th {\n",
       "        vertical-align: top;\n",
       "    }\n",
       "\n",
       "    .dataframe thead th {\n",
       "        text-align: right;\n",
       "    }\n",
       "</style>\n",
       "<table border=\"1\" class=\"dataframe\">\n",
       "  <thead>\n",
       "    <tr style=\"text-align: right;\">\n",
       "      <th></th>\n",
       "      <th>mpg</th>\n",
       "      <th>cylinders</th>\n",
       "      <th>displacement</th>\n",
       "      <th>horsepower</th>\n",
       "      <th>weight</th>\n",
       "      <th>acceleration</th>\n",
       "      <th>model year</th>\n",
       "      <th>origin</th>\n",
       "    </tr>\n",
       "  </thead>\n",
       "  <tbody>\n",
       "    <tr>\n",
       "      <th>mpg</th>\n",
       "      <td>1.000000</td>\n",
       "      <td>-0.775396</td>\n",
       "      <td>-0.804203</td>\n",
       "      <td>-0.771437</td>\n",
       "      <td>-0.831741</td>\n",
       "      <td>0.420289</td>\n",
       "      <td>0.579267</td>\n",
       "      <td>0.563450</td>\n",
       "    </tr>\n",
       "    <tr>\n",
       "      <th>cylinders</th>\n",
       "      <td>-0.775396</td>\n",
       "      <td>1.000000</td>\n",
       "      <td>0.950721</td>\n",
       "      <td>0.838939</td>\n",
       "      <td>0.896017</td>\n",
       "      <td>-0.505419</td>\n",
       "      <td>-0.348746</td>\n",
       "      <td>-0.562543</td>\n",
       "    </tr>\n",
       "    <tr>\n",
       "      <th>displacement</th>\n",
       "      <td>-0.804203</td>\n",
       "      <td>0.950721</td>\n",
       "      <td>1.000000</td>\n",
       "      <td>0.893646</td>\n",
       "      <td>0.932824</td>\n",
       "      <td>-0.543684</td>\n",
       "      <td>-0.370164</td>\n",
       "      <td>-0.609409</td>\n",
       "    </tr>\n",
       "    <tr>\n",
       "      <th>horsepower</th>\n",
       "      <td>-0.771437</td>\n",
       "      <td>0.838939</td>\n",
       "      <td>0.893646</td>\n",
       "      <td>1.000000</td>\n",
       "      <td>0.860574</td>\n",
       "      <td>-0.684259</td>\n",
       "      <td>-0.411651</td>\n",
       "      <td>-0.453669</td>\n",
       "    </tr>\n",
       "    <tr>\n",
       "      <th>weight</th>\n",
       "      <td>-0.831741</td>\n",
       "      <td>0.896017</td>\n",
       "      <td>0.932824</td>\n",
       "      <td>0.860574</td>\n",
       "      <td>1.000000</td>\n",
       "      <td>-0.417457</td>\n",
       "      <td>-0.306564</td>\n",
       "      <td>-0.581024</td>\n",
       "    </tr>\n",
       "    <tr>\n",
       "      <th>acceleration</th>\n",
       "      <td>0.420289</td>\n",
       "      <td>-0.505419</td>\n",
       "      <td>-0.543684</td>\n",
       "      <td>-0.684259</td>\n",
       "      <td>-0.417457</td>\n",
       "      <td>1.000000</td>\n",
       "      <td>0.288137</td>\n",
       "      <td>0.205873</td>\n",
       "    </tr>\n",
       "    <tr>\n",
       "      <th>model year</th>\n",
       "      <td>0.579267</td>\n",
       "      <td>-0.348746</td>\n",
       "      <td>-0.370164</td>\n",
       "      <td>-0.411651</td>\n",
       "      <td>-0.306564</td>\n",
       "      <td>0.288137</td>\n",
       "      <td>1.000000</td>\n",
       "      <td>0.180662</td>\n",
       "    </tr>\n",
       "    <tr>\n",
       "      <th>origin</th>\n",
       "      <td>0.563450</td>\n",
       "      <td>-0.562543</td>\n",
       "      <td>-0.609409</td>\n",
       "      <td>-0.453669</td>\n",
       "      <td>-0.581024</td>\n",
       "      <td>0.205873</td>\n",
       "      <td>0.180662</td>\n",
       "      <td>1.000000</td>\n",
       "    </tr>\n",
       "  </tbody>\n",
       "</table>\n",
       "</div>"
      ],
      "text/plain": [
       "                   mpg  cylinders  displacement  horsepower    weight  \\\n",
       "mpg           1.000000  -0.775396     -0.804203   -0.771437 -0.831741   \n",
       "cylinders    -0.775396   1.000000      0.950721    0.838939  0.896017   \n",
       "displacement -0.804203   0.950721      1.000000    0.893646  0.932824   \n",
       "horsepower   -0.771437   0.838939      0.893646    1.000000  0.860574   \n",
       "weight       -0.831741   0.896017      0.932824    0.860574  1.000000   \n",
       "acceleration  0.420289  -0.505419     -0.543684   -0.684259 -0.417457   \n",
       "model year    0.579267  -0.348746     -0.370164   -0.411651 -0.306564   \n",
       "origin        0.563450  -0.562543     -0.609409   -0.453669 -0.581024   \n",
       "\n",
       "              acceleration  model year    origin  \n",
       "mpg               0.420289    0.579267  0.563450  \n",
       "cylinders        -0.505419   -0.348746 -0.562543  \n",
       "displacement     -0.543684   -0.370164 -0.609409  \n",
       "horsepower       -0.684259   -0.411651 -0.453669  \n",
       "weight           -0.417457   -0.306564 -0.581024  \n",
       "acceleration      1.000000    0.288137  0.205873  \n",
       "model year        0.288137    1.000000  0.180662  \n",
       "origin            0.205873    0.180662  1.000000  "
      ]
     },
     "execution_count": 52,
     "metadata": {},
     "output_type": "execute_result"
    }
   ],
   "source": [
    "mpgs.corr()"
   ]
  },
  {
   "cell_type": "markdown",
   "id": "abdeb5c8",
   "metadata": {},
   "source": [
    "Both displacement and weight have a negative correlation with mpg of -.80 or greater, indicating there likely is a relationship between mpg and those respective variables. Cylinders and horsepower also have a high negative correlation of -.77 or higher, inidicating there is also likely a relationship between mpg and these two variables. Though origin and model year both have positive correlations with mpg of over .55, there is much less indication of a statistically significant relationship than between mpg and displacement/weight. "
   ]
  },
  {
   "cell_type": "markdown",
   "id": "e3b2a90f",
   "metadata": {},
   "source": [
    "#### 4. Plot mpg versus weight. Analyze this graph and explain how it relates to the corresponding correlation coefficient."
   ]
  },
  {
   "cell_type": "code",
   "execution_count": 57,
   "id": "7daf31e0",
   "metadata": {},
   "outputs": [
    {
     "data": {
      "image/png": "[encoded data removed]",
      "text/plain": [
       "<Figure size 576x576 with 1 Axes>"
      ]
     },
     "metadata": {
      "needs_background": "light"
     },
     "output_type": "display_data"
    }
   ],
   "source": [
    "plt.figure(figsize=(8,8))\n",
    "plt.scatter(mpgs['mpg'], mpgs['weight'], color='red')\n",
    "plt.xlabel('Miles Per Gallon')\n",
    "plt.ylabel('Weight')\n",
    "plt.title('Weight v. Miles Per Gallon')\n",
    "plt.show()"
   ]
  },
  {
   "cell_type": "markdown",
   "id": "6d2569be",
   "metadata": {},
   "source": [
    "The negative correlation of -.83 between weight and mpg is illustrated well by the above plot. The downward slope shows the strong negative linear relationship, indicating that as a vehicle weight decreases the mpg improves. "
   ]
  },
  {
   "cell_type": "markdown",
   "id": "4eeb2778",
   "metadata": {},
   "source": [
    "#### 5. Randomly split the data into 80% training data and 20% test data, where your target is mpg."
   ]
  },
  {
   "cell_type": "code",
   "execution_count": 72,
   "id": "90b1c80f",
   "metadata": {},
   "outputs": [],
   "source": [
    "from sklearn.linear_model import LinearRegression\n",
    "from sklearn.dummy import DummyRegressor\n",
    "from sklearn.model_selection import train_test_split\n",
    "from sklearn.model_selection import cross_val_score\n",
    "import sklearn.metrics as metrics"
   ]
  },
  {
   "cell_type": "code",
   "execution_count": 63,
   "id": "65be796f",
   "metadata": {},
   "outputs": [],
   "source": [
    "mpgs_train, mpgs_test = train_test_split(mpgs, test_size=.2, random_state=42) \n",
    "#Random state chosen was calculated over 7.5 million years\n",
    "mpgs_train_target = mpgs_train['mpg']\n",
    "mpgs_test_target = mpgs_test['mpg']"
   ]
  },
  {
   "cell_type": "markdown",
   "id": "917ec142",
   "metadata": {},
   "source": [
    "#### 6. Train an ordinary linear regression on the training data."
   ]
  },
  {
   "cell_type": "code",
   "execution_count": 64,
   "id": "f5cceb5a",
   "metadata": {},
   "outputs": [
    {
     "name": "stderr",
     "output_type": "stream",
     "text": [
      "C:\\Users\\Andrew\\anaconda3\\lib\\site-packages\\sklearn\\utils\\validation.py:63: FutureWarning: Arrays of bytes/strings is being converted to decimal numbers if dtype='numeric'. This behavior is deprecated in 0.24 and will be removed in 1.1 (renaming of 0.26). Please convert your data to numeric values explicitly instead.\n",
      "  return f(*args, **kwargs)\n"
     ]
    },
    {
     "data": {
      "text/plain": [
       "LinearRegression()"
      ]
     },
     "execution_count": 64,
     "metadata": {},
     "output_type": "execute_result"
    }
   ],
   "source": [
    "ordinary_model = LinearRegression()\n",
    "ordinary_model.fit(mpgs_train, mpgs_train_target)"
   ]
  },
  {
   "cell_type": "markdown",
   "id": "cba117a5",
   "metadata": {},
   "source": [
    "#### 7. Calculate R2, RMSE, and MAE on both the training and test sets and interpret your results."
   ]
  },
  {
   "cell_type": "code",
   "execution_count": 75,
   "id": "435f1da8",
   "metadata": {},
   "outputs": [
    {
     "name": "stderr",
     "output_type": "stream",
     "text": [
      "C:\\Users\\Andrew\\anaconda3\\lib\\site-packages\\sklearn\\utils\\validation.py:63: FutureWarning: Arrays of bytes/strings is being converted to decimal numbers if dtype='numeric'. This behavior is deprecated in 0.24 and will be removed in 1.1 (renaming of 0.26). Please convert your data to numeric values explicitly instead.\n",
      "  return f(*args, **kwargs)\n",
      "C:\\Users\\Andrew\\anaconda3\\lib\\site-packages\\sklearn\\utils\\validation.py:63: FutureWarning: Arrays of bytes/strings is being converted to decimal numbers if dtype='numeric'. This behavior is deprecated in 0.24 and will be removed in 1.1 (renaming of 0.26). Please convert your data to numeric values explicitly instead.\n",
      "  return f(*args, **kwargs)\n"
     ]
    }
   ],
   "source": [
    "pred_train = ordinary_model.predict(mpgs_train)\n",
    "actual_train = mpgs_train_target\n",
    "pred_test = ordinary_model.predict(mpgs_test)\n",
    "actual_test = mpgs_test_target"
   ]
  },
  {
   "cell_type": "code",
   "execution_count": 78,
   "id": "04bf6c80",
   "metadata": {},
   "outputs": [
    {
     "name": "stdout",
     "output_type": "stream",
     "text": [
      "R-Squared: 1.0\n",
      "MSE: 5.7641421363885e-29\n",
      "RMSE: 7.592194765934618e-15\n",
      "MAE: 5.882087270089509e-15\n"
     ]
    }
   ],
   "source": [
    "r2_train = metrics.r2_score(actual_train, pred_train)\n",
    "mse_train = metrics.mean_squared_error(actual_train, pred_train)\n",
    "rmse_train = np.sqrt(mse_train)\n",
    "mae_train = metrics.mean_absolute_error(actual_train, pred_train)\n",
    "print(\"R-Squared:\", r2_train)\n",
    "print(\"MSE:\", mse_train)\n",
    "print(\"RMSE:\", rmse_train)\n",
    "print(\"MAE:\",mae_train)"
   ]
  },
  {
   "cell_type": "code",
   "execution_count": 79,
   "id": "1f43bb75",
   "metadata": {},
   "outputs": [
    {
     "name": "stdout",
     "output_type": "stream",
     "text": [
      "R-Squared: 1.0\n",
      "MSE: 5.265646542350254e-29\n",
      "RMSE: 7.256477480396569e-15\n",
      "MAE: 5.88418203051333e-15\n"
     ]
    }
   ],
   "source": [
    "r2_test = metrics.r2_score(actual_test, pred_test)\n",
    "mse_test = metrics.mean_squared_error(actual_test, pred_test)\n",
    "rmse_test = np.sqrt(mse_test)\n",
    "mae_test = metrics.mean_absolute_error(actual_test, pred_test)\n",
    "print(\"R-Squared:\", r2_test)\n",
    "print(\"MSE:\", mse_test)\n",
    "print(\"RMSE:\", rmse_test)\n",
    "print(\"MAE:\",mae_test)"
   ]
  },
  {
   "cell_type": "markdown",
   "id": "b3257f6a",
   "metadata": {},
   "source": [
    "The R2 scores of 1.0 shows that the model is a perfect fit. Similar MAE scores of approximately 5.88, as well as approximate RMSE scores of 7.59 and 7.26, show a consistency in the residuals between the two sets."
   ]
  },
  {
   "cell_type": "markdown",
   "id": "3594790e",
   "metadata": {},
   "source": [
    "#### 8. Pick another regression model and repeat the previous two steps. Note: Do NOT choose logistic regression as it is more like a classification model."
   ]
  },
  {
   "cell_type": "code",
   "execution_count": 88,
   "id": "7af6f811",
   "metadata": {},
   "outputs": [],
   "source": [
    "from sklearn.linear_model import Ridge\n",
    "from sklearn.preprocessing import StandardScaler"
   ]
  },
  {
   "cell_type": "code",
   "execution_count": 90,
   "id": "c9709029",
   "metadata": {},
   "outputs": [],
   "source": [
    "scaler=StandardScaler()"
   ]
  },
  {
   "cell_type": "code",
   "execution_count": 94,
   "id": "6f81ee61",
   "metadata": {
    "collapsed": true
   },
   "outputs": [
    {
     "name": "stdout",
     "output_type": "stream",
     "text": [
      "[[-0.96085946  1.52718818  1.0901965  ... -1.31933367 -1.6966673\n",
      "  -0.72949361]\n",
      " [ 0.42836365 -0.85051483 -0.92299623 ... -0.41318225 -1.6966673\n",
      "   1.73836775]\n",
      " [ 1.69129374 -0.85051483 -0.98134964 ...  0.92792185  1.63897537\n",
      "   1.73836775]\n",
      " ...\n",
      " [-0.31676511 -0.85051483 -0.56315019 ... -0.30444408  0.52709448\n",
      "   1.73836775]\n",
      " [ 1.77969885 -0.85051483 -1.00080078 ...  0.60170734  1.36100515\n",
      "   1.73836775]\n",
      " [ 0.30207064 -0.85051483 -0.92299623 ...  1.94281144 -0.86275663\n",
      "   0.50443707]]\n",
      "[[ 1.34434622e+00 -8.80696034e-01 -9.95118603e-01 -1.33345311e+00\n",
      "  -1.35587159e+00  7.79425888e-01  8.99775405e-02  1.97814142e+00]\n",
      " [ 6.62456176e-01 -8.80696034e-01 -7.29080903e-01 -7.15518077e-01\n",
      "  -4.02993015e-01  1.22113123e+00  1.57926097e+00 -6.59380473e-01]\n",
      " [-5.64945900e-01  2.55685945e-01  2.98375041e-01 -2.16416708e-01\n",
      "  -3.92660596e-01 -8.40160373e-01 -1.15109198e+00 -6.59380473e-01]\n",
      " [-1.38321395e+00  1.39206792e+00  1.08731443e+00  9.71919886e-01\n",
      "   1.10668810e+00 -7.66542815e-01  8.99775405e-02 -6.59380473e-01]\n",
      " [-1.24683594e+00  1.39206792e+00  1.08731443e+00  9.71919886e-01\n",
      "   1.44765791e+00 -2.88028693e-01 -6.54664174e-01 -6.59380473e-01]\n",
      " [ 5.26078167e-01 -8.80696034e-01 -9.40076320e-01 -5.01617490e-01\n",
      "  -1.00571741e+00  4.48146880e-01 -9.02878079e-01  1.97814142e+00]\n",
      " [ 1.16944142e-01 -8.80696034e-01 -5.45606627e-01 -4.06550563e-01\n",
      "  -1.27461860e-01  4.11338101e-01  1.57926097e+00 -6.59380473e-01]\n",
      " [-1.38321395e+00  1.39206792e+00  2.20650751e+00  2.51675746e+00\n",
      "   2.01938505e+00 -1.57633595e+00 -6.54664174e-01 -6.59380473e-01]\n",
      " [-8.37701917e-01  1.39206792e+00  5.55239027e-01  2.12506110e-02\n",
      "   1.24445368e+00  1.36836635e+00  3.38191445e-01 -6.59380473e-01]\n",
      " [-2.92189883e-01  2.55685945e-01  4.81619974e-03 -1.10193967e-01\n",
      "  -1.15981395e-01  6.32190773e-01 -4.06450269e-01 -6.59380473e-01]\n",
      " [-1.11045793e+00  1.39206792e+00  1.74782182e+00  1.92258916e+00\n",
      "   1.00336392e+00 -2.49655541e+00 -1.39930589e+00 -6.59380473e-01]\n",
      " [ 2.02623626e+00 -8.80696034e-01 -9.95118603e-01 -1.00071886e+00\n",
      "  -1.16070369e+00 -1.03984800e-01  1.57926097e+00  1.97814142e+00]\n",
      " [ 3.89700159e-01 -8.80696034e-01 -9.95118603e-01 -9.29418664e-01\n",
      "  -1.17218415e+00  1.92049803e+00 -1.15109198e+00 -6.59380473e-01]\n",
      " [-1.11045793e+00  1.39206792e+00  9.58882433e-01  9.71919886e-01\n",
      "   1.05158187e+00 -1.02420427e+00 -9.02878079e-01 -6.59380473e-01]\n",
      " [ 2.53322151e-01 -8.80696034e-01 -5.45606627e-01 -8.10585005e-01\n",
      "  -4.98280872e-01  6.32190773e-01 -4.06450269e-01 -6.59380473e-01]\n",
      " [-1.51959196e+00  1.39206792e+00  1.68360582e+00  1.68492184e+00\n",
      "   2.27195528e+00 -1.39229205e+00 -1.15109198e+00 -6.59380473e-01]\n",
      " [ 1.07159020e+00 -8.80696034e-01 -8.02470613e-01 -5.72917686e-01\n",
      "  -4.60395338e-01  3.37720544e-01  1.57926097e+00 -6.59380473e-01]\n",
      " [-8.37701917e-01  2.55685945e-01 -3.34611210e-01  3.77751589e-01\n",
      "   1.88250921e-01 -6.19307701e-01  5.86405350e-01  6.59380473e-01]\n",
      " [-9.74079925e-01  1.39206792e+00  1.83955896e+00  1.68492184e+00\n",
      "   1.42814112e+00 -1.53952717e+00  3.38191445e-01 -6.59380473e-01]\n",
      " [ 1.07159020e+00 -8.80696034e-01 -9.95118603e-01 -9.76952128e-01\n",
      "  -1.15496346e+00  8.53043445e-01  1.57926097e+00  1.97814142e+00]\n",
      " [-1.55811875e-01 -8.80696034e-01 -7.19907189e-01 -7.86818273e-01\n",
      "  -5.33870313e-01  1.00027856e+00 -9.02878079e-01  6.59380473e-01]\n",
      " [-1.55811875e-01  2.55685945e-01 -1.35312278e-02 -3.35250367e-01\n",
      "  -1.64199347e-01  8.00590936e-02 -1.39930589e+00 -6.59380473e-01]\n",
      " [-1.55811875e-01  2.55685945e-01  2.98375041e-01  6.87840748e-02\n",
      "  -1.61903254e-01 -2.14411136e-01  1.57926097e+00 -6.59380473e-01]\n",
      " [ 1.41253522e+00 -8.80696034e-01 -9.30902606e-01 -6.20451150e-01\n",
      "  -1.03441858e+00  2.27294208e-01  3.38191445e-01 -6.59380473e-01]\n",
      " [-7.01323908e-01  1.39206792e+00  9.86403575e-01  4.96585249e-01\n",
      "   6.06139839e-01 -1.20824816e+00 -1.39930589e+00 -6.59380473e-01]\n",
      " [ 2.84450431e+00 -8.80696034e-01 -9.40076320e-01 -1.35721984e+00\n",
      "  -9.71276021e-01  3.42965795e+00  1.57926097e+00  6.59380473e-01]\n",
      " [ 3.89700159e-01 -8.80696034e-01 -9.30902606e-01 -4.54084026e-01\n",
      "  -8.16289746e-01  8.00590936e-02 -6.54664174e-01  6.59380473e-01]\n",
      " [ 1.85133146e-01 -8.80696034e-01 -4.44695776e-01 -5.01617490e-01\n",
      "  -2.70967670e-01  2.64102987e-01  3.38191445e-01 -6.59380473e-01]\n",
      " [-6.87686107e-01  2.55685945e-01  5.36891599e-01  2.58917930e-01\n",
      "   4.98223470e-01 -6.71760210e-02  5.86405350e-01 -6.59380473e-01]\n",
      " [-1.51959196e+00  1.39206792e+00  1.83955896e+00  1.37595433e+00\n",
      "   2.21570100e+00 -1.02420427e+00 -6.54664174e-01 -6.59380473e-01]\n",
      " [ 5.26078167e-01 -8.80696034e-01 -5.45606627e-01 -5.49150954e-01\n",
      "  -2.13565346e-01  1.16867872e-01  1.57926097e+00 -6.59380473e-01]\n",
      " [ 1.75348024e+00 -8.80696034e-01 -8.66686610e-01 -8.34351736e-01\n",
      "  -1.14348299e+00  6.44153626e-03  1.57926097e+00  6.59380473e-01]\n",
      " [-1.94338662e-02  1.39206792e+00  1.38087327e+00  3.77751589e-01\n",
      "   1.06076624e+00  7.79425888e-01  8.34619255e-01 -6.59380473e-01]\n",
      " [ 1.16944142e-01 -8.80696034e-01 -7.93296899e-01 -3.35250367e-01\n",
      "  -8.01365142e-01  8.00590936e-02 -9.02878079e-01  1.97814142e+00]\n",
      " [ 1.91713385e+00 -8.80696034e-01 -1.04098717e+00 -1.04825232e+00\n",
      "  -1.09870918e+00  4.11338101e-01  1.08283316e+00  1.97814142e+00]\n",
      " [-9.74079925e-01  1.39206792e+00  1.83955896e+00  2.87325844e+00\n",
      "   1.49472781e+00 -2.12846763e+00 -6.54664174e-01 -6.59380473e-01]\n",
      " [-2.92189883e-01  2.55685945e-01 -4.08000921e-01 -5.00495846e-02\n",
      "  -5.78644125e-01 -4.72072586e-01 -6.54664174e-01 -6.59380473e-01]\n",
      " [-5.37670298e-01  1.39206792e+00  9.68056147e-01  8.53086227e-01\n",
      "   5.15444167e-01 -7.66542815e-01  5.86405350e-01 -6.59380473e-01]\n",
      " [-9.74079925e-01  1.39206792e+00  1.08731443e+00  9.71919886e-01\n",
      "   1.74729804e+00 -2.88028693e-01 -1.58236364e-01 -6.59380473e-01]\n",
      " [ 7.98834184e-01 -8.80696034e-01 -9.30902606e-01 -6.20451150e-01\n",
      "  -8.69099884e-01  4.48146880e-01 -4.06450269e-01  6.59380473e-01]\n",
      " [ 4.98802566e-01  2.55685945e-01 -2.42874072e-01  1.40084270e-01\n",
      "  -3.16889529e-01 -8.76969151e-01  8.34619255e-01 -6.59380473e-01]\n",
      " [ 5.26078167e-01 -8.80696034e-01 -9.40076320e-01 -1.16708598e+00\n",
      "  -1.31109778e+00  1.36836635e+00 -1.15109198e+00  6.59380473e-01]\n",
      " [-7.01323908e-01 -8.80696034e-01 -7.19907189e-01  6.87840748e-02\n",
      "  -4.93946997e-02 -2.88028693e-01 -9.02878079e-01  6.59380473e-01]\n",
      " [-1.79234798e+00  1.39206792e+00  1.47261041e+00  2.51675746e+00\n",
      "   1.88161947e+00 -4.72072586e-01 -1.39930589e+00 -6.59380473e-01]\n",
      " [-1.94338662e-02 -8.80696034e-01 -7.29080903e-01 -2.87716903e-01\n",
      "  -5.39610545e-01 -2.88028693e-01 -9.02878079e-01  1.97814142e+00]\n",
      " [ 1.75348024e+00 -8.80696034e-01 -7.29080903e-01 -5.01617490e-01\n",
      "  -9.36834626e-01 -2.88028693e-01  1.57926097e+00  1.97814142e+00]\n",
      " [ 3.89700159e-01 -8.80696034e-01 -7.65775758e-01 -8.10585005e-01\n",
      "  -8.38102629e-01 -4.72072586e-01 -4.06450269e-01  6.59380473e-01]\n",
      " [ 2.53322151e-01 -8.80696034e-01 -7.19907189e-01  1.40084270e-01\n",
      "  -3.50182877e-01 -6.56116479e-01 -1.58236364e-01  6.59380473e-01]\n",
      " [ 2.53322151e-01 -8.80696034e-01 -8.75860324e-01 -3.35250367e-01\n",
      "  -6.90004634e-01  8.16234666e-01 -1.39930589e+00  6.59380473e-01]\n",
      " [ 2.53322151e-01 -8.80696034e-01 -1.00429232e+00 -9.05651932e-01\n",
      "  -8.64507698e-01  4.48146880e-01 -1.58236364e-01  6.59380473e-01]\n",
      " [-1.55811875e-01 -8.80696034e-01 -5.45606627e-01 -8.81885200e-01\n",
      "  -6.52119100e-01  1.36836635e+00 -1.15109198e+00 -6.59380473e-01]\n",
      " [ 1.49436203e+00 -8.80696034e-01 -1.04098717e+00 -1.04825232e+00\n",
      "  -1.14922322e+00 -3.03672424e-02  8.34619255e-01  1.97814142e+00]\n",
      " [ 1.26251941e+00 -8.80696034e-01 -8.48339182e-01 -8.81885200e-01\n",
      "  -7.87588584e-01  6.32190773e-01  1.08283316e+00  1.97814142e+00]\n",
      " [-1.38321395e+00  1.39206792e+00  1.83955896e+00  1.92258916e+00\n",
      "   1.66004650e+00 -1.02420427e+00 -9.02878079e-01 -6.59380473e-01]\n",
      " [ 4.87551380e-02  2.55685945e-01 -2.42874072e-01  2.12506110e-02\n",
      "  -2.88188367e-01 -9.87395487e-01  1.33104706e+00 -6.59380473e-01]\n",
      " [-1.24683594e+00  1.39206792e+00  1.83955896e+00  1.56608818e+00\n",
      "   1.70826446e+00 -1.39229205e+00 -1.15109198e+00 -6.59380473e-01]\n",
      " [-6.33134904e-01  1.39206792e+00  1.47261041e+00  9.71919886e-01\n",
      "   1.10668810e+00 -8.40160373e-01  8.34619255e-01 -6.59380473e-01]\n",
      " [ 9.07936591e-01 -8.80696034e-01 -6.00648910e-01 -4.54084026e-01\n",
      "  -3.04261018e-01  8.00590936e-02  1.08283316e+00  1.97814142e+00]\n",
      " [ 6.62456176e-01 -8.80696034e-01 -5.45606627e-01 -4.54084026e-01\n",
      "  -8.17437793e-01  8.00590936e-02 -1.15109198e+00 -6.59380473e-01]\n",
      " [-5.64945900e-01  2.55685945e-01  2.34159044e-01 -3.35250367e-01\n",
      "   3.30608684e-01  2.64102987e-01 -1.58236364e-01 -6.59380473e-01]\n",
      " [-1.65596997e+00  1.39206792e+00  1.38087327e+00  1.68492184e+00\n",
      "   7.89827275e-01 -1.57633595e+00 -6.54664174e-01 -6.59380473e-01]\n",
      " [ 1.34434622e+00 -8.80696034e-01 -9.95118603e-01 -1.33345311e+00\n",
      "  -1.35587159e+00  8.16234666e-01 -1.58236364e-01  1.97814142e+00]\n",
      " [-1.94338662e-02 -8.80696034e-01 -5.45606627e-01 -6.20451150e-01\n",
      "  -3.86920364e-01  6.32190773e-01 -1.58236364e-01 -6.59380473e-01]\n",
      " [-2.92189883e-01 -8.80696034e-01 -7.29080903e-01 -5.25384222e-01\n",
      "   3.41543827e-03  1.55241024e+00 -9.02878079e-01  6.59380473e-01]\n",
      " [-1.94338662e-02  2.55685945e-01 -1.35312278e-02 -3.35250367e-01\n",
      "  -8.26880475e-02  2.64102987e-01 -6.54664174e-01 -6.59380473e-01]\n",
      " [ 2.53322151e-01 -8.80696034e-01 -7.93296899e-01 -3.35250367e-01\n",
      "  -8.58767466e-01 -4.72072586e-01 -1.15109198e+00  1.97814142e+00]\n",
      " [ 8.96685405e-02 -8.80696034e-01 -4.44695776e-01 -5.72917686e-01\n",
      "  -1.38942325e-01  8.53043445e-01  5.86405350e-01 -6.59380473e-01]\n",
      " [ 1.53527543e+00 -8.80696034e-01 -9.30902606e-01 -1.04825232e+00\n",
      "  -1.06885997e+00  3.37720544e-01  1.33104706e+00 -6.59380473e-01]\n",
      " [ 1.85133146e-01 -8.80696034e-01 -9.30902606e-01 -1.16708598e+00\n",
      "  -9.32242440e-01  2.50943848e+00  8.99775405e-02 -6.59380473e-01]\n",
      " [-1.38321395e+00  1.39206792e+00  9.86403575e-01  4.96585249e-01\n",
      "   1.28807945e+00 -4.72072586e-01 -9.02878079e-01 -6.59380473e-01]\n",
      " [ 1.57618883e+00 -8.80696034e-01 -8.66686610e-01 -1.09578579e+00\n",
      "  -8.73692070e-01 -1.40793578e-01  1.33104706e+00 -6.59380473e-01]\n",
      " [-1.24683594e+00  1.39206792e+00  9.58882433e-01  9.71919886e-01\n",
      "   1.47061884e+00  8.00590936e-02 -4.06450269e-01 -6.59380473e-01]\n",
      " [-1.11045793e+00  1.39206792e+00  2.10559666e+00  2.11272302e+00\n",
      "   1.56705474e+00 -1.94442373e+00 -1.39930589e+00 -6.59380473e-01]\n",
      " [-7.01323908e-01  2.55685945e-01  5.36891599e-01  2.12506110e-02\n",
      "  -1.61013518e-02 -6.56116479e-01 -1.15109198e+00 -6.59380473e-01]\n",
      " [ 2.53322151e-01  2.55685945e-01 -1.69484362e-01  2.12506110e-02\n",
      "  -3.56181419e-02  4.11338101e-01  1.57926097e+00 -6.59380473e-01]\n",
      " [-4.42205692e-01  1.39206792e+00  5.55239027e-01  2.12506110e-02\n",
      "   4.46561378e-01  8.00590936e-02  5.86405350e-01 -6.59380473e-01]\n",
      " [-7.69512912e-01  2.55685945e-01  4.63501889e-01  2.12506110e-02\n",
      "   6.24508582e-01  4.11338101e-01  3.38191445e-01 -6.59380473e-01]\n",
      " [ 6.62456176e-01 -8.80696034e-01 -8.02470613e-01 -5.01617490e-01\n",
      "  -4.25953944e-01  1.58921902e+00  1.57926097e+00 -6.59380473e-01]\n",
      " [ 7.98834184e-01 -8.80696034e-01 -1.00429232e+00 -9.29418664e-01\n",
      "  -1.19284899e+00 -4.72072586e-01 -1.58236364e-01  6.59380473e-01]\n",
      " [-8.37701917e-01  1.39206792e+00  9.68056147e-01  4.96585249e-01\n",
      "   9.91883455e-01  4.32503149e-02  8.34619255e-01 -6.59380473e-01]]\n"
     ]
    }
   ],
   "source": [
    "train_standardized = scaler.fit_transform(mpgs_train)\n",
    "test_standardized = scaler.fit_transform(mpgs_test)\n",
    "print(train_standardized)\n",
    "print(test_standardized)"
   ]
  },
  {
   "cell_type": "code",
   "execution_count": 95,
   "id": "9d8ea01d",
   "metadata": {},
   "outputs": [],
   "source": [
    "ridge_regression = Ridge(alpha=.5)"
   ]
  },
  {
   "cell_type": "code",
   "execution_count": 96,
   "id": "d696dfec",
   "metadata": {},
   "outputs": [],
   "source": [
    "ridge_train = ridge_regression.fit(train_standardized, mpgs_train_target)\n",
    "ridge_test = ridge_regression.fit(test_standardized, mpgs_test_target)"
   ]
  }
 ],
 "metadata": {
  "kernelspec": {
   "display_name": "Python 3 (ipykernel)",
   "language": "python",
   "name": "python3"
  },
  "language_info": {
   "codemirror_mode": {
    "name": "ipython",
    "version": 3
   },
   "file_extension": ".py",
   "mimetype": "text/x-python",
   "name": "python",
   "nbconvert_exporter": "python",
   "pygments_lexer": "ipython3",
   "version": "3.9.7"
  }
 },
 "nbformat": 4,
 "nbformat_minor": 5
}
