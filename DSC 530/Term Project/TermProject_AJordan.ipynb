{
 "cells": [
  {
   "cell_type": "markdown",
   "id": "6e92c446",
   "metadata": {},
   "source": [
    "Term Project\n",
    "\n",
    "Author: Jordan, Andrew"
   ]
  },
  {
   "cell_type": "code",
   "execution_count": 213,
   "id": "1616b23a",
   "metadata": {},
   "outputs": [],
   "source": [
    "from __future__ import print_function, division\n",
    "import statsmodels.formula.api as smf\n",
    "import seaborn as sns\n",
    "import numpy as np\n",
    "import pandas as pd\n",
    "import statistics\n",
    "import sys\n",
    "import nsfg\n",
    "import first\n",
    "import math\n",
    "import random\n",
    "import thinkstats2\n",
    "import thinkplot\n",
    "import scatter\n",
    "import regression\n",
    "import timeseries\n",
    "import scipy.stats as stats"
   ]
  },
  {
   "cell_type": "code",
   "execution_count": 214,
   "id": "0be6ad01",
   "metadata": {},
   "outputs": [
    {
     "name": "stdout",
     "output_type": "stream",
     "text": [
      "     Year  FG  FGA  TP  TPA  TOV\n",
      "0    1980  48   89   0    0   17\n",
      "1    1980  48   95   0    1   26\n",
      "2    1980  44   92   0    1   20\n",
      "3    1980  44   93   0    0   19\n",
      "4    1980  41   91   0    0   21\n",
      "..    ...  ..  ...  ..  ...  ...\n",
      "215  2017  46   90  14   38   13\n",
      "216  2018  46   90  13   36    7\n",
      "217  2018  47   82  15   36   12\n",
      "218  2018  42   81   9   26   10\n",
      "219  2018  39   86  14   38    8\n",
      "\n",
      "[220 rows x 6 columns]\n"
     ]
    }
   ],
   "source": [
    "#Import data into dataframe\n",
    "nbaData = pd.read_csv(\"championsdata.csv\")\n",
    "nbaData\n",
    "nbaDF_baseline = pd.DataFrame(nbaData, columns=[\"Year\",\"FG\",\"FGA\",\"TP\",\"TPA\",\"TOV\"])\n",
    "print(nbaDF_baseline)"
   ]
  },
  {
   "cell_type": "code",
   "execution_count": 215,
   "id": "c2b3e77a",
   "metadata": {},
   "outputs": [
    {
     "data": {
      "text/html": [
       "<div>\n",
       "<style scoped>\n",
       "    .dataframe tbody tr th:only-of-type {\n",
       "        vertical-align: middle;\n",
       "    }\n",
       "\n",
       "    .dataframe tbody tr th {\n",
       "        vertical-align: top;\n",
       "    }\n",
       "\n",
       "    .dataframe thead th {\n",
       "        text-align: right;\n",
       "    }\n",
       "</style>\n",
       "<table border=\"1\" class=\"dataframe\">\n",
       "  <thead>\n",
       "    <tr style=\"text-align: right;\">\n",
       "      <th></th>\n",
       "      <th>FG</th>\n",
       "      <th>FGA</th>\n",
       "      <th>TP</th>\n",
       "      <th>TPA</th>\n",
       "      <th>TOV</th>\n",
       "    </tr>\n",
       "    <tr>\n",
       "      <th>Year</th>\n",
       "      <th></th>\n",
       "      <th></th>\n",
       "      <th></th>\n",
       "      <th></th>\n",
       "      <th></th>\n",
       "    </tr>\n",
       "  </thead>\n",
       "  <tbody>\n",
       "    <tr>\n",
       "      <th>1980</th>\n",
       "      <td>270</td>\n",
       "      <td>552</td>\n",
       "      <td>0</td>\n",
       "      <td>4</td>\n",
       "      <td>120</td>\n",
       "    </tr>\n",
       "    <tr>\n",
       "      <th>1981</th>\n",
       "      <td>241</td>\n",
       "      <td>512</td>\n",
       "      <td>3</td>\n",
       "      <td>17</td>\n",
       "      <td>101</td>\n",
       "    </tr>\n",
       "    <tr>\n",
       "      <th>1982</th>\n",
       "      <td>273</td>\n",
       "      <td>551</td>\n",
       "      <td>1</td>\n",
       "      <td>9</td>\n",
       "      <td>116</td>\n",
       "    </tr>\n",
       "    <tr>\n",
       "      <th>1983</th>\n",
       "      <td>172</td>\n",
       "      <td>354</td>\n",
       "      <td>0</td>\n",
       "      <td>3</td>\n",
       "      <td>68</td>\n",
       "    </tr>\n",
       "    <tr>\n",
       "      <th>1984</th>\n",
       "      <td>294</td>\n",
       "      <td>650</td>\n",
       "      <td>9</td>\n",
       "      <td>23</td>\n",
       "      <td>111</td>\n",
       "    </tr>\n",
       "    <tr>\n",
       "      <th>1985</th>\n",
       "      <td>278</td>\n",
       "      <td>543</td>\n",
       "      <td>8</td>\n",
       "      <td>23</td>\n",
       "      <td>75</td>\n",
       "    </tr>\n",
       "    <tr>\n",
       "      <th>1986</th>\n",
       "      <td>262</td>\n",
       "      <td>533</td>\n",
       "      <td>10</td>\n",
       "      <td>32</td>\n",
       "      <td>95</td>\n",
       "    </tr>\n",
       "    <tr>\n",
       "      <th>1987</th>\n",
       "      <td>280</td>\n",
       "      <td>544</td>\n",
       "      <td>16</td>\n",
       "      <td>41</td>\n",
       "      <td>67</td>\n",
       "    </tr>\n",
       "    <tr>\n",
       "      <th>1988</th>\n",
       "      <td>248</td>\n",
       "      <td>531</td>\n",
       "      <td>10</td>\n",
       "      <td>40</td>\n",
       "      <td>92</td>\n",
       "    </tr>\n",
       "    <tr>\n",
       "      <th>1989</th>\n",
       "      <td>167</td>\n",
       "      <td>317</td>\n",
       "      <td>5</td>\n",
       "      <td>20</td>\n",
       "      <td>45</td>\n",
       "    </tr>\n",
       "    <tr>\n",
       "      <th>1990</th>\n",
       "      <td>197</td>\n",
       "      <td>434</td>\n",
       "      <td>25</td>\n",
       "      <td>56</td>\n",
       "      <td>75</td>\n",
       "    </tr>\n",
       "    <tr>\n",
       "      <th>1991</th>\n",
       "      <td>213</td>\n",
       "      <td>404</td>\n",
       "      <td>5</td>\n",
       "      <td>21</td>\n",
       "      <td>63</td>\n",
       "    </tr>\n",
       "    <tr>\n",
       "      <th>1992</th>\n",
       "      <td>241</td>\n",
       "      <td>478</td>\n",
       "      <td>25</td>\n",
       "      <td>65</td>\n",
       "      <td>90</td>\n",
       "    </tr>\n",
       "    <tr>\n",
       "      <th>1993</th>\n",
       "      <td>263</td>\n",
       "      <td>544</td>\n",
       "      <td>32</td>\n",
       "      <td>69</td>\n",
       "      <td>71</td>\n",
       "    </tr>\n",
       "    <tr>\n",
       "      <th>1994</th>\n",
       "      <td>223</td>\n",
       "      <td>523</td>\n",
       "      <td>37</td>\n",
       "      <td>121</td>\n",
       "      <td>108</td>\n",
       "    </tr>\n",
       "    <tr>\n",
       "      <th>1995</th>\n",
       "      <td>162</td>\n",
       "      <td>343</td>\n",
       "      <td>37</td>\n",
       "      <td>92</td>\n",
       "      <td>39</td>\n",
       "    </tr>\n",
       "    <tr>\n",
       "      <th>1996</th>\n",
       "      <td>197</td>\n",
       "      <td>474</td>\n",
       "      <td>36</td>\n",
       "      <td>137</td>\n",
       "      <td>80</td>\n",
       "    </tr>\n",
       "    <tr>\n",
       "      <th>1997</th>\n",
       "      <td>194</td>\n",
       "      <td>449</td>\n",
       "      <td>39</td>\n",
       "      <td>112</td>\n",
       "      <td>68</td>\n",
       "    </tr>\n",
       "    <tr>\n",
       "      <th>1998</th>\n",
       "      <td>195</td>\n",
       "      <td>453</td>\n",
       "      <td>26</td>\n",
       "      <td>88</td>\n",
       "      <td>72</td>\n",
       "    </tr>\n",
       "    <tr>\n",
       "      <th>1999</th>\n",
       "      <td>150</td>\n",
       "      <td>337</td>\n",
       "      <td>21</td>\n",
       "      <td>62</td>\n",
       "      <td>77</td>\n",
       "    </tr>\n",
       "    <tr>\n",
       "      <th>2000</th>\n",
       "      <td>246</td>\n",
       "      <td>512</td>\n",
       "      <td>35</td>\n",
       "      <td>92</td>\n",
       "      <td>65</td>\n",
       "    </tr>\n",
       "    <tr>\n",
       "      <th>2001</th>\n",
       "      <td>181</td>\n",
       "      <td>389</td>\n",
       "      <td>36</td>\n",
       "      <td>75</td>\n",
       "      <td>74</td>\n",
       "    </tr>\n",
       "    <tr>\n",
       "      <th>2002</th>\n",
       "      <td>146</td>\n",
       "      <td>289</td>\n",
       "      <td>29</td>\n",
       "      <td>61</td>\n",
       "      <td>60</td>\n",
       "    </tr>\n",
       "    <tr>\n",
       "      <th>2003</th>\n",
       "      <td>193</td>\n",
       "      <td>447</td>\n",
       "      <td>24</td>\n",
       "      <td>75</td>\n",
       "      <td>95</td>\n",
       "    </tr>\n",
       "    <tr>\n",
       "      <th>2004</th>\n",
       "      <td>157</td>\n",
       "      <td>366</td>\n",
       "      <td>21</td>\n",
       "      <td>66</td>\n",
       "      <td>63</td>\n",
       "    </tr>\n",
       "    <tr>\n",
       "      <th>2005</th>\n",
       "      <td>216</td>\n",
       "      <td>503</td>\n",
       "      <td>51</td>\n",
       "      <td>128</td>\n",
       "      <td>105</td>\n",
       "    </tr>\n",
       "    <tr>\n",
       "      <th>2006</th>\n",
       "      <td>200</td>\n",
       "      <td>437</td>\n",
       "      <td>32</td>\n",
       "      <td>105</td>\n",
       "      <td>96</td>\n",
       "    </tr>\n",
       "    <tr>\n",
       "      <th>2007</th>\n",
       "      <td>128</td>\n",
       "      <td>288</td>\n",
       "      <td>29</td>\n",
       "      <td>78</td>\n",
       "      <td>52</td>\n",
       "    </tr>\n",
       "    <tr>\n",
       "      <th>2008</th>\n",
       "      <td>206</td>\n",
       "      <td>464</td>\n",
       "      <td>52</td>\n",
       "      <td>121</td>\n",
       "      <td>77</td>\n",
       "    </tr>\n",
       "    <tr>\n",
       "      <th>2009</th>\n",
       "      <td>190</td>\n",
       "      <td>416</td>\n",
       "      <td>32</td>\n",
       "      <td>86</td>\n",
       "      <td>50</td>\n",
       "    </tr>\n",
       "    <tr>\n",
       "      <th>2010</th>\n",
       "      <td>223</td>\n",
       "      <td>534</td>\n",
       "      <td>35</td>\n",
       "      <td>125</td>\n",
       "      <td>87</td>\n",
       "    </tr>\n",
       "    <tr>\n",
       "      <th>2011</th>\n",
       "      <td>198</td>\n",
       "      <td>436</td>\n",
       "      <td>51</td>\n",
       "      <td>124</td>\n",
       "      <td>79</td>\n",
       "    </tr>\n",
       "    <tr>\n",
       "      <th>2012</th>\n",
       "      <td>212</td>\n",
       "      <td>462</td>\n",
       "      <td>50</td>\n",
       "      <td>123</td>\n",
       "      <td>65</td>\n",
       "    </tr>\n",
       "    <tr>\n",
       "      <th>2013</th>\n",
       "      <td>228</td>\n",
       "      <td>493</td>\n",
       "      <td>56</td>\n",
       "      <td>123</td>\n",
       "      <td>75</td>\n",
       "    </tr>\n",
       "    <tr>\n",
       "      <th>2014</th>\n",
       "      <td>191</td>\n",
       "      <td>362</td>\n",
       "      <td>55</td>\n",
       "      <td>118</td>\n",
       "      <td>67</td>\n",
       "    </tr>\n",
       "    <tr>\n",
       "      <th>2015</th>\n",
       "      <td>217</td>\n",
       "      <td>498</td>\n",
       "      <td>67</td>\n",
       "      <td>186</td>\n",
       "      <td>76</td>\n",
       "    </tr>\n",
       "    <tr>\n",
       "      <th>2016</th>\n",
       "      <td>263</td>\n",
       "      <td>577</td>\n",
       "      <td>56</td>\n",
       "      <td>170</td>\n",
       "      <td>93</td>\n",
       "    </tr>\n",
       "    <tr>\n",
       "      <th>2017</th>\n",
       "      <td>216</td>\n",
       "      <td>455</td>\n",
       "      <td>71</td>\n",
       "      <td>186</td>\n",
       "      <td>67</td>\n",
       "    </tr>\n",
       "    <tr>\n",
       "      <th>2018</th>\n",
       "      <td>174</td>\n",
       "      <td>339</td>\n",
       "      <td>51</td>\n",
       "      <td>136</td>\n",
       "      <td>37</td>\n",
       "    </tr>\n",
       "  </tbody>\n",
       "</table>\n",
       "</div>"
      ],
      "text/plain": [
       "       FG  FGA  TP  TPA  TOV\n",
       "Year                        \n",
       "1980  270  552   0    4  120\n",
       "1981  241  512   3   17  101\n",
       "1982  273  551   1    9  116\n",
       "1983  172  354   0    3   68\n",
       "1984  294  650   9   23  111\n",
       "1985  278  543   8   23   75\n",
       "1986  262  533  10   32   95\n",
       "1987  280  544  16   41   67\n",
       "1988  248  531  10   40   92\n",
       "1989  167  317   5   20   45\n",
       "1990  197  434  25   56   75\n",
       "1991  213  404   5   21   63\n",
       "1992  241  478  25   65   90\n",
       "1993  263  544  32   69   71\n",
       "1994  223  523  37  121  108\n",
       "1995  162  343  37   92   39\n",
       "1996  197  474  36  137   80\n",
       "1997  194  449  39  112   68\n",
       "1998  195  453  26   88   72\n",
       "1999  150  337  21   62   77\n",
       "2000  246  512  35   92   65\n",
       "2001  181  389  36   75   74\n",
       "2002  146  289  29   61   60\n",
       "2003  193  447  24   75   95\n",
       "2004  157  366  21   66   63\n",
       "2005  216  503  51  128  105\n",
       "2006  200  437  32  105   96\n",
       "2007  128  288  29   78   52\n",
       "2008  206  464  52  121   77\n",
       "2009  190  416  32   86   50\n",
       "2010  223  534  35  125   87\n",
       "2011  198  436  51  124   79\n",
       "2012  212  462  50  123   65\n",
       "2013  228  493  56  123   75\n",
       "2014  191  362  55  118   67\n",
       "2015  217  498  67  186   76\n",
       "2016  263  577  56  170   93\n",
       "2017  216  455  71  186   67\n",
       "2018  174  339  51  136   37"
      ]
     },
     "execution_count": 215,
     "metadata": {},
     "output_type": "execute_result"
    }
   ],
   "source": [
    "#Combine rows by year and sum variables\n",
    "nbaDF = nbaDF_baseline.groupby([\"Year\"]).agg({\"FG\":sum,\"FGA\":sum,\"TP\":sum,\"TPA\":sum,\"TOV\":sum})\n",
    "nbaDF"
   ]
  },
  {
   "cell_type": "code",
   "execution_count": 216,
   "id": "89319af1",
   "metadata": {},
   "outputs": [
    {
     "data": {
      "text/html": [
       "<div>\n",
       "<style scoped>\n",
       "    .dataframe tbody tr th:only-of-type {\n",
       "        vertical-align: middle;\n",
       "    }\n",
       "\n",
       "    .dataframe tbody tr th {\n",
       "        vertical-align: top;\n",
       "    }\n",
       "\n",
       "    .dataframe thead th {\n",
       "        text-align: right;\n",
       "    }\n",
       "</style>\n",
       "<table border=\"1\" class=\"dataframe\">\n",
       "  <thead>\n",
       "    <tr style=\"text-align: right;\">\n",
       "      <th></th>\n",
       "      <th>FG</th>\n",
       "      <th>FGA</th>\n",
       "      <th>TP</th>\n",
       "      <th>TPA</th>\n",
       "      <th>TOV</th>\n",
       "    </tr>\n",
       "  </thead>\n",
       "  <tbody>\n",
       "    <tr>\n",
       "      <th>FG</th>\n",
       "      <td>1.000000</td>\n",
       "      <td>0.937614</td>\n",
       "      <td>-0.215191</td>\n",
       "      <td>-0.198226</td>\n",
       "      <td>0.620104</td>\n",
       "    </tr>\n",
       "    <tr>\n",
       "      <th>FGA</th>\n",
       "      <td>0.937614</td>\n",
       "      <td>1.000000</td>\n",
       "      <td>-0.087519</td>\n",
       "      <td>-0.022303</td>\n",
       "      <td>0.716722</td>\n",
       "    </tr>\n",
       "    <tr>\n",
       "      <th>TP</th>\n",
       "      <td>-0.215191</td>\n",
       "      <td>-0.087519</td>\n",
       "      <td>1.000000</td>\n",
       "      <td>0.958290</td>\n",
       "      <td>-0.252195</td>\n",
       "    </tr>\n",
       "    <tr>\n",
       "      <th>TPA</th>\n",
       "      <td>-0.198226</td>\n",
       "      <td>-0.022303</td>\n",
       "      <td>0.958290</td>\n",
       "      <td>1.000000</td>\n",
       "      <td>-0.178499</td>\n",
       "    </tr>\n",
       "    <tr>\n",
       "      <th>TOV</th>\n",
       "      <td>0.620104</td>\n",
       "      <td>0.716722</td>\n",
       "      <td>-0.252195</td>\n",
       "      <td>-0.178499</td>\n",
       "      <td>1.000000</td>\n",
       "    </tr>\n",
       "  </tbody>\n",
       "</table>\n",
       "</div>"
      ],
      "text/plain": [
       "           FG       FGA        TP       TPA       TOV\n",
       "FG   1.000000  0.937614 -0.215191 -0.198226  0.620104\n",
       "FGA  0.937614  1.000000 -0.087519 -0.022303  0.716722\n",
       "TP  -0.215191 -0.087519  1.000000  0.958290 -0.252195\n",
       "TPA -0.198226 -0.022303  0.958290  1.000000 -0.178499\n",
       "TOV  0.620104  0.716722 -0.252195 -0.178499  1.000000"
      ]
     },
     "execution_count": 216,
     "metadata": {},
     "output_type": "execute_result"
    }
   ],
   "source": [
    "#Correlation Matrix to check for potential relationships\n",
    "nbaDF.corr()"
   ]
  },
  {
   "cell_type": "markdown",
   "id": "c532ade5",
   "metadata": {},
   "source": [
    "FG Summary\n",
    "\n",
    "The histogram for field goals shows a multi-modal distribution, with a mean of approximately 213. Though there appears to be two outliers at 128 field goals and 294 field goals, these are explained by the length of the championship series in their respective years of 2007 and 1984. As each championship series contains anywhere between four and seven games the data may vary slightly based on teams' opportunity to score points, however as each championship series statistics are important to identifying the most important statistic of a champion, the data that appears to be an outlier must remain included."
   ]
  },
  {
   "cell_type": "code",
   "execution_count": 217,
   "id": "44dc12c4",
   "metadata": {
    "scrolled": true
   },
   "outputs": [
    {
     "data": {
      "text/plain": [
       "<AxesSubplot:xlabel='FG', ylabel='Count'>"
      ]
     },
     "execution_count": 217,
     "metadata": {},
     "output_type": "execute_result"
    },
    {
     "data": {
      "image/png": "[encoded data removed]",
      "text/plain": [
       "<Figure size 432x288 with 1 Axes>"
      ]
     },
     "metadata": {
      "needs_background": "light"
     },
     "output_type": "display_data"
    }
   ],
   "source": [
    "#Histogram\n",
    "sns.histplot(data=nbaDF, x=nbaDF[\"FG\"], bins = 15)"
   ]
  },
  {
   "cell_type": "code",
   "execution_count": 218,
   "id": "12439931",
   "metadata": {},
   "outputs": [
    {
     "data": {
      "text/plain": [
       "count     39.000000\n",
       "mean     212.948718\n",
       "std       41.257184\n",
       "min      128.000000\n",
       "25%      190.500000\n",
       "50%      212.000000\n",
       "75%      243.500000\n",
       "max      294.000000\n",
       "Name: FG, dtype: float64"
      ]
     },
     "execution_count": 218,
     "metadata": {},
     "output_type": "execute_result"
    }
   ],
   "source": [
    "#Descriptive Characteristics\n",
    "fg = nbaDF[\"FG\"]\n",
    "fg.describe()"
   ]
  },
  {
   "cell_type": "code",
   "execution_count": 219,
   "id": "5cb96b4c",
   "metadata": {},
   "outputs": [
    {
     "data": {
      "text/plain": [
       "0    197\n",
       "1    216\n",
       "2    223\n",
       "3    241\n",
       "4    263\n",
       "dtype: int64"
      ]
     },
     "execution_count": 219,
     "metadata": {},
     "output_type": "execute_result"
    }
   ],
   "source": [
    "fg.mode()"
   ]
  },
  {
   "cell_type": "code",
   "execution_count": 220,
   "id": "1bd212f6",
   "metadata": {},
   "outputs": [
    {
     "data": {
      "text/plain": [
       "1702.1551956815113"
      ]
     },
     "execution_count": 220,
     "metadata": {},
     "output_type": "execute_result"
    }
   ],
   "source": [
    "fg.var()"
   ]
  },
  {
   "cell_type": "code",
   "execution_count": 221,
   "id": "bd15ef7f",
   "metadata": {},
   "outputs": [
    {
     "data": {
      "text/plain": [
       "0.08874169116155282"
      ]
     },
     "execution_count": 221,
     "metadata": {},
     "output_type": "execute_result"
    }
   ],
   "source": [
    "fg.skew()"
   ]
  },
  {
   "cell_type": "code",
   "execution_count": 222,
   "id": "5b52e1ad",
   "metadata": {},
   "outputs": [
    {
     "data": {
      "text/plain": [
       "Year\n",
       "2014    191\n",
       "2015    217\n",
       "2016    263\n",
       "2017    216\n",
       "2018    174\n",
       "Name: FG, dtype: int64"
      ]
     },
     "execution_count": 222,
     "metadata": {},
     "output_type": "execute_result"
    }
   ],
   "source": [
    "fg.tail()"
   ]
  },
  {
   "cell_type": "markdown",
   "id": "cdcd1f1d",
   "metadata": {},
   "source": [
    "FGA Summary\n",
    "\n",
    "The Field Goals Attempted histogram appears to be bi-modal with a mean of 456. One significant outlier exists at 650, and corresponds to the upper end of the Field Goals variable as it is a product of the 1984 seven game championship series. As the statistics of each year's champion is relevant, the apparent outlier must remain in the dataset."
   ]
  },
  {
   "cell_type": "code",
   "execution_count": 223,
   "id": "1a222c60",
   "metadata": {
    "scrolled": true
   },
   "outputs": [
    {
     "data": {
      "text/plain": [
       "<AxesSubplot:xlabel='FGA', ylabel='Count'>"
      ]
     },
     "execution_count": 223,
     "metadata": {},
     "output_type": "execute_result"
    },
    {
     "data": {
      "image/png": "[encoded data removed]",
      "text/plain": [
       "<Figure size 432x288 with 1 Axes>"
      ]
     },
     "metadata": {
      "needs_background": "light"
     },
     "output_type": "display_data"
    }
   ],
   "source": [
    "sns.histplot(data=nbaDF, x=nbaDF[\"FGA\"], bins = 15)"
   ]
  },
  {
   "cell_type": "code",
   "execution_count": 224,
   "id": "f30126fd",
   "metadata": {},
   "outputs": [
    {
     "data": {
      "text/plain": [
       "count     39.000000\n",
       "mean     456.230769\n",
       "std       86.113897\n",
       "min      288.000000\n",
       "25%      396.500000\n",
       "50%      462.000000\n",
       "75%      527.000000\n",
       "max      650.000000\n",
       "Name: FGA, dtype: float64"
      ]
     },
     "execution_count": 224,
     "metadata": {},
     "output_type": "execute_result"
    }
   ],
   "source": [
    "#Descriptive Characteristics\n",
    "fga = nbaDF[\"FGA\"]\n",
    "fga.describe()"
   ]
  },
  {
   "cell_type": "code",
   "execution_count": 225,
   "id": "7e6868f3",
   "metadata": {},
   "outputs": [
    {
     "data": {
      "text/plain": [
       "0    512\n",
       "1    544\n",
       "dtype: int64"
      ]
     },
     "execution_count": 225,
     "metadata": {},
     "output_type": "execute_result"
    }
   ],
   "source": [
    "fga.mode()"
   ]
  },
  {
   "cell_type": "code",
   "execution_count": 226,
   "id": "b0dbad83",
   "metadata": {},
   "outputs": [
    {
     "data": {
      "text/plain": [
       "7415.603238866398"
      ]
     },
     "execution_count": 226,
     "metadata": {},
     "output_type": "execute_result"
    }
   ],
   "source": [
    "fga.var()"
   ]
  },
  {
   "cell_type": "code",
   "execution_count": 227,
   "id": "dcc30961",
   "metadata": {},
   "outputs": [
    {
     "data": {
      "text/plain": [
       "-0.22044311357548654"
      ]
     },
     "execution_count": 227,
     "metadata": {},
     "output_type": "execute_result"
    }
   ],
   "source": [
    "fga.skew()"
   ]
  },
  {
   "cell_type": "code",
   "execution_count": 228,
   "id": "5348d81b",
   "metadata": {},
   "outputs": [
    {
     "data": {
      "text/plain": [
       "Year\n",
       "2014    362\n",
       "2015    498\n",
       "2016    577\n",
       "2017    455\n",
       "2018    339\n",
       "Name: FGA, dtype: int64"
      ]
     },
     "execution_count": 228,
     "metadata": {},
     "output_type": "execute_result"
    }
   ],
   "source": [
    "fga.tail()"
   ]
  },
  {
   "cell_type": "markdown",
   "id": "61858ab9",
   "metadata": {},
   "source": [
    "TP Summary\n",
    "\n",
    "The Three Pointer histogram shows a multi-modal distribution, with several peaks and 10 occurrences of 50 or more three pointers. Despite these occurrences the mean is 30, indicating that while during several championship series the ability to successfully make three pointers played a role, for most series it has not been required to score many three pointers to win the championship."
   ]
  },
  {
   "cell_type": "code",
   "execution_count": 229,
   "id": "956eb4cf",
   "metadata": {},
   "outputs": [
    {
     "data": {
      "text/plain": [
       "<AxesSubplot:xlabel='TP', ylabel='Count'>"
      ]
     },
     "execution_count": 229,
     "metadata": {},
     "output_type": "execute_result"
    },
    {
     "data": {
      "image/png": "[encoded data removed]",
      "text/plain": [
       "<Figure size 432x288 with 1 Axes>"
      ]
     },
     "metadata": {
      "needs_background": "light"
     },
     "output_type": "display_data"
    }
   ],
   "source": [
    "sns.histplot(data=nbaDF, x=nbaDF[\"TP\"], bins = 15)"
   ]
  },
  {
   "cell_type": "code",
   "execution_count": 230,
   "id": "64880156",
   "metadata": {},
   "outputs": [
    {
     "data": {
      "text/plain": [
       "count    39.000000\n",
       "mean     30.205128\n",
       "std      19.434342\n",
       "min       0.000000\n",
       "25%      13.000000\n",
       "50%      32.000000\n",
       "75%      44.500000\n",
       "max      71.000000\n",
       "Name: TP, dtype: float64"
      ]
     },
     "execution_count": 230,
     "metadata": {},
     "output_type": "execute_result"
    }
   ],
   "source": [
    "#Descriptive Characteristics\n",
    "tp = nbaDF[\"TP\"]\n",
    "tp.describe()"
   ]
  },
  {
   "cell_type": "code",
   "execution_count": 231,
   "id": "49ca56e6",
   "metadata": {},
   "outputs": [
    {
     "data": {
      "text/plain": [
       "0    32\n",
       "1    51\n",
       "dtype: int64"
      ]
     },
     "execution_count": 231,
     "metadata": {},
     "output_type": "execute_result"
    }
   ],
   "source": [
    "tp.mode()"
   ]
  },
  {
   "cell_type": "code",
   "execution_count": 232,
   "id": "f55df1af",
   "metadata": {},
   "outputs": [
    {
     "data": {
      "text/plain": [
       "377.69365721997303"
      ]
     },
     "execution_count": 232,
     "metadata": {},
     "output_type": "execute_result"
    }
   ],
   "source": [
    "tp.var()"
   ]
  },
  {
   "cell_type": "code",
   "execution_count": 233,
   "id": "f82be7bf",
   "metadata": {},
   "outputs": [
    {
     "data": {
      "text/plain": [
       "0.15155597440145785"
      ]
     },
     "execution_count": 233,
     "metadata": {},
     "output_type": "execute_result"
    }
   ],
   "source": [
    "tp.skew()"
   ]
  },
  {
   "cell_type": "code",
   "execution_count": 234,
   "id": "c165eb9e",
   "metadata": {},
   "outputs": [
    {
     "data": {
      "text/plain": [
       "Year\n",
       "2014    55\n",
       "2015    67\n",
       "2016    56\n",
       "2017    71\n",
       "2018    51\n",
       "Name: TP, dtype: int64"
      ]
     },
     "execution_count": 234,
     "metadata": {},
     "output_type": "execute_result"
    }
   ],
   "source": [
    "tp.tail()"
   ]
  },
  {
   "cell_type": "markdown",
   "id": "ea9fd1cd",
   "metadata": {},
   "source": [
    "TPA Summary\n",
    "\n",
    "With several peaks the Three Pointers Attempted histogram shows a multi-modal distribution, with three occurrences of over 170 three pointers attempted. As the next highest number of attempted three pointers is 138, the three occurrences over 170 are indeed outliers, but as it is important to illustrate the changes in each statistics value over time all three upper outliers are relvant data that must remain. "
   ]
  },
  {
   "cell_type": "code",
   "execution_count": 235,
   "id": "f5763ad4",
   "metadata": {},
   "outputs": [
    {
     "data": {
      "text/plain": [
       "<AxesSubplot:xlabel='TPA', ylabel='Count'>"
      ]
     },
     "execution_count": 235,
     "metadata": {},
     "output_type": "execute_result"
    },
    {
     "data": {
      "image/png": "[encoded data removed]",
      "text/plain": [
       "<Figure size 432x288 with 1 Axes>"
      ]
     },
     "metadata": {
      "needs_background": "light"
     },
     "output_type": "display_data"
    }
   ],
   "source": [
    "sns.histplot(data=nbaDF, x=nbaDF[\"TPA\"], bins = 15)"
   ]
  },
  {
   "cell_type": "code",
   "execution_count": 236,
   "id": "7d058122",
   "metadata": {},
   "outputs": [
    {
     "data": {
      "text/plain": [
       "count     39.000000\n",
       "mean      82.384615\n",
       "std       50.030841\n",
       "min        3.000000\n",
       "25%       40.500000\n",
       "50%       78.000000\n",
       "75%      122.000000\n",
       "max      186.000000\n",
       "Name: TPA, dtype: float64"
      ]
     },
     "execution_count": 236,
     "metadata": {},
     "output_type": "execute_result"
    }
   ],
   "source": [
    "#Descriptive Characteristics\n",
    "tpa = nbaDF[\"TPA\"]\n",
    "tpa.describe()"
   ]
  },
  {
   "cell_type": "code",
   "execution_count": 237,
   "id": "8690a84e",
   "metadata": {},
   "outputs": [
    {
     "data": {
      "text/plain": [
       "0     23\n",
       "1     75\n",
       "2     92\n",
       "3    121\n",
       "4    123\n",
       "5    186\n",
       "dtype: int64"
      ]
     },
     "execution_count": 237,
     "metadata": {},
     "output_type": "execute_result"
    }
   ],
   "source": [
    "tpa.mode()"
   ]
  },
  {
   "cell_type": "code",
   "execution_count": 238,
   "id": "160dd20c",
   "metadata": {},
   "outputs": [
    {
     "data": {
      "text/plain": [
       "2503.0850202429156"
      ]
     },
     "execution_count": 238,
     "metadata": {},
     "output_type": "execute_result"
    }
   ],
   "source": [
    "tpa.var()"
   ]
  },
  {
   "cell_type": "code",
   "execution_count": 239,
   "id": "dd71747b",
   "metadata": {},
   "outputs": [
    {
     "data": {
      "text/plain": [
       "0.20348795957407512"
      ]
     },
     "execution_count": 239,
     "metadata": {},
     "output_type": "execute_result"
    }
   ],
   "source": [
    "tpa.skew()"
   ]
  },
  {
   "cell_type": "code",
   "execution_count": 240,
   "id": "efc6d400",
   "metadata": {},
   "outputs": [
    {
     "data": {
      "text/plain": [
       "Year\n",
       "2014    118\n",
       "2015    186\n",
       "2016    170\n",
       "2017    186\n",
       "2018    136\n",
       "Name: TPA, dtype: int64"
      ]
     },
     "execution_count": 240,
     "metadata": {},
     "output_type": "execute_result"
    }
   ],
   "source": [
    "tpa.tail()"
   ]
  },
  {
   "cell_type": "markdown",
   "id": "66c8d708",
   "metadata": {},
   "source": [
    "TOV Summary\n",
    "\n",
    "The Turnovers histogram also shows a multi-modal distribution with a mildly positive skew and mean of 77 turnovers. Unlike the other variables, there does not appear to be any significant outliers with a relatively small standard deviation of 20.23.  "
   ]
  },
  {
   "cell_type": "code",
   "execution_count": 241,
   "id": "ed113011",
   "metadata": {},
   "outputs": [
    {
     "data": {
      "text/plain": [
       "<AxesSubplot:xlabel='TOV', ylabel='Count'>"
      ]
     },
     "execution_count": 241,
     "metadata": {},
     "output_type": "execute_result"
    },
    {
     "data": {
      "image/png": "[encoded data removed]",
      "text/plain": [
       "<Figure size 432x288 with 1 Axes>"
      ]
     },
     "metadata": {
      "needs_background": "light"
     },
     "output_type": "display_data"
    }
   ],
   "source": [
    "sns.histplot(data=nbaDF, x=nbaDF[\"TOV\"], bins = 15)"
   ]
  },
  {
   "cell_type": "code",
   "execution_count": 242,
   "id": "b9b93271",
   "metadata": {},
   "outputs": [
    {
     "data": {
      "text/plain": [
       "count     39.000000\n",
       "mean      77.333333\n",
       "std       20.229386\n",
       "min       37.000000\n",
       "25%       66.000000\n",
       "50%       75.000000\n",
       "75%       92.500000\n",
       "max      120.000000\n",
       "Name: TOV, dtype: float64"
      ]
     },
     "execution_count": 242,
     "metadata": {},
     "output_type": "execute_result"
    }
   ],
   "source": [
    "#Descriptive Characteristics\n",
    "tov = nbaDF[\"TOV\"]\n",
    "tov.describe()"
   ]
  },
  {
   "cell_type": "code",
   "execution_count": 243,
   "id": "531b0301",
   "metadata": {},
   "outputs": [
    {
     "data": {
      "text/plain": [
       "0    67\n",
       "1    75\n",
       "dtype: int64"
      ]
     },
     "execution_count": 243,
     "metadata": {},
     "output_type": "execute_result"
    }
   ],
   "source": [
    "tov.mode()"
   ]
  },
  {
   "cell_type": "code",
   "execution_count": 244,
   "id": "7808cded",
   "metadata": {},
   "outputs": [
    {
     "data": {
      "text/plain": [
       "409.2280701754387"
      ]
     },
     "execution_count": 244,
     "metadata": {},
     "output_type": "execute_result"
    }
   ],
   "source": [
    "tov.var()"
   ]
  },
  {
   "cell_type": "code",
   "execution_count": 245,
   "id": "db0a645d",
   "metadata": {},
   "outputs": [
    {
     "data": {
      "text/plain": [
       "0.17327932951958472"
      ]
     },
     "execution_count": 245,
     "metadata": {},
     "output_type": "execute_result"
    }
   ],
   "source": [
    "tov.skew()"
   ]
  },
  {
   "cell_type": "code",
   "execution_count": 246,
   "id": "0824a022",
   "metadata": {
    "scrolled": true
   },
   "outputs": [
    {
     "data": {
      "text/plain": [
       "Year\n",
       "2014    67\n",
       "2015    76\n",
       "2016    93\n",
       "2017    67\n",
       "2018    37\n",
       "Name: TOV, dtype: int64"
      ]
     },
     "execution_count": 246,
     "metadata": {},
     "output_type": "execute_result"
    }
   ],
   "source": [
    "tov.tail()"
   ]
  },
  {
   "cell_type": "code",
   "execution_count": 247,
   "id": "13bfa59e",
   "metadata": {},
   "outputs": [
    {
     "name": "stdout",
     "output_type": "stream",
     "text": [
      "FG     1702.155196\n",
      "FGA    7415.603239\n",
      "TP      377.693657\n",
      "TPA    2503.085020\n",
      "TOV     409.228070\n",
      "dtype: float64\n"
     ]
    }
   ],
   "source": [
    "print(nbaDF.var())"
   ]
  },
  {
   "cell_type": "code",
   "execution_count": 248,
   "id": "13a1bb98",
   "metadata": {},
   "outputs": [
    {
     "name": "stdout",
     "output_type": "stream",
     "text": [
      "      FG    FGA    TP  TPA   TOV\n",
      "0  197.0  512.0  32.0   23  67.0\n",
      "1  216.0  544.0  51.0   75  75.0\n",
      "2  223.0    NaN   NaN   92   NaN\n",
      "3  241.0    NaN   NaN  121   NaN\n",
      "4  263.0    NaN   NaN  123   NaN\n",
      "5    NaN    NaN   NaN  186   NaN\n"
     ]
    }
   ],
   "source": [
    "print(nbaDF.mode())"
   ]
  },
  {
   "cell_type": "code",
   "execution_count": 249,
   "id": "91ccd9b3",
   "metadata": {},
   "outputs": [
    {
     "data": {
      "text/plain": [
       "FG     0.088742\n",
       "FGA   -0.220443\n",
       "TP     0.151556\n",
       "TPA    0.203488\n",
       "TOV    0.173279\n",
       "dtype: float64"
      ]
     },
     "execution_count": 249,
     "metadata": {},
     "output_type": "execute_result"
    }
   ],
   "source": [
    "nbaDF.skew()"
   ]
  },
  {
   "cell_type": "code",
   "execution_count": 250,
   "id": "c554faca",
   "metadata": {},
   "outputs": [
    {
     "data": {
      "text/html": [
       "<div>\n",
       "<style scoped>\n",
       "    .dataframe tbody tr th:only-of-type {\n",
       "        vertical-align: middle;\n",
       "    }\n",
       "\n",
       "    .dataframe tbody tr th {\n",
       "        vertical-align: top;\n",
       "    }\n",
       "\n",
       "    .dataframe thead th {\n",
       "        text-align: right;\n",
       "    }\n",
       "</style>\n",
       "<table border=\"1\" class=\"dataframe\">\n",
       "  <thead>\n",
       "    <tr style=\"text-align: right;\">\n",
       "      <th></th>\n",
       "      <th>FG</th>\n",
       "      <th>FGA</th>\n",
       "      <th>TP</th>\n",
       "      <th>TPA</th>\n",
       "      <th>TOV</th>\n",
       "    </tr>\n",
       "    <tr>\n",
       "      <th>Year</th>\n",
       "      <th></th>\n",
       "      <th></th>\n",
       "      <th></th>\n",
       "      <th></th>\n",
       "      <th></th>\n",
       "    </tr>\n",
       "  </thead>\n",
       "  <tbody>\n",
       "    <tr>\n",
       "      <th>2014</th>\n",
       "      <td>191</td>\n",
       "      <td>362</td>\n",
       "      <td>55</td>\n",
       "      <td>118</td>\n",
       "      <td>67</td>\n",
       "    </tr>\n",
       "    <tr>\n",
       "      <th>2015</th>\n",
       "      <td>217</td>\n",
       "      <td>498</td>\n",
       "      <td>67</td>\n",
       "      <td>186</td>\n",
       "      <td>76</td>\n",
       "    </tr>\n",
       "    <tr>\n",
       "      <th>2016</th>\n",
       "      <td>263</td>\n",
       "      <td>577</td>\n",
       "      <td>56</td>\n",
       "      <td>170</td>\n",
       "      <td>93</td>\n",
       "    </tr>\n",
       "    <tr>\n",
       "      <th>2017</th>\n",
       "      <td>216</td>\n",
       "      <td>455</td>\n",
       "      <td>71</td>\n",
       "      <td>186</td>\n",
       "      <td>67</td>\n",
       "    </tr>\n",
       "    <tr>\n",
       "      <th>2018</th>\n",
       "      <td>174</td>\n",
       "      <td>339</td>\n",
       "      <td>51</td>\n",
       "      <td>136</td>\n",
       "      <td>37</td>\n",
       "    </tr>\n",
       "  </tbody>\n",
       "</table>\n",
       "</div>"
      ],
      "text/plain": [
       "       FG  FGA  TP  TPA  TOV\n",
       "Year                        \n",
       "2014  191  362  55  118   67\n",
       "2015  217  498  67  186   76\n",
       "2016  263  577  56  170   93\n",
       "2017  216  455  71  186   67\n",
       "2018  174  339  51  136   37"
      ]
     },
     "execution_count": 250,
     "metadata": {},
     "output_type": "execute_result"
    }
   ],
   "source": [
    "nbaDF.tail()"
   ]
  },
  {
   "cell_type": "code",
   "execution_count": 251,
   "id": "c2a129c3",
   "metadata": {},
   "outputs": [
    {
     "data": {
      "text/html": [
       "<div>\n",
       "<style scoped>\n",
       "    .dataframe tbody tr th:only-of-type {\n",
       "        vertical-align: middle;\n",
       "    }\n",
       "\n",
       "    .dataframe tbody tr th {\n",
       "        vertical-align: top;\n",
       "    }\n",
       "\n",
       "    .dataframe thead th {\n",
       "        text-align: right;\n",
       "    }\n",
       "</style>\n",
       "<table border=\"1\" class=\"dataframe\">\n",
       "  <thead>\n",
       "    <tr style=\"text-align: right;\">\n",
       "      <th></th>\n",
       "      <th>FG</th>\n",
       "      <th>FGA</th>\n",
       "      <th>TP</th>\n",
       "      <th>TPA</th>\n",
       "      <th>TOV</th>\n",
       "    </tr>\n",
       "  </thead>\n",
       "  <tbody>\n",
       "    <tr>\n",
       "      <th>count</th>\n",
       "      <td>39.000000</td>\n",
       "      <td>39.000000</td>\n",
       "      <td>39.000000</td>\n",
       "      <td>39.000000</td>\n",
       "      <td>39.000000</td>\n",
       "    </tr>\n",
       "    <tr>\n",
       "      <th>mean</th>\n",
       "      <td>212.948718</td>\n",
       "      <td>456.230769</td>\n",
       "      <td>30.205128</td>\n",
       "      <td>82.384615</td>\n",
       "      <td>77.333333</td>\n",
       "    </tr>\n",
       "    <tr>\n",
       "      <th>std</th>\n",
       "      <td>41.257184</td>\n",
       "      <td>86.113897</td>\n",
       "      <td>19.434342</td>\n",
       "      <td>50.030841</td>\n",
       "      <td>20.229386</td>\n",
       "    </tr>\n",
       "    <tr>\n",
       "      <th>min</th>\n",
       "      <td>128.000000</td>\n",
       "      <td>288.000000</td>\n",
       "      <td>0.000000</td>\n",
       "      <td>3.000000</td>\n",
       "      <td>37.000000</td>\n",
       "    </tr>\n",
       "    <tr>\n",
       "      <th>25%</th>\n",
       "      <td>190.500000</td>\n",
       "      <td>396.500000</td>\n",
       "      <td>13.000000</td>\n",
       "      <td>40.500000</td>\n",
       "      <td>66.000000</td>\n",
       "    </tr>\n",
       "    <tr>\n",
       "      <th>50%</th>\n",
       "      <td>212.000000</td>\n",
       "      <td>462.000000</td>\n",
       "      <td>32.000000</td>\n",
       "      <td>78.000000</td>\n",
       "      <td>75.000000</td>\n",
       "    </tr>\n",
       "    <tr>\n",
       "      <th>75%</th>\n",
       "      <td>243.500000</td>\n",
       "      <td>527.000000</td>\n",
       "      <td>44.500000</td>\n",
       "      <td>122.000000</td>\n",
       "      <td>92.500000</td>\n",
       "    </tr>\n",
       "    <tr>\n",
       "      <th>max</th>\n",
       "      <td>294.000000</td>\n",
       "      <td>650.000000</td>\n",
       "      <td>71.000000</td>\n",
       "      <td>186.000000</td>\n",
       "      <td>120.000000</td>\n",
       "    </tr>\n",
       "  </tbody>\n",
       "</table>\n",
       "</div>"
      ],
      "text/plain": [
       "               FG         FGA         TP         TPA         TOV\n",
       "count   39.000000   39.000000  39.000000   39.000000   39.000000\n",
       "mean   212.948718  456.230769  30.205128   82.384615   77.333333\n",
       "std     41.257184   86.113897  19.434342   50.030841   20.229386\n",
       "min    128.000000  288.000000   0.000000    3.000000   37.000000\n",
       "25%    190.500000  396.500000  13.000000   40.500000   66.000000\n",
       "50%    212.000000  462.000000  32.000000   78.000000   75.000000\n",
       "75%    243.500000  527.000000  44.500000  122.000000   92.500000\n",
       "max    294.000000  650.000000  71.000000  186.000000  120.000000"
      ]
     },
     "execution_count": 251,
     "metadata": {},
     "output_type": "execute_result"
    }
   ],
   "source": [
    "nbaDF.describe()"
   ]
  },
  {
   "cell_type": "markdown",
   "id": "e1c6db7b",
   "metadata": {},
   "source": [
    "PMF"
   ]
  },
  {
   "cell_type": "code",
   "execution_count": 252,
   "id": "b885d392",
   "metadata": {},
   "outputs": [],
   "source": [
    "#Separate turnover rates into high and low categories and create histogram/PMF for each\n",
    "\n",
    "tov_high = nbaDF[nbaDF.TOV >=77]\n",
    "tov_low = nbaDF[nbaDF.TOV <77]\n",
    "\n",
    "high_hist = thinkstats2.Hist(tov_high)\n",
    "low_hist = thinkstats2.Hist(tov_low)\n",
    "\n",
    "high_pmf = thinkstats2.Pmf(tov_high.TOV, label = \"High Turnover Rate\")\n",
    "low_pmf = thinkstats2.Pmf(tov_low.TOV, label = \"Low Turnover Rate\")"
   ]
  },
  {
   "cell_type": "code",
   "execution_count": 253,
   "id": "3ed219ab",
   "metadata": {
    "scrolled": true
   },
   "outputs": [
    {
     "data": {
      "image/png": "[encoded data removed]",
      "text/plain": [
       "<Figure size 432x288 with 1 Axes>"
      ]
     },
     "metadata": {
      "needs_background": "light"
     },
     "output_type": "display_data"
    }
   ],
   "source": [
    "#Plot high turnover rate PMF\n",
    "thinkplot.Hist(high_pmf)\n",
    "thinkplot.config(xlabel=\"Turnovers\", ylabel=\"Probability\")"
   ]
  },
  {
   "cell_type": "code",
   "execution_count": 254,
   "id": "63a14b37",
   "metadata": {
    "scrolled": true
   },
   "outputs": [
    {
     "data": {
      "image/png": "[encoded data removed]",
      "text/plain": [
       "<Figure size 432x288 with 1 Axes>"
      ]
     },
     "metadata": {
      "needs_background": "light"
     },
     "output_type": "display_data"
    }
   ],
   "source": [
    "#Plot low turnover rate PMF\n",
    "thinkplot.Hist(low_pmf)\n",
    "thinkplot.config(xlabel=\"Turnovers\", ylabel=\"Probability\")"
   ]
  },
  {
   "cell_type": "markdown",
   "id": "c4bec209",
   "metadata": {},
   "source": [
    "CDF\n",
    "\n",
    "The CDF suggests that approximately 80% of champions had less than 100 turnovers in their championship game series. With this information, it indicates that a low turnover rate may be significant in a team's pursuit of a championship victory. "
   ]
  },
  {
   "cell_type": "code",
   "execution_count": 255,
   "id": "99bf916f",
   "metadata": {},
   "outputs": [
    {
     "data": {
      "image/png": "[encoded data removed]",
      "text/plain": [
       "<Figure size 432x288 with 1 Axes>"
      ]
     },
     "metadata": {
      "needs_background": "light"
     },
     "output_type": "display_data"
    }
   ],
   "source": [
    "tov_cdf = thinkstats2.Cdf(nbaDF.TOV, label = \"Turnovers\")\n",
    "thinkplot.Cdf(tov_cdf)\n",
    "thinkplot.Config(xlabel=\"Turnover Rate\", ylabel=\"CDF\", loc=\"upper left\")"
   ]
  },
  {
   "cell_type": "code",
   "execution_count": 256,
   "id": "952c0a3c",
   "metadata": {
    "scrolled": false
   },
   "outputs": [
    {
     "data": {
      "image/png": "[encoded data removed]",
      "text/plain": [
       "<Figure size 432x288 with 1 Axes>"
      ]
     },
     "metadata": {
      "needs_background": "light"
     },
     "output_type": "display_data"
    },
    {
     "data": {
      "text/plain": [
       "<Figure size 576x432 with 0 Axes>"
      ]
     },
     "metadata": {},
     "output_type": "display_data"
    }
   ],
   "source": [
    "high_cdf = thinkstats2.Cdf(tov_high.TOV, label = \"High Turnover Rate\")\n",
    "low_cdf = thinkstats2.Cdf(tov_low.TOV, label = \"Low Turnover Rate\")\n",
    "\n",
    "thinkplot.PrePlot(2)\n",
    "thinkplot.Cdfs([high_cdf,low_cdf])\n",
    "thinkplot.Show(xlabel=\"Low Turnover Rate                      High Turnover Rate\", ylabel=\"CDF\")"
   ]
  },
  {
   "cell_type": "markdown",
   "id": "c00991e3",
   "metadata": {},
   "source": [
    "Analytical Distribution"
   ]
  },
  {
   "cell_type": "code",
   "execution_count": 257,
   "id": "3c298dee",
   "metadata": {},
   "outputs": [
    {
     "name": "stderr",
     "output_type": "stream",
     "text": [
      "C:\\Users\\Andrew\\Desktop\\Grad School\\Data Exploration and Analysis\\ThinkStats2-master\\ThinkStats2-master\\code\\thinkstats2.py:2478: RuntimeWarning: Mean of empty slice.\n",
      "  mean = xs.mean()\n",
      "C:\\Users\\Andrew\\anaconda3\\lib\\site-packages\\numpy\\core\\_methods.py:188: RuntimeWarning: invalid value encountered in double_scalars\n",
      "  ret = ret.dtype.type(ret / rcount)\n",
      "C:\\Users\\Andrew\\Desktop\\Grad School\\Data Exploration and Analysis\\ThinkStats2-master\\ThinkStats2-master\\code\\thinkstats2.py:2450: RuntimeWarning: invalid value encountered in double_scalars\n",
      "  return np.dot(ds, ds) / (len(xs) - ddof)\n"
     ]
    },
    {
     "data": {
      "image/png": "[encoded data removed]",
      "text/plain": [
       "<Figure size 432x288 with 1 Axes>"
      ]
     },
     "metadata": {
      "needs_background": "light"
     },
     "output_type": "display_data"
    }
   ],
   "source": [
    "mean, var = thinkstats2.TrimmedMeanVar(nbaDF.TOV, p=0.01)\n",
    "std = np.sqrt(var)\n",
    "\n",
    "xs = [-4, 4]\n",
    "fxs, fys = thinkstats2.FitLine(xs, inter = mean, slope = std)\n",
    "thinkplot.Plot(fxs, fys, linewidth=5, color='gray', label = 'model')\n",
    "\n",
    "xs, ys = thinkstats2.NormalProbability(nbaDF.TOV)\n",
    "thinkplot.Plot(xs, ys, label='Turnover Rate')\n",
    "\n",
    "thinkplot.Config(title='Normal Distribution Plot',\n",
    "                 xlabel='Standard Deviations',\n",
    "                 ylabel='Turnover Rate')\n",
    "\n",
    "#I expect to see RuntimeWarnings in this block"
   ]
  },
  {
   "cell_type": "markdown",
   "id": "f87be4b3",
   "metadata": {},
   "source": [
    "Scatter Plots"
   ]
  },
  {
   "cell_type": "code",
   "execution_count": 258,
   "id": "c755a981",
   "metadata": {},
   "outputs": [
    {
     "data": {
      "image/png": "[encoded data removed]",
      "text/plain": [
       "<Figure size 432x288 with 1 Axes>"
      ]
     },
     "metadata": {
      "needs_background": "light"
     },
     "output_type": "display_data"
    }
   ],
   "source": [
    "thinkplot.Scatter(tov_high.FG, tov_high.TP, alpha = 1)\n",
    "thinkplot.Config(xlabel=\"Total Field Goals\", ylabel=\"Three Pointers\", legend=False)"
   ]
  },
  {
   "cell_type": "code",
   "execution_count": 259,
   "id": "d8634ae5",
   "metadata": {},
   "outputs": [
    {
     "data": {
      "image/png": "[encoded data removed]",
      "text/plain": [
       "<Figure size 432x288 with 1 Axes>"
      ]
     },
     "metadata": {
      "needs_background": "light"
     },
     "output_type": "display_data"
    }
   ],
   "source": [
    "thinkplot.Scatter(tov_low.FG, tov_low.TP, alpha = 1)\n",
    "thinkplot.Config(xlabel=\"Total Field Goals\", ylabel=\"Three Pointers\", legend=False)"
   ]
  },
  {
   "cell_type": "code",
   "execution_count": 260,
   "id": "fbccc037",
   "metadata": {},
   "outputs": [],
   "source": [
    "def Cov(xs, ys, meanx=None, meany=None):\n",
    "    xs = np.asarray(xs)\n",
    "    ys = np.asarray(ys)\n",
    "\n",
    "    if meanx is None:\n",
    "        meanx = np.mean(xs)\n",
    "    if meany is None:\n",
    "        meany = np.mean(ys)\n",
    "\n",
    "    cov = np.dot(xs-meanx, ys-meany) / len(xs)\n",
    "    return cov\n",
    "\n",
    "def Corr(xs, ys):\n",
    "    xs = np.asarray(xs)\n",
    "    ys = np.asarray(ys)\n",
    "\n",
    "    meanx, varx = thinkstats2.MeanVar(xs)\n",
    "    meany, vary = thinkstats2.MeanVar(ys)\n",
    "\n",
    "    corr = Cov(xs, ys, meanx, meany) / np.sqrt(varx * vary)\n",
    "    return corr\n",
    "\n",
    "def SpearmanCorr(xs, ys):\n",
    "    xranks = pd.Series(xs).rank()\n",
    "    yranks = pd.Series(ys).rank()\n",
    "    return Corr(xranks, yranks)"
   ]
  },
  {
   "cell_type": "code",
   "execution_count": 261,
   "id": "4d3e117d",
   "metadata": {},
   "outputs": [
    {
     "data": {
      "text/plain": [
       "-307.01384083044985"
      ]
     },
     "execution_count": 261,
     "metadata": {},
     "output_type": "execute_result"
    }
   ],
   "source": [
    "Cov(tov_high.FG, tov_high.TP)"
   ]
  },
  {
   "cell_type": "code",
   "execution_count": 262,
   "id": "a50fa39e",
   "metadata": {},
   "outputs": [
    {
     "data": {
      "text/plain": [
       "18.87809917355371"
      ]
     },
     "execution_count": 262,
     "metadata": {},
     "output_type": "execute_result"
    }
   ],
   "source": [
    "Cov(tov_low.FG, tov_low.TP)"
   ]
  },
  {
   "cell_type": "code",
   "execution_count": 263,
   "id": "fbeeb8e1",
   "metadata": {},
   "outputs": [
    {
     "data": {
      "text/plain": [
       "-0.46272668878436046"
      ]
     },
     "execution_count": 263,
     "metadata": {},
     "output_type": "execute_result"
    }
   ],
   "source": [
    "Corr(tov_high.FG, tov_high.TP)"
   ]
  },
  {
   "cell_type": "code",
   "execution_count": 264,
   "id": "a4d18b18",
   "metadata": {
    "scrolled": true
   },
   "outputs": [
    {
     "data": {
      "text/plain": [
       "0.024669834104076586"
      ]
     },
     "execution_count": 264,
     "metadata": {},
     "output_type": "execute_result"
    }
   ],
   "source": [
    "Corr(tov_low.FG, tov_low.TP)"
   ]
  },
  {
   "cell_type": "code",
   "execution_count": 265,
   "id": "63eb8d45",
   "metadata": {},
   "outputs": [
    {
     "data": {
      "text/plain": [
       "-0.47174447174447176"
      ]
     },
     "execution_count": 265,
     "metadata": {},
     "output_type": "execute_result"
    }
   ],
   "source": [
    "SpearmanCorr(tov_high.FG, tov_high.TP)"
   ]
  },
  {
   "cell_type": "code",
   "execution_count": 266,
   "id": "1adec0c8",
   "metadata": {},
   "outputs": [
    {
     "data": {
      "text/plain": [
       "0.14184803062059237"
      ]
     },
     "execution_count": 266,
     "metadata": {},
     "output_type": "execute_result"
    }
   ],
   "source": [
    "SpearmanCorr(tov_low.FG, tov_low.TP)"
   ]
  },
  {
   "cell_type": "markdown",
   "id": "00ba5afe",
   "metadata": {},
   "source": [
    "The above plots and covariance/correlation tests shows a statistically significant relationship between high turnover rates and field goals/three pointers. As turnover rates are higher, the number of made field goals and three pointers is lower, likely as a result of the team not having the ball to score with. "
   ]
  },
  {
   "cell_type": "markdown",
   "id": "73e5a253",
   "metadata": {},
   "source": [
    "Testing Difference in Means by P-Value: Kendalls Tau/Permutation"
   ]
  },
  {
   "cell_type": "code",
   "execution_count": 267,
   "id": "23b763a4",
   "metadata": {},
   "outputs": [
    {
     "name": "stdout",
     "output_type": "stream",
     "text": [
      "-0.31343283582089554 0.08257300173758413\n"
     ]
    }
   ],
   "source": [
    "tau, p_value = stats.kendalltau(tov_high.FG, tov_high.TP)\n",
    "print (tau, p_value)"
   ]
  },
  {
   "cell_type": "code",
   "execution_count": 268,
   "id": "dd87f05a",
   "metadata": {},
   "outputs": [
    {
     "data": {
      "text/html": [
       "<div>\n",
       "<style scoped>\n",
       "    .dataframe tbody tr th:only-of-type {\n",
       "        vertical-align: middle;\n",
       "    }\n",
       "\n",
       "    .dataframe tbody tr th {\n",
       "        vertical-align: top;\n",
       "    }\n",
       "\n",
       "    .dataframe thead th {\n",
       "        text-align: right;\n",
       "    }\n",
       "</style>\n",
       "<table border=\"1\" class=\"dataframe\">\n",
       "  <thead>\n",
       "    <tr style=\"text-align: right;\">\n",
       "      <th></th>\n",
       "      <th>FG</th>\n",
       "      <th>FGA</th>\n",
       "      <th>TP</th>\n",
       "      <th>TPA</th>\n",
       "      <th>TOV</th>\n",
       "    </tr>\n",
       "  </thead>\n",
       "  <tbody>\n",
       "    <tr>\n",
       "      <th>FG</th>\n",
       "      <td>1702.155196</td>\n",
       "      <td>3331.170040</td>\n",
       "      <td>-172.541835</td>\n",
       "      <td>-409.163968</td>\n",
       "      <td>517.543860</td>\n",
       "    </tr>\n",
       "    <tr>\n",
       "      <th>FGA</th>\n",
       "      <td>3331.170040</td>\n",
       "      <td>7415.603239</td>\n",
       "      <td>-146.469636</td>\n",
       "      <td>-96.091093</td>\n",
       "      <td>1248.552632</td>\n",
       "    </tr>\n",
       "    <tr>\n",
       "      <th>TP</th>\n",
       "      <td>-172.541835</td>\n",
       "      <td>-146.469636</td>\n",
       "      <td>377.693657</td>\n",
       "      <td>931.761134</td>\n",
       "      <td>-99.149123</td>\n",
       "    </tr>\n",
       "    <tr>\n",
       "      <th>TPA</th>\n",
       "      <td>-409.163968</td>\n",
       "      <td>-96.091093</td>\n",
       "      <td>931.761134</td>\n",
       "      <td>2503.085020</td>\n",
       "      <td>-180.657895</td>\n",
       "    </tr>\n",
       "    <tr>\n",
       "      <th>TOV</th>\n",
       "      <td>517.543860</td>\n",
       "      <td>1248.552632</td>\n",
       "      <td>-99.149123</td>\n",
       "      <td>-180.657895</td>\n",
       "      <td>409.228070</td>\n",
       "    </tr>\n",
       "  </tbody>\n",
       "</table>\n",
       "</div>"
      ],
      "text/plain": [
       "              FG          FGA          TP          TPA          TOV\n",
       "FG   1702.155196  3331.170040 -172.541835  -409.163968   517.543860\n",
       "FGA  3331.170040  7415.603239 -146.469636   -96.091093  1248.552632\n",
       "TP   -172.541835  -146.469636  377.693657   931.761134   -99.149123\n",
       "TPA  -409.163968   -96.091093  931.761134  2503.085020  -180.657895\n",
       "TOV   517.543860  1248.552632  -99.149123  -180.657895   409.228070"
      ]
     },
     "execution_count": 268,
     "metadata": {},
     "output_type": "execute_result"
    }
   ],
   "source": [
    "nbaDF.cov()"
   ]
  },
  {
   "cell_type": "code",
   "execution_count": 269,
   "id": "e3b1e8e3",
   "metadata": {},
   "outputs": [],
   "source": [
    "class DiffMeansPermute(thinkstats2.HypothesisTest):\n",
    "\n",
    "    def TestStatistic(self, data):\n",
    "        group1, group2 = data\n",
    "        test_stat = abs(group1.mean() - group2.mean())\n",
    "        return test_stat\n",
    "\n",
    "    def MakeModel(self):\n",
    "        group1, group2 = self.data\n",
    "        self.n, self.m = len(group1), len(group2)\n",
    "        self.pool = np.hstack((group1, group2))\n",
    "\n",
    "    def RunModel(self):\n",
    "        np.random.shuffle(self.pool)\n",
    "        data = self.pool[:self.n], self.pool[self.n:]\n",
    "        return data\n",
    "class DiffStdPermute(DiffMeansPermute):\n",
    "\n",
    "    def TestStatistic(self, data):\n",
    "        group1, group2 = data\n",
    "        test_stat = group1.std() - group2.std()\n",
    "        return test_stat\n",
    "data = tov_high.FG.values, tov_high.TP.values"
   ]
  },
  {
   "cell_type": "code",
   "execution_count": 270,
   "id": "95c78cdb",
   "metadata": {},
   "outputs": [
    {
     "data": {
      "text/plain": [
       "0.0"
      ]
     },
     "execution_count": 270,
     "metadata": {},
     "output_type": "execute_result"
    }
   ],
   "source": [
    "ht = DiffMeansPermute(data)\n",
    "pvalue = ht.PValue()\n",
    "pvalue"
   ]
  },
  {
   "cell_type": "markdown",
   "id": "1c807f5e",
   "metadata": {},
   "source": [
    "Kendall Tau's correlation test result pvalue of .08 indicates a relationship that can almost be considered statistically significant, but not quite. The -.31 kendall correlation value indicates that as the field goal/three pointer value rises the turnover rate drops. Comparing the means of each group resulted in a significant pvalue of 0.0."
   ]
  },
  {
   "cell_type": "markdown",
   "id": "54ada3dc",
   "metadata": {},
   "source": [
    "Regression Analysis"
   ]
  },
  {
   "cell_type": "code",
   "execution_count": 271,
   "id": "000e0070",
   "metadata": {},
   "outputs": [
    {
     "data": {
      "text/html": [
       "<table class=\"simpletable\">\n",
       "<caption>OLS Regression Results</caption>\n",
       "<tr>\n",
       "  <th>Dep. Variable:</th>           <td>TOV</td>       <th>  R-squared:         </th> <td>   0.613</td>\n",
       "</tr>\n",
       "<tr>\n",
       "  <th>Model:</th>                   <td>OLS</td>       <th>  Adj. R-squared:    </th> <td>   0.567</td>\n",
       "</tr>\n",
       "<tr>\n",
       "  <th>Method:</th>             <td>Least Squares</td>  <th>  F-statistic:       </th> <td>   13.46</td>\n",
       "</tr>\n",
       "<tr>\n",
       "  <th>Date:</th>             <td>Fri, 03 Jun 2022</td> <th>  Prob (F-statistic):</th> <td>1.12e-06</td>\n",
       "</tr>\n",
       "<tr>\n",
       "  <th>Time:</th>                 <td>11:23:30</td>     <th>  Log-Likelihood:    </th> <td> -153.60</td>\n",
       "</tr>\n",
       "<tr>\n",
       "  <th>No. Observations:</th>      <td>    39</td>      <th>  AIC:               </th> <td>   317.2</td>\n",
       "</tr>\n",
       "<tr>\n",
       "  <th>Df Residuals:</th>          <td>    34</td>      <th>  BIC:               </th> <td>   325.5</td>\n",
       "</tr>\n",
       "<tr>\n",
       "  <th>Df Model:</th>              <td>     4</td>      <th>                     </th>     <td> </td>   \n",
       "</tr>\n",
       "<tr>\n",
       "  <th>Covariance Type:</th>      <td>nonrobust</td>    <th>                     </th>     <td> </td>   \n",
       "</tr>\n",
       "</table>\n",
       "<table class=\"simpletable\">\n",
       "<tr>\n",
       "      <td></td>         <th>coef</th>     <th>std err</th>      <th>t</th>      <th>P>|t|</th>  <th>[0.025</th>    <th>0.975]</th>  \n",
       "</tr>\n",
       "<tr>\n",
       "  <th>Intercept</th> <td>   15.6245</td> <td>   12.818</td> <td>    1.219</td> <td> 0.231</td> <td>  -10.425</td> <td>   41.674</td>\n",
       "</tr>\n",
       "<tr>\n",
       "  <th>FG</th>        <td>   -0.4395</td> <td>    0.195</td> <td>   -2.257</td> <td> 0.031</td> <td>   -0.835</td> <td>   -0.044</td>\n",
       "</tr>\n",
       "<tr>\n",
       "  <th>FGA</th>       <td>    0.3639</td> <td>    0.094</td> <td>    3.886</td> <td> 0.000</td> <td>    0.174</td> <td>    0.554</td>\n",
       "</tr>\n",
       "<tr>\n",
       "  <th>TP</th>        <td>   -0.0166</td> <td>    0.445</td> <td>   -0.037</td> <td> 0.970</td> <td>   -0.920</td> <td>    0.887</td>\n",
       "</tr>\n",
       "<tr>\n",
       "  <th>TPA</th>       <td>   -0.1238</td> <td>    0.185</td> <td>   -0.671</td> <td> 0.507</td> <td>   -0.499</td> <td>    0.252</td>\n",
       "</tr>\n",
       "</table>\n",
       "<table class=\"simpletable\">\n",
       "<tr>\n",
       "  <th>Omnibus:</th>       <td> 3.440</td> <th>  Durbin-Watson:     </th> <td>   2.027</td>\n",
       "</tr>\n",
       "<tr>\n",
       "  <th>Prob(Omnibus):</th> <td> 0.179</td> <th>  Jarque-Bera (JB):  </th> <td>   1.779</td>\n",
       "</tr>\n",
       "<tr>\n",
       "  <th>Skew:</th>          <td> 0.212</td> <th>  Prob(JB):          </th> <td>   0.411</td>\n",
       "</tr>\n",
       "<tr>\n",
       "  <th>Kurtosis:</th>      <td> 2.043</td> <th>  Cond. No.          </th> <td>3.12e+03</td>\n",
       "</tr>\n",
       "</table><br/><br/>Notes:<br/>[1] Standard Errors assume that the covariance matrix of the errors is correctly specified.<br/>[2] The condition number is large, 3.12e+03. This might indicate that there are<br/>strong multicollinearity or other numerical problems."
      ],
      "text/plain": [
       "<class 'statsmodels.iolib.summary.Summary'>\n",
       "\"\"\"\n",
       "                            OLS Regression Results                            \n",
       "==============================================================================\n",
       "Dep. Variable:                    TOV   R-squared:                       0.613\n",
       "Model:                            OLS   Adj. R-squared:                  0.567\n",
       "Method:                 Least Squares   F-statistic:                     13.46\n",
       "Date:                Fri, 03 Jun 2022   Prob (F-statistic):           1.12e-06\n",
       "Time:                        11:23:30   Log-Likelihood:                -153.60\n",
       "No. Observations:                  39   AIC:                             317.2\n",
       "Df Residuals:                      34   BIC:                             325.5\n",
       "Df Model:                           4                                         \n",
       "Covariance Type:            nonrobust                                         \n",
       "==============================================================================\n",
       "                 coef    std err          t      P>|t|      [0.025      0.975]\n",
       "------------------------------------------------------------------------------\n",
       "Intercept     15.6245     12.818      1.219      0.231     -10.425      41.674\n",
       "FG            -0.4395      0.195     -2.257      0.031      -0.835      -0.044\n",
       "FGA            0.3639      0.094      3.886      0.000       0.174       0.554\n",
       "TP            -0.0166      0.445     -0.037      0.970      -0.920       0.887\n",
       "TPA           -0.1238      0.185     -0.671      0.507      -0.499       0.252\n",
       "==============================================================================\n",
       "Omnibus:                        3.440   Durbin-Watson:                   2.027\n",
       "Prob(Omnibus):                  0.179   Jarque-Bera (JB):                1.779\n",
       "Skew:                           0.212   Prob(JB):                        0.411\n",
       "Kurtosis:                       2.043   Cond. No.                     3.12e+03\n",
       "==============================================================================\n",
       "\n",
       "Notes:\n",
       "[1] Standard Errors assume that the covariance matrix of the errors is correctly specified.\n",
       "[2] The condition number is large, 3.12e+03. This might indicate that there are\n",
       "strong multicollinearity or other numerical problems.\n",
       "\"\"\""
      ]
     },
     "execution_count": 271,
     "metadata": {},
     "output_type": "execute_result"
    }
   ],
   "source": [
    "formula = \"TOV ~ FG + FGA + TP + TPA\"\n",
    "results = smf.ols(formula, data=nbaDF).fit()\n",
    "results.summary()"
   ]
  }
 ],
 "metadata": {
  "kernelspec": {
   "display_name": "Python 3 (ipykernel)",
   "language": "python",
   "name": "python3"
  },
  "language_info": {
   "codemirror_mode": {
    "name": "ipython",
    "version": 3
   },
   "file_extension": ".py",
   "mimetype": "text/x-python",
   "name": "python",
   "nbconvert_exporter": "python",
   "pygments_lexer": "ipython3",
   "version": "3.9.7"
  }
 },
 "nbformat": 4,
 "nbformat_minor": 5
}
